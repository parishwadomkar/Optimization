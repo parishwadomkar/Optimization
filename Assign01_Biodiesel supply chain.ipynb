{
 "cells": [
  {
   "cell_type": "code",
   "execution_count": 1,
   "id": "f77926db",
   "metadata": {
    "ExecuteTime": {
     "end_time": "2023-04-26T14:53:46.959067Z",
     "start_time": "2023-04-26T14:53:44.558730Z"
    }
   },
   "outputs": [],
   "source": [
    "import pyomo.environ as pyo \n",
    "from pyomo.environ import *\n",
    "from pyomo.opt import SolverFactory\n",
    "import pandas as pd\n",
    "import os\n",
    "os.chdir('C:\\\\Users\\\\omkarp\\\\Downloads\\\\Optimize\\\\')"
   ]
  },
  {
   "cell_type": "markdown",
   "id": "e141fc31",
   "metadata": {},
   "source": [
    "# Assignment: Biodiesel supply chain"
   ]
  },
  {
   "cell_type": "markdown",
   "id": "7784a110",
   "metadata": {},
   "source": [
    "1. Formulate a model maximizing the profit from the production\n",
    "\n",
    "**Sets:** \n",
    "- Crops: {soybeans, sunflower seeds, cotton seeds} \n",
    "- Products: {B5, B30, B100}\n",
    "\n",
    "**Parameters for the model:**\n",
    "- Yield_Crop (tonnes/ha) = [2.6, 1.4, 0.9] (expected yield of crop in tonnes per hectare)\n",
    "- WaterDemand_cop (Ml/ha) = [5.0, 4.2, 1.0] (water demand of crop in megaliters per hectare)\n",
    "- OilContent_crop (l/kg) = [178, 216, 433] (oil content of crop in liters per tonne)\n",
    "- BiodieselBlend_Fuels (%) = [0.05, 0.3, 1] (percentage of biodiesel in blend)\n",
    "- FuelTax_Fuels (%) = [0.2, 0.05, 0] (tax share for each blend type)\n",
    "- FuelPrice_Fuels (€/l) = [1.43, 1.29, 1.16] (selling price of each biodiesel type in euros per liter)\n",
    "- BioDieselPerOil = 0.9\n",
    "- BioDieselPerMethanol = 0.9/0.2\n",
    "- MinFuelProd (l) = 280000 (minimum production to supply demand)\n",
    "- MaxWater (Ml) = 5000 (available water\n",
    "- MaxArea (ha) = 1600 (available land area)\n",
    "- MaxPetrolDieselBought (l)= 150000 (available fossil diesel)\n",
    "- MethanolPrice (€/l) = 1.5 (price of methanol in euros per liter)\n",
    "- PetrolDieselCost (€/l)  = 1 (price of fossil diesel in euros per liter)"
   ]
  },
  {
   "cell_type": "markdown",
   "id": "cbcef171",
   "metadata": {},
   "source": [
    "## Set Parameters"
   ]
  },
  {
   "cell_type": "code",
   "execution_count": 2,
   "id": "5439c37a",
   "metadata": {
    "ExecuteTime": {
     "end_time": "2023-04-26T14:53:47.374871Z",
     "start_time": "2023-04-26T14:53:46.959067Z"
    }
   },
   "outputs": [
    {
     "data": {
      "text/html": [
       "<div>\n",
       "<style scoped>\n",
       "    .dataframe tbody tr th:only-of-type {\n",
       "        vertical-align: middle;\n",
       "    }\n",
       "\n",
       "    .dataframe tbody tr th {\n",
       "        vertical-align: top;\n",
       "    }\n",
       "\n",
       "    .dataframe thead th {\n",
       "        text-align: right;\n",
       "    }\n",
       "</style>\n",
       "<table border=\"1\" class=\"dataframe\">\n",
       "  <thead>\n",
       "    <tr style=\"text-align: right;\">\n",
       "      <th></th>\n",
       "      <th>Crop</th>\n",
       "      <th>amount</th>\n",
       "      <th>water</th>\n",
       "      <th>oil</th>\n",
       "    </tr>\n",
       "  </thead>\n",
       "  <tbody>\n",
       "    <tr>\n",
       "      <th>0</th>\n",
       "      <td>Soy</td>\n",
       "      <td>2.6</td>\n",
       "      <td>5.0</td>\n",
       "      <td>0.178</td>\n",
       "    </tr>\n",
       "    <tr>\n",
       "      <th>1</th>\n",
       "      <td>Sunflower</td>\n",
       "      <td>1.4</td>\n",
       "      <td>4.2</td>\n",
       "      <td>0.216</td>\n",
       "    </tr>\n",
       "    <tr>\n",
       "      <th>2</th>\n",
       "      <td>Cotton</td>\n",
       "      <td>0.9</td>\n",
       "      <td>1.0</td>\n",
       "      <td>0.433</td>\n",
       "    </tr>\n",
       "  </tbody>\n",
       "</table>\n",
       "</div>"
      ],
      "text/plain": [
       "        Crop  amount  water    oil\n",
       "0        Soy     2.6    5.0  0.178\n",
       "1  Sunflower     1.4    4.2  0.216\n",
       "2     Cotton     0.9    1.0  0.433"
      ]
     },
     "execution_count": 2,
     "metadata": {},
     "output_type": "execute_result"
    }
   ],
   "source": [
    "crops_data = pd.read_excel('inputs.xlsx', sheet_name='crops')\n",
    "biodiesel_data = pd.read_excel('inputs.xlsx', sheet_name='biodiesel')\n",
    "crops_data.head()"
   ]
  },
  {
   "cell_type": "code",
   "execution_count": 3,
   "id": "edeee66a",
   "metadata": {
    "ExecuteTime": {
     "end_time": "2023-04-26T14:53:47.386838Z",
     "start_time": "2023-04-26T14:53:47.375997Z"
    }
   },
   "outputs": [
    {
     "name": "stdout",
     "output_type": "stream",
     "text": [
      "[2.6, 1.4, 0.9]\n"
     ]
    },
    {
     "data": {
      "text/html": [
       "<div>\n",
       "<style scoped>\n",
       "    .dataframe tbody tr th:only-of-type {\n",
       "        vertical-align: middle;\n",
       "    }\n",
       "\n",
       "    .dataframe tbody tr th {\n",
       "        vertical-align: top;\n",
       "    }\n",
       "\n",
       "    .dataframe thead th {\n",
       "        text-align: right;\n",
       "    }\n",
       "</style>\n",
       "<table border=\"1\" class=\"dataframe\">\n",
       "  <thead>\n",
       "    <tr style=\"text-align: right;\">\n",
       "      <th></th>\n",
       "      <th>Product</th>\n",
       "      <th>biodiesel</th>\n",
       "      <th>price</th>\n",
       "      <th>tax</th>\n",
       "    </tr>\n",
       "  </thead>\n",
       "  <tbody>\n",
       "    <tr>\n",
       "      <th>0</th>\n",
       "      <td>B5</td>\n",
       "      <td>5</td>\n",
       "      <td>1.43</td>\n",
       "      <td>20</td>\n",
       "    </tr>\n",
       "    <tr>\n",
       "      <th>1</th>\n",
       "      <td>B30</td>\n",
       "      <td>30</td>\n",
       "      <td>1.29</td>\n",
       "      <td>5</td>\n",
       "    </tr>\n",
       "    <tr>\n",
       "      <th>2</th>\n",
       "      <td>B100</td>\n",
       "      <td>100</td>\n",
       "      <td>1.16</td>\n",
       "      <td>0</td>\n",
       "    </tr>\n",
       "  </tbody>\n",
       "</table>\n",
       "</div>"
      ],
      "text/plain": [
       "  Product  biodiesel  price  tax\n",
       "0      B5          5   1.43   20\n",
       "1     B30         30   1.29    5\n",
       "2    B100        100   1.16    0"
      ]
     },
     "execution_count": 3,
     "metadata": {},
     "output_type": "execute_result"
    }
   ],
   "source": [
    "print([crops_data.amount[i] for i in crops_data.index])\n",
    "biodiesel_data.head()"
   ]
  },
  {
   "cell_type": "markdown",
   "id": "e1075e1e",
   "metadata": {},
   "source": [
    "### Setting model parameters"
   ]
  },
  {
   "cell_type": "code",
   "execution_count": 4,
   "id": "4bc918a2",
   "metadata": {
    "ExecuteTime": {
     "end_time": "2023-04-26T14:53:47.400157Z",
     "start_time": "2023-04-26T14:53:47.388948Z"
    }
   },
   "outputs": [],
   "source": [
    "# pyomo: concrete model\n",
    "model = pyo.ConcreteModel()\n",
    "\n",
    "# Sets\n",
    "model.Crops = Set(initialize=crops_data.set_index('Crop').index.tolist())\n",
    "model.Products = Set(initialize=biodiesel_data.set_index('Product').index.tolist())\n",
    "\n",
    "# Parameters\n",
    "model.Yield_Crop = Param(model.Crops, initialize=crops_data.set_index('Crop')['amount'].to_dict())\n",
    "model.WaterDemand_Crop = Param(model.Crops, initialize=crops_data.set_index('Crop')['water'].to_dict())\n",
    "model.OilContent_Crop = Param(model.Crops, initialize=crops_data.set_index('Crop')['oil'].to_dict())\n",
    "\n",
    "model.BiodieselBlend_Fuels = Param(model.Products, initialize=biodiesel_data.set_index('Product')['biodiesel'].to_dict())\n",
    "model.FuelPrice_Fuels = Param(model.Products, initialize=biodiesel_data.set_index('Product')['price'].to_dict())\n",
    "model.FuelTax_Fuels = Param(model.Products, initialize=biodiesel_data.set_index('Product')['tax'].to_dict())"
   ]
  },
  {
   "cell_type": "code",
   "execution_count": 5,
   "id": "ec6da4d2-17bf-4f86-9ff8-9a19a704cc05",
   "metadata": {
    "ExecuteTime": {
     "end_time": "2023-04-26T14:53:47.405388Z",
     "start_time": "2023-04-26T14:53:47.402271Z"
    }
   },
   "outputs": [
    {
     "name": "stdout",
     "output_type": "stream",
     "text": [
      "B5 20\n",
      "B30 5\n",
      "B100 0\n"
     ]
    }
   ],
   "source": [
    "for product in model.Products:\n",
    "    print(product, model.FuelTax_Fuels[product])"
   ]
  },
  {
   "cell_type": "code",
   "execution_count": 6,
   "id": "fecd4ef0-4332-4ebd-9b26-96dfe8928e1f",
   "metadata": {
    "ExecuteTime": {
     "end_time": "2023-04-26T14:53:47.410906Z",
     "start_time": "2023-04-26T14:53:47.405663Z"
    }
   },
   "outputs": [
    {
     "name": "stdout",
     "output_type": "stream",
     "text": [
      "Soy 0.178\n",
      "Sunflower 0.216\n",
      "Cotton 0.433\n"
     ]
    }
   ],
   "source": [
    "for crop in model.Crops:\n",
    "    print(crop, model.OilContent_Crop[crop])"
   ]
  },
  {
   "cell_type": "code",
   "execution_count": 7,
   "id": "e4ce0751",
   "metadata": {
    "ExecuteTime": {
     "end_time": "2023-04-26T14:53:47.416271Z",
     "start_time": "2023-04-26T14:53:47.411912Z"
    }
   },
   "outputs": [
    {
     "name": "stdout",
     "output_type": "stream",
     "text": [
      "0.9\n"
     ]
    }
   ],
   "source": [
    "# Other scalar parameters\n",
    "model.BioDieselPerMethanol = pyo.Param(initialize=0.2/0.9, mutable=True)\n",
    "model.BioDieselPerOil = pyo.Param(initialize=0.9, mutable=True) #1/0.9\n",
    "model.MinFuelProd = Param(initialize=280000)\n",
    "model.MaxWater = Param(initialize=5000)\n",
    "model.MaxArea = Param(initialize=1600)\n",
    "model.MaxPetrolDieselBought = Param(initialize=150000)\n",
    "model.MethanolPrice = Param(initialize=1.5)\n",
    "model.PetrolDieselCost = Param(initialize=1.0)\n",
    "\n",
    "# The values set here:\n",
    "print(model.BioDieselPerOil.value)"
   ]
  },
  {
   "cell_type": "markdown",
   "id": "465e6de1",
   "metadata": {},
   "source": [
    "## Set variables"
   ]
  },
  {
   "cell_type": "markdown",
   "id": "4508e403",
   "metadata": {
    "tags": []
   },
   "source": [
    "**Variables for the model:**\n",
    "- CropProd >= 0 (amount produced of each crop)\n",
    "- FuelProd >= 0 (amount produced of each fuel blend type)\n",
    "- VegOilProd >= 0 (amount of vegetable oil extracted from crop in liters)\n",
    "- BioDieselProd >= (0 amount of total biofuel produced)\n",
    "- DieselBought >= 0 (how much fossil diesel is purchased for blending into the end product)\n",
    "- Income (earnings from selling final product)\n",
    "- Cost (costs incurred from materials and tax)"
   ]
  },
  {
   "cell_type": "code",
   "execution_count": 8,
   "id": "6d0e2e04",
   "metadata": {
    "ExecuteTime": {
     "end_time": "2023-04-26T14:53:47.421869Z",
     "start_time": "2023-04-26T14:53:47.417277Z"
    }
   },
   "outputs": [],
   "source": [
    "model.CropProd = pyo.Var(model.Crops, bounds=(0, None))\n",
    "model.VegOilProd = pyo.Var(model.Crops, bounds=(0, None))\n",
    "model.FuelProd = pyo.Var(model.Products, bounds=(0, None))\n",
    "model.DieselBought = pyo.Var(bounds=(0, None))\n",
    "model.BioDieselProd = pyo.Var(within=pyo.NonNegativeReals)\n",
    "model.Income = pyo.Var(within=pyo.NonNegativeReals)\n",
    "model.Cost = pyo.Var(within=pyo.NonNegativeReals)\n",
    "\n",
    "# add non-negativity constraints\n",
    "model.CropProd.domain = pyo.NonNegativeReals\n",
    "model.VegOilProd.domain = pyo.NonNegativeReals\n",
    "model.FuelProd.domain = pyo.NonNegativeReals\n",
    "model.DieselBought.domain = pyo.NonNegativeReals"
   ]
  },
  {
   "cell_type": "markdown",
   "id": "61072bd5",
   "metadata": {},
   "source": [
    "## Set Constraints"
   ]
  },
  {
   "cell_type": "markdown",
   "id": "f2e71869",
   "metadata": {},
   "source": [
    "### **Land area constraint in hectares**"
   ]
  },
  {
   "cell_type": "markdown",
   "id": "0f3da1bf-2008-425c-a74c-535462e4dd80",
   "metadata": {},
   "source": [
    "$$\\begin{aligned}\n",
    "\\sum_{Crops}\\frac{CropProd_{Crops}}{Yield_{Crops}} \\leq MaxArea\n",
    "\\end{aligned}$$"
   ]
  },
  {
   "cell_type": "code",
   "execution_count": 9,
   "id": "0c244353-14f4-4407-8fdb-eb655a3bc1b0",
   "metadata": {
    "ExecuteTime": {
     "end_time": "2023-04-26T14:53:47.428329Z",
     "start_time": "2023-04-26T14:53:47.421869Z"
    }
   },
   "outputs": [],
   "source": [
    "model.land_area_constraint = pyo.Constraint(expr=sum(model.CropProd[crop] / model.Yield_Crop[crop] for crop in model.Crops) <= model.MaxArea)"
   ]
  },
  {
   "cell_type": "markdown",
   "id": "c7fa7760-7145-4080-b560-145a548b951e",
   "metadata": {},
   "source": [
    "### **Water availability constraints in Megaliters**"
   ]
  },
  {
   "cell_type": "markdown",
   "id": "ef99b10c-8f31-4c89-a21e-eca0fda7d2ed",
   "metadata": {},
   "source": [
    "$$\\begin{aligned}\n",
    "\\sum_{Crops}\\frac{CropProd_{Crops}}{Yield_{Crops}} \\cdot WaterDemand_{Crops} \\leq MaxWater\n",
    "\\end{aligned}$$"
   ]
  },
  {
   "cell_type": "code",
   "execution_count": 10,
   "id": "975ce2ad-e664-4165-95c2-a6fb97a60764",
   "metadata": {
    "ExecuteTime": {
     "end_time": "2023-04-26T14:53:47.435224Z",
     "start_time": "2023-04-26T14:53:47.430329Z"
    }
   },
   "outputs": [],
   "source": [
    "model.water_constraint = pyo.Constraint(expr=sum(model.CropProd[crop] / crops_data.loc[crops_data['Crop'] == crop, 'amount'].values[0] * crops_data.loc[crops_data['Crop'] == crop, 'water'].values[0] for crop in model.Crops) <= model.MaxWater)"
   ]
  },
  {
   "cell_type": "code",
   "execution_count": 11,
   "id": "92a8dfd7-962b-4e0a-b6fd-df34496c8f12",
   "metadata": {
    "ExecuteTime": {
     "end_time": "2023-04-26T14:53:47.439540Z",
     "start_time": "2023-04-26T14:53:47.436232Z"
    }
   },
   "outputs": [
    {
     "name": "stdout",
     "output_type": "stream",
     "text": [
      "CropProd[Soy]\n",
      "CropProd[Sunflower]\n",
      "CropProd[Cotton]\n"
     ]
    }
   ],
   "source": [
    "for crop in model.Crops: print(model.CropProd[crop])"
   ]
  },
  {
   "cell_type": "code",
   "execution_count": 12,
   "id": "aa7a85fb-621b-4cc4-ac50-cabe8dcf9186",
   "metadata": {
    "ExecuteTime": {
     "end_time": "2023-04-26T14:53:47.445892Z",
     "start_time": "2023-04-26T14:53:47.440549Z"
    }
   },
   "outputs": [
    {
     "name": "stdout",
     "output_type": "stream",
     "text": [
      "5.0\n",
      "4.2\n",
      "1.0\n"
     ]
    }
   ],
   "source": [
    "for crop in model.Crops: print(crops_data.loc[crops_data['Crop'] == crop, 'water'].values[0])"
   ]
  },
  {
   "cell_type": "markdown",
   "id": "03c711a2-9e4f-4f1b-b436-15c1d22cad2f",
   "metadata": {},
   "source": [
    "### **Total biodiesel in liter**"
   ]
  },
  {
   "cell_type": "markdown",
   "id": "95dd767a-f9b6-4569-80de-316704a3915a",
   "metadata": {},
   "source": [
    "$$\\begin{aligned}\n",
    "\\text{BioDieselProd}=\\sum_{\\text{Crops}}CropProd_{\\text{Crops}} \\cdot OilContent_{\\text{Crops}} \\cdot BioDieselPerOil\n",
    "\\end{aligned}$$"
   ]
  },
  {
   "cell_type": "code",
   "execution_count": 13,
   "id": "90abfcb8-e08a-455a-879a-be8306ab8246",
   "metadata": {
    "ExecuteTime": {
     "end_time": "2023-04-26T14:53:47.450334Z",
     "start_time": "2023-04-26T14:53:47.447902Z"
    }
   },
   "outputs": [],
   "source": [
    "# model.production_constraint = pyo.Constraint(expr=model.BioDieselProd == sum(1200* model.CropProd[crop] * crops_data.loc[crops_data['Crop'] == crop, 'oil'].values[0] * model.BioDieselPerOil for crop in model.Crops))"
   ]
  },
  {
   "cell_type": "code",
   "execution_count": 14,
   "id": "8c0adfd4",
   "metadata": {
    "ExecuteTime": {
     "end_time": "2023-04-26T14:53:47.457370Z",
     "start_time": "2023-04-26T14:53:47.452341Z"
    }
   },
   "outputs": [],
   "source": [
    "model.production_constraint = pyo.Constraint(expr=model.BioDieselProd == sum(1000* model.CropProd[crop] * crops_data.loc[crops_data['Crop'] == crop, 'oil'].values[0] * model.BioDieselPerOil for crop in model.Crops))"
   ]
  },
  {
   "cell_type": "code",
   "execution_count": 15,
   "id": "b5a99138-3443-45ec-824e-326c1e5300b8",
   "metadata": {
    "ExecuteTime": {
     "end_time": "2023-04-26T14:53:47.464059Z",
     "start_time": "2023-04-26T14:53:47.458229Z"
    }
   },
   "outputs": [
    {
     "name": "stdout",
     "output_type": "stream",
     "text": [
      "Soy 0.178\n",
      "Sunflower 0.216\n",
      "Cotton 0.433\n"
     ]
    }
   ],
   "source": [
    "for crop in model.Crops: print(crop, crops_data.loc[crops_data['Crop'] == crop, 'oil'].values[0])"
   ]
  },
  {
   "cell_type": "code",
   "execution_count": 16,
   "id": "c1a1e590-30c3-4b3a-a81c-53b994bd9deb",
   "metadata": {
    "ExecuteTime": {
     "end_time": "2023-04-26T14:53:47.468290Z",
     "start_time": "2023-04-26T14:53:47.464059Z"
    }
   },
   "outputs": [
    {
     "name": "stdout",
     "output_type": "stream",
     "text": [
      "0.9\n"
     ]
    }
   ],
   "source": [
    "print(model.BioDieselPerOil.value) #1/0,9"
   ]
  },
  {
   "cell_type": "code",
   "execution_count": 17,
   "id": "1e5b5840-c648-4bf7-9d2b-499a7a7bf68b",
   "metadata": {
    "ExecuteTime": {
     "end_time": "2023-04-26T14:53:47.472440Z",
     "start_time": "2023-04-26T14:53:47.468290Z"
    }
   },
   "outputs": [
    {
     "name": "stdout",
     "output_type": "stream",
     "text": [
      "None\n"
     ]
    }
   ],
   "source": [
    "print(model.BioDieselProd.value)"
   ]
  },
  {
   "cell_type": "markdown",
   "id": "381fc8ab-5611-42e2-85de-593395ea212d",
   "metadata": {
    "tags": []
   },
   "source": [
    "### **Petroldiesel for blending in liters**"
   ]
  },
  {
   "cell_type": "markdown",
   "id": "baba17a0-8918-4a5a-88fe-671d61c1eba8",
   "metadata": {},
   "source": [
    "$$\\begin{aligned}\n",
    "MaxPetrolDieselBought \\geq \\sum_{Fuels} FuelProd_{Fuels} \\cdot (1 - BioShare_{Fuels})\n",
    "\\end{aligned}$$"
   ]
  },
  {
   "cell_type": "code",
   "execution_count": 18,
   "id": "60f1a453-bb73-445c-9d50-59baf958904e",
   "metadata": {
    "ExecuteTime": {
     "end_time": "2023-04-26T14:53:47.478183Z",
     "start_time": "2023-04-26T14:53:47.474329Z"
    }
   },
   "outputs": [],
   "source": [
    "model.blending_constraint1 = pyo.Constraint(expr= model.MaxPetrolDieselBought >= sum(model.FuelProd[fuel] * (1- biodiesel_data.loc[biodiesel_data['Product'] == fuel, 'biodiesel'].values[0] / 100) for fuel in model.Products))"
   ]
  },
  {
   "cell_type": "code",
   "execution_count": 19,
   "id": "03e1db8b-cde9-4f2a-ab46-a6af3013a8dc",
   "metadata": {
    "ExecuteTime": {
     "end_time": "2023-04-26T14:53:47.483843Z",
     "start_time": "2023-04-26T14:53:47.479191Z"
    }
   },
   "outputs": [
    {
     "name": "stdout",
     "output_type": "stream",
     "text": [
      "0.95\n",
      "0.7\n",
      "0.0\n"
     ]
    }
   ],
   "source": [
    " for fuel in model.Products: print(1 - biodiesel_data.loc[biodiesel_data['Product'] == fuel, 'biodiesel'].values[0] / 100)"
   ]
  },
  {
   "cell_type": "code",
   "execution_count": 20,
   "id": "4ea69702-50c5-4ae2-8412-183636c14386",
   "metadata": {
    "ExecuteTime": {
     "end_time": "2023-04-26T14:53:47.488883Z",
     "start_time": "2023-04-26T14:53:47.483843Z"
    }
   },
   "outputs": [
    {
     "name": "stdout",
     "output_type": "stream",
     "text": [
      "150000\n"
     ]
    }
   ],
   "source": [
    "print(model.MaxPetrolDieselBought.value) "
   ]
  },
  {
   "cell_type": "code",
   "execution_count": 21,
   "id": "0beabdba-d2bf-48a7-bb97-3bf224e921e3",
   "metadata": {
    "ExecuteTime": {
     "end_time": "2023-04-26T14:53:47.494208Z",
     "start_time": "2023-04-26T14:53:47.488883Z"
    }
   },
   "outputs": [
    {
     "name": "stdout",
     "output_type": "stream",
     "text": [
      "0.05\n",
      "0.3\n",
      "1.0\n"
     ]
    }
   ],
   "source": [
    "for fuel in model.Products: print(biodiesel_data.loc[biodiesel_data['Product'] == fuel, 'biodiesel'].values[0] / 100)"
   ]
  },
  {
   "cell_type": "code",
   "execution_count": 22,
   "id": "3df35d5c-efad-47fd-b035-5f6550668d89",
   "metadata": {
    "ExecuteTime": {
     "end_time": "2023-04-26T14:53:47.498455Z",
     "start_time": "2023-04-26T14:53:47.495218Z"
    }
   },
   "outputs": [
    {
     "name": "stdout",
     "output_type": "stream",
     "text": [
      "FuelProd[B5]\n",
      "FuelProd[B30]\n",
      "FuelProd[B100]\n"
     ]
    }
   ],
   "source": [
    "for fuel in model.Products: print(model.FuelProd[fuel])"
   ]
  },
  {
   "cell_type": "markdown",
   "id": "f22365fc-69a8-4eb2-903f-dee28d1e1b1c",
   "metadata": {},
   "source": [
    "### **Available Petroldiesel**"
   ]
  },
  {
   "cell_type": "markdown",
   "id": "ce1a5468-9878-4e81-a3fe-bc79648abf60",
   "metadata": {},
   "source": [
    "$$\\begin{aligned}\n",
    "BioDieselProd \\geq \\sum_{Fuels} FuelProd_{Fuels} \\cdot (BioShare_{Fuels})\n",
    "\\end{aligned}$$"
   ]
  },
  {
   "cell_type": "code",
   "execution_count": 23,
   "id": "394a7584-ac54-4d11-a85e-d0f162093b04",
   "metadata": {
    "ExecuteTime": {
     "end_time": "2023-04-26T14:53:47.503645Z",
     "start_time": "2023-04-26T14:53:47.499464Z"
    }
   },
   "outputs": [],
   "source": [
    "model.blending_constraint2 = pyo.Constraint(expr= model.BioDieselProd >= sum(model.FuelProd[fuel] * (biodiesel_data.loc[biodiesel_data['Product'] == fuel, 'biodiesel'].values[0] / 100) for fuel in model.Products))"
   ]
  },
  {
   "cell_type": "code",
   "execution_count": 24,
   "id": "e3bf3af2-20aa-416b-bec2-392c6e2fa434",
   "metadata": {
    "ExecuteTime": {
     "end_time": "2023-04-26T14:53:47.508582Z",
     "start_time": "2023-04-26T14:53:47.504651Z"
    }
   },
   "outputs": [
    {
     "name": "stdout",
     "output_type": "stream",
     "text": [
      "0.05\n",
      "0.3\n",
      "1.0\n"
     ]
    }
   ],
   "source": [
    "for fuel in model.Products: print(biodiesel_data.loc[biodiesel_data['Product'] == fuel, 'biodiesel'].values[0] / 100)"
   ]
  },
  {
   "cell_type": "markdown",
   "id": "f9c4eac9-328f-483a-8365-9018fd92322f",
   "metadata": {
    "tags": []
   },
   "source": [
    "### **Fuel production**"
   ]
  },
  {
   "cell_type": "markdown",
   "id": "25d27670-fe28-4932-b4fb-1d9c1032547c",
   "metadata": {},
   "source": [
    "$$\\begin{aligned}\n",
    "\\sum_{Fuels} FuelProd_{Fuels} \\geq MinFuelProd\n",
    "\\end{aligned}$$"
   ]
  },
  {
   "cell_type": "code",
   "execution_count": 25,
   "id": "b493c54c-d085-4db1-aa44-179ff73c1a68",
   "metadata": {
    "ExecuteTime": {
     "end_time": "2023-04-26T14:53:47.514281Z",
     "start_time": "2023-04-26T14:53:47.510248Z"
    }
   },
   "outputs": [],
   "source": [
    "model.fuel_production_constraint = pyo.Constraint(expr=sum(model.FuelProd[fuel] for fuel in model.Products) >= model.MinFuelProd)"
   ]
  },
  {
   "cell_type": "code",
   "execution_count": 26,
   "id": "f71ba7ac-8e5a-431d-973e-2437d5d9df52",
   "metadata": {
    "ExecuteTime": {
     "end_time": "2023-04-26T14:53:47.519279Z",
     "start_time": "2023-04-26T14:53:47.514281Z"
    }
   },
   "outputs": [
    {
     "data": {
      "text/plain": [
       "280000"
      ]
     },
     "execution_count": 26,
     "metadata": {},
     "output_type": "execute_result"
    }
   ],
   "source": [
    "model.MinFuelProd.value"
   ]
  },
  {
   "cell_type": "code",
   "execution_count": 27,
   "id": "807a5211-c1a3-47cb-9430-22c149200be3",
   "metadata": {
    "ExecuteTime": {
     "end_time": "2023-04-26T14:53:47.523551Z",
     "start_time": "2023-04-26T14:53:47.519279Z"
    }
   },
   "outputs": [
    {
     "name": "stdout",
     "output_type": "stream",
     "text": [
      "FuelProd[B5]\n",
      "FuelProd[B30]\n",
      "FuelProd[B100]\n"
     ]
    }
   ],
   "source": [
    "for fuel in model.Products: print(model.FuelProd[fuel])"
   ]
  },
  {
   "cell_type": "markdown",
   "id": "64d0bfa0-3024-4745-975f-cd5ef5adcc49",
   "metadata": {
    "tags": []
   },
   "source": [
    "### **Petroldiesel in liters**"
   ]
  },
  {
   "cell_type": "code",
   "execution_count": 28,
   "id": "89b130b7-9360-454f-85c8-44fd938590e8",
   "metadata": {
    "ExecuteTime": {
     "end_time": "2023-04-26T14:53:47.529581Z",
     "start_time": "2023-04-26T14:53:47.526768Z"
    }
   },
   "outputs": [
    {
     "name": "stdout",
     "output_type": "stream",
     "text": [
      "1.0\n"
     ]
    }
   ],
   "source": [
    "print(model.PetrolDieselCost.value)"
   ]
  },
  {
   "cell_type": "markdown",
   "id": "5f5a4463-cabc-46ea-8e77-81b85d042045",
   "metadata": {},
   "source": [
    "$$\\begin{aligned}\n",
    "DieselBought\\geq\\sum_{Fuels}FuelProd_{Fuels}(1-BioShare_{Fuels})\n",
    "\\end{aligned}$$"
   ]
  },
  {
   "cell_type": "code",
   "execution_count": 29,
   "id": "25fdcc79-9381-4b63-a92e-5c678be7371c",
   "metadata": {
    "ExecuteTime": {
     "end_time": "2023-04-26T14:53:47.535168Z",
     "start_time": "2023-04-26T14:53:47.531590Z"
    }
   },
   "outputs": [],
   "source": [
    "model.diesel_constraint = pyo.Constraint(expr=model.DieselBought >= sum(model.FuelProd[fuel] * (1 - biodiesel_data.loc[biodiesel_data['Product'] == fuel, 'biodiesel'].values[0] / 100) for fuel in model.Products))"
   ]
  },
  {
   "cell_type": "code",
   "execution_count": 30,
   "id": "3c0bb850-2c15-477b-9e5e-fafe922fbf2a",
   "metadata": {
    "ExecuteTime": {
     "end_time": "2023-04-26T14:53:47.539260Z",
     "start_time": "2023-04-26T14:53:47.536176Z"
    }
   },
   "outputs": [
    {
     "name": "stdout",
     "output_type": "stream",
     "text": [
      "None\n"
     ]
    }
   ],
   "source": [
    "print(model.DieselBought.value)   #Variable for actual amount less than 150000"
   ]
  },
  {
   "cell_type": "markdown",
   "id": "359359e3-c650-4b24-ac74-5cfa0c51e830",
   "metadata": {
    "tags": []
   },
   "source": [
    "### **Petroldiesel**"
   ]
  },
  {
   "cell_type": "markdown",
   "id": "ec4b791d-a1a0-4971-8e38-00f8adcf5b74",
   "metadata": {},
   "source": [
    "$$\\begin{aligned}\n",
    "DieselBought \\leq MaxPetrolDieselBought\n",
    "\\end{aligned}$$"
   ]
  },
  {
   "cell_type": "code",
   "execution_count": 31,
   "id": "69072565-5b12-48c2-aece-82ff73d47bbc",
   "metadata": {
    "ExecuteTime": {
     "end_time": "2023-04-26T14:53:47.543752Z",
     "start_time": "2023-04-26T14:53:47.540266Z"
    }
   },
   "outputs": [],
   "source": [
    "model.max_diesel_constraint = pyo.Constraint(expr=model.DieselBought <= model.MaxPetrolDieselBought)"
   ]
  },
  {
   "cell_type": "markdown",
   "id": "af8b6638-be9a-4812-a9db-7b1f7df588ac",
   "metadata": {
    "tags": []
   },
   "source": [
    "### **Income**"
   ]
  },
  {
   "cell_type": "markdown",
   "id": "fe98b303-4cf3-4c32-a7af-ecf7ce1de155",
   "metadata": {},
   "source": [
    "$$\\begin{aligned}\n",
    "Income=\\sum_{Fuels} FuelProd_{Fuels} \\cdot Price_{Fuels} \\cdot (1-FuelTax_{Fuels})\n",
    "\\end{aligned}$$"
   ]
  },
  {
   "cell_type": "code",
   "execution_count": 32,
   "id": "5421ce15-cd9b-4663-9d6e-1641fe8ad591",
   "metadata": {
    "ExecuteTime": {
     "end_time": "2023-04-26T14:53:47.550278Z",
     "start_time": "2023-04-26T14:53:47.545759Z"
    }
   },
   "outputs": [],
   "source": [
    "model.income_constraint = pyo.Constraint(expr=model.Income == sum(model.FuelProd[fuel] * biodiesel_data.loc[biodiesel_data['Product'] == fuel, 'price'].values[0] * (1 - (biodiesel_data.loc[biodiesel_data['Product'] == fuel, 'tax'].values[0]/100)) for fuel in model.Products))"
   ]
  },
  {
   "cell_type": "code",
   "execution_count": 33,
   "id": "971a1e26-4a13-44c0-8c13-8b15397d94a0",
   "metadata": {
    "ExecuteTime": {
     "end_time": "2023-04-26T14:53:47.556908Z",
     "start_time": "2023-04-26T14:53:47.551314Z"
    }
   },
   "outputs": [
    {
     "name": "stdout",
     "output_type": "stream",
     "text": [
      "1.43\n",
      "1.29\n",
      "1.16\n"
     ]
    }
   ],
   "source": [
    "for fuel in model.Products: print(biodiesel_data.loc[biodiesel_data['Product'] == fuel, 'price'].values[0])"
   ]
  },
  {
   "cell_type": "code",
   "execution_count": 34,
   "id": "0ec0c993-016d-4c96-a1b5-d88e284451a1",
   "metadata": {
    "ExecuteTime": {
     "end_time": "2023-04-26T14:53:47.562881Z",
     "start_time": "2023-04-26T14:53:47.558063Z"
    },
    "tags": []
   },
   "outputs": [
    {
     "name": "stdout",
     "output_type": "stream",
     "text": [
      "0.8\n",
      "0.95\n",
      "1.0\n"
     ]
    }
   ],
   "source": [
    "for fuel in model.Products: print(1 - (biodiesel_data.loc[biodiesel_data['Product'] == fuel, 'tax'].values[0]/100))"
   ]
  },
  {
   "cell_type": "markdown",
   "id": "96522bad-04b4-41c1-885b-3bcc73411783",
   "metadata": {
    "tags": []
   },
   "source": [
    "### **Cost**"
   ]
  },
  {
   "cell_type": "markdown",
   "id": "afaf9ca2-c5b1-42ab-911d-0d314237a0cb",
   "metadata": {
    "tags": []
   },
   "source": [
    "$$\\begin{aligned}\n",
    "Cost = {MethanolPrice \\cdot (VegOilProd \\cdot 0.2)} + DieselBought \\cdot PetrolDieselCost\n",
    "\\end{aligned}$$"
   ]
  },
  {
   "cell_type": "code",
   "execution_count": 35,
   "id": "505208ca",
   "metadata": {
    "ExecuteTime": {
     "end_time": "2023-04-26T14:53:47.567160Z",
     "start_time": "2023-04-26T14:53:47.563887Z"
    }
   },
   "outputs": [],
   "source": [
    "model.cost_constraint = pyo.Constraint(expr=model.Cost == (sum(model.MethanolPrice * 0.2*(model.CropProd[crop] * model.OilContent_Crop[crop] * 1000) for crop in model.Crops) + (model.DieselBought * model.PetrolDieselCost)))"
   ]
  },
  {
   "cell_type": "code",
   "execution_count": 36,
   "id": "e722dd71-858d-410f-9dd6-26e990ec1e71",
   "metadata": {
    "ExecuteTime": {
     "end_time": "2023-04-26T14:53:47.571583Z",
     "start_time": "2023-04-26T14:53:47.568171Z"
    }
   },
   "outputs": [
    {
     "name": "stdout",
     "output_type": "stream",
     "text": [
      "0.22222222222222224\n"
     ]
    }
   ],
   "source": [
    "print(model.BioDieselPerMethanol.value)    #(0,2/0,9)"
   ]
  },
  {
   "cell_type": "code",
   "execution_count": 37,
   "id": "7514523b-b141-4ea8-9a5e-a0807aaf6009",
   "metadata": {
    "ExecuteTime": {
     "end_time": "2023-04-26T14:53:47.577333Z",
     "start_time": "2023-04-26T14:53:47.573590Z"
    },
    "tags": []
   },
   "outputs": [
    {
     "name": "stdout",
     "output_type": "stream",
     "text": [
      "53.400000000000006*CropProd[Soy]\n",
      "64.80000000000001*CropProd[Sunflower]\n",
      "129.9*CropProd[Cotton]\n"
     ]
    }
   ],
   "source": [
    "for crop in model.Crops: print(model.MethanolPrice *0.2*(model.CropProd[crop] * model.OilContent_Crop[crop] * 1000))"
   ]
  },
  {
   "cell_type": "markdown",
   "id": "6571095c",
   "metadata": {},
   "source": [
    "## Set Objective Function"
   ]
  },
  {
   "cell_type": "markdown",
   "id": "6b1a5605",
   "metadata": {},
   "source": [
    "**To maximize the profit from biodiesel production:**\n",
    "\n",
    "$$\\begin{aligned}\n",
    "Maximize\\ (Income - Cost)\n",
    "\\end{aligned}$$\n"
   ]
  },
  {
   "cell_type": "code",
   "execution_count": 38,
   "id": "e7e28ed3",
   "metadata": {
    "ExecuteTime": {
     "end_time": "2023-04-26T14:53:47.581431Z",
     "start_time": "2023-04-26T14:53:47.578339Z"
    }
   },
   "outputs": [],
   "source": [
    "model.profit = pyo.Objective(expr = model.Income - model.Cost, sense=pyo.maximize)"
   ]
  },
  {
   "cell_type": "code",
   "execution_count": 39,
   "id": "4952129e",
   "metadata": {
    "ExecuteTime": {
     "end_time": "2023-04-26T14:53:48.038369Z",
     "start_time": "2023-04-26T14:53:47.582440Z"
    }
   },
   "outputs": [],
   "source": [
    "# Solve the model\n",
    "solver = SolverFactory('gurobi')\n",
    "results = solver.solve(model)"
   ]
  },
  {
   "cell_type": "markdown",
   "id": "3f5ff3ef",
   "metadata": {},
   "source": [
    "## Results"
   ]
  },
  {
   "cell_type": "code",
   "execution_count": 40,
   "id": "bc1bf7d6",
   "metadata": {
    "ExecuteTime": {
     "end_time": "2023-04-26T14:53:48.047939Z",
     "start_time": "2023-04-26T14:53:48.040418Z"
    }
   },
   "outputs": [
    {
     "name": "stdout",
     "output_type": "stream",
     "text": [
      "\n",
      "Crop Production:\n",
      "Soy : 2210.00 tons \t over land area:  850.0 Ha \t Producing oil:  393380.00 liters \t required water:  4250.0 Ml\n",
      "Sunflower : 0.00 tons \t over land area:  0.0 Ha \t Producing oil:  0.00 liters \t required water:  0.0 Ml\n",
      "Cotton : 675.00 tons \t over land area:  750.0 Ha \t Producing oil:  292275.00 liters \t required water:  750.0 Ml\n"
     ]
    }
   ],
   "source": [
    "print('\\nCrop Production:')\n",
    "for crop in model.Crops:\n",
    "    print(crop, ':', \"%.2f\" %pyo.value(model.CropProd[crop]), 'tons', '\\t over land area: ',\n",
    "          (pyo.value(model.CropProd[crop])/crops_data.loc[crops_data['Crop']==crop,'amount'].values[0]),'Ha','\\t Producing oil: ',\n",
    "         \"%.2f\" %(pyo.value(model.CropProd[crop])*1000*crops_data.loc[crops_data['Crop'] == crop, 'oil'].values[0]), 'liters','\\t required water: ',\n",
    "         ((pyo.value(model.CropProd[crop])/crops_data.loc[crops_data['Crop']==crop,'amount'].values[0])*(crops_data.loc[crops_data['Crop']==crop,'water'].values[0])),'Ml')"
   ]
  },
  {
   "cell_type": "code",
   "execution_count": 41,
   "id": "0fd94e59",
   "metadata": {
    "ExecuteTime": {
     "end_time": "2023-04-26T14:53:48.054570Z",
     "start_time": "2023-04-26T14:53:48.048946Z"
    },
    "scrolled": true
   },
   "outputs": [
    {
     "name": "stdout",
     "output_type": "stream",
     "text": [
      "\n",
      "Oil Production:\n",
      "Soy : 393380.0 liters \t producing biodiesel:  354042.00 liters \t(using methanol:  78676.0 liters)\n",
      "Sunflower : 0.0 liters \t producing biodiesel:  0.00 liters \t(using methanol:  0.0 liters)\n",
      "Cotton : 292275.0 liters \t producing biodiesel:  263047.50 liters \t(using methanol:  58455.0 liters)\n",
      "\n",
      "Total Veg Oil Production: 685655.00 liters\n",
      "\n",
      "Total Methanol Required: 137131.00 liters\n",
      "\n",
      "Total BioDiesel Production: 617089.50 liters\n"
     ]
    }
   ],
   "source": [
    "print('\\nOil Production:')\n",
    "for crop in model.Crops:\n",
    "    veg_oil_prod = (model.CropProd[crop].value * model.OilContent_Crop[crop] * 1000)\n",
    "    model.VegOilProd[crop].set_value(veg_oil_prod)\n",
    "    print(crop, ':', veg_oil_prod, 'liters', '\\t producing biodiesel: ', \"%.2f\" %((veg_oil_prod)*0.9), \n",
    "          'liters', '\\t(using methanol: ', (veg_oil_prod*0.2), 'liters)')\n",
    "    \n",
    "total_VegOil_prod = sum(pyo.value(model.VegOilProd[crop]) for crop in model.Crops)\n",
    "print('\\nTotal Veg Oil Production:', \"%.2f\" %total_VegOil_prod, 'liters')\n",
    "\n",
    "methanol_required = 0.2 * total_VegOil_prod\n",
    "print('\\nTotal Methanol Required:', \"%.2f\" %methanol_required, 'liters')\n",
    "\n",
    "total_biofuel_prod = (total_VegOil_prod*0.9)\n",
    "print('\\nTotal BioDiesel Production:', \"%.2f\" %total_biofuel_prod, 'liters')"
   ]
  },
  {
   "cell_type": "code",
   "execution_count": 42,
   "id": "78351ddf",
   "metadata": {
    "ExecuteTime": {
     "end_time": "2023-04-26T14:53:48.064059Z",
     "start_time": "2023-04-26T14:53:48.055578Z"
    }
   },
   "outputs": [
    {
     "name": "stdout",
     "output_type": "stream",
     "text": [
      "\n",
      "Fuel Production:\n",
      "B5 : 0.00 liters \t(with biofuel content:  0.00 liters) \tIncome:  0.00 Euro\n",
      "B30 : 214285.71 liters \t(with biofuel content:  64285.71 liters) \tIncome:  262607.14 Euro\n",
      "B100 : 552803.79 liters \t(with biofuel content:  552803.79 liters) \tIncome:  641252.39 Euro\n",
      "\n",
      "Crosscheck BioDiesel Production: 617089.5 liters\n",
      "\n",
      "BioDiesel Production: 617089.50 liters\n",
      "\n",
      "Total Fuel Production: 767089.50 liters\n"
     ]
    }
   ],
   "source": [
    "print('\\nFuel Production:')\n",
    "for fuel in model.Products:\n",
    "    print(fuel, ':', \"%.2f\" %pyo.value(model.FuelProd[fuel]), 'liters', '\\t(with biofuel content: ',\"%.2f\" %(pyo.value(model.FuelProd[fuel])*(biodiesel_data.loc[biodiesel_data['Product'] == fuel, 'biodiesel'].values[0]/100)), 'liters)', '\\tIncome: ', \"%.2f\" %(pyo.value(model.FuelProd[fuel])*(biodiesel_data.loc[biodiesel_data['Product'] == fuel, 'price'].values[0] * (1 - (biodiesel_data.loc[biodiesel_data['Product'] == fuel, 'tax'].values[0]/100)))),'Euro')\n",
    "    \n",
    "print('\\nCrosscheck BioDiesel Production:', sum(pyo.value(model.FuelProd[fuel])*(biodiesel_data.loc[biodiesel_data['Product'] == fuel, 'biodiesel'].values[0]/100) for fuel in model.Products), 'liters')\n",
    "print('\\nBioDiesel Production:', \"%.2f\" %pyo.value(model.BioDieselProd), 'liters')\n",
    "\n",
    "total_fuel_prod = sum(pyo.value(model.FuelProd[fuel]) for fuel in model.Products)\n",
    "print('\\nTotal Fuel Production:', \"%.2f\" %total_fuel_prod, 'liters')"
   ]
  },
  {
   "cell_type": "code",
   "execution_count": 43,
   "id": "f9add7dd",
   "metadata": {
    "ExecuteTime": {
     "end_time": "2023-04-26T14:53:48.069176Z",
     "start_time": "2023-04-26T14:53:48.065068Z"
    }
   },
   "outputs": [
    {
     "name": "stdout",
     "output_type": "stream",
     "text": [
      "Optimal Cost: 355696.50 Euro\n",
      "Optimal Income: 903859.53 Euro\n",
      "Optimal profit (I-C): 548163.03 Euro\n"
     ]
    }
   ],
   "source": [
    "# Print the results\n",
    "print('Optimal Cost:', \"%.2f\" %pyo.value(model.Cost),'Euro')\n",
    "print('Optimal Income:', \"%.2f\" %pyo.value(model.Income),'Euro')\n",
    "print('Optimal profit (I-C):', \"%.2f\" %pyo.value(model.profit),'Euro')"
   ]
  },
  {
   "cell_type": "code",
   "execution_count": 44,
   "id": "8b3e0004",
   "metadata": {
    "ExecuteTime": {
     "end_time": "2023-04-26T14:53:48.073727Z",
     "start_time": "2023-04-26T14:53:48.069176Z"
    }
   },
   "outputs": [],
   "source": [
    "# model.pprint()"
   ]
  },
  {
   "cell_type": "markdown",
   "id": "55b0879a",
   "metadata": {},
   "source": [
    "# Sensitivity Analysis"
   ]
  },
  {
   "cell_type": "markdown",
   "id": "0c1ff886",
   "metadata": {},
   "source": [
    "## Model feasibility for variations in petrol diesel, water, and area availability"
   ]
  },
  {
   "cell_type": "code",
   "execution_count": 45,
   "id": "c90a6ccd",
   "metadata": {
    "ExecuteTime": {
     "end_time": "2023-04-26T14:53:48.105281Z",
     "start_time": "2023-04-26T14:53:48.075337Z"
    }
   },
   "outputs": [
    {
     "data": {
      "text/html": [
       "<div>\n",
       "<style scoped>\n",
       "    .dataframe tbody tr th:only-of-type {\n",
       "        vertical-align: middle;\n",
       "    }\n",
       "\n",
       "    .dataframe tbody tr th {\n",
       "        vertical-align: top;\n",
       "    }\n",
       "\n",
       "    .dataframe thead th {\n",
       "        text-align: right;\n",
       "    }\n",
       "</style>\n",
       "<table border=\"1\" class=\"dataframe\">\n",
       "  <thead>\n",
       "    <tr style=\"text-align: right;\">\n",
       "      <th></th>\n",
       "      <th>% Variation</th>\n",
       "      <th>PetrolDiesel</th>\n",
       "      <th>Water</th>\n",
       "      <th>Land</th>\n",
       "      <th>pdVar</th>\n",
       "      <th>watVar</th>\n",
       "      <th>landVar</th>\n",
       "    </tr>\n",
       "  </thead>\n",
       "  <tbody>\n",
       "    <tr>\n",
       "      <th>0</th>\n",
       "      <td>-100</td>\n",
       "      <td>0.0</td>\n",
       "      <td>0.0</td>\n",
       "      <td>0.0</td>\n",
       "      <td>NaN</td>\n",
       "      <td>NaN</td>\n",
       "      <td>NaN</td>\n",
       "    </tr>\n",
       "    <tr>\n",
       "      <th>1</th>\n",
       "      <td>-95</td>\n",
       "      <td>7500.0</td>\n",
       "      <td>250.0</td>\n",
       "      <td>80.0</td>\n",
       "      <td>NaN</td>\n",
       "      <td>NaN</td>\n",
       "      <td>NaN</td>\n",
       "    </tr>\n",
       "    <tr>\n",
       "      <th>2</th>\n",
       "      <td>-90</td>\n",
       "      <td>15000.0</td>\n",
       "      <td>500.0</td>\n",
       "      <td>160.0</td>\n",
       "      <td>NaN</td>\n",
       "      <td>NaN</td>\n",
       "      <td>NaN</td>\n",
       "    </tr>\n",
       "    <tr>\n",
       "      <th>3</th>\n",
       "      <td>-85</td>\n",
       "      <td>22500.0</td>\n",
       "      <td>750.0</td>\n",
       "      <td>240.0</td>\n",
       "      <td>NaN</td>\n",
       "      <td>NaN</td>\n",
       "      <td>NaN</td>\n",
       "    </tr>\n",
       "    <tr>\n",
       "      <th>4</th>\n",
       "      <td>-80</td>\n",
       "      <td>30000.0</td>\n",
       "      <td>1000.0</td>\n",
       "      <td>320.0</td>\n",
       "      <td>NaN</td>\n",
       "      <td>NaN</td>\n",
       "      <td>NaN</td>\n",
       "    </tr>\n",
       "  </tbody>\n",
       "</table>\n",
       "</div>"
      ],
      "text/plain": [
       "   % Variation  PetrolDiesel   Water   Land  pdVar  watVar  landVar\n",
       "0         -100           0.0     0.0    0.0    NaN     NaN      NaN\n",
       "1          -95        7500.0   250.0   80.0    NaN     NaN      NaN\n",
       "2          -90       15000.0   500.0  160.0    NaN     NaN      NaN\n",
       "3          -85       22500.0   750.0  240.0    NaN     NaN      NaN\n",
       "4          -80       30000.0  1000.0  320.0    NaN     NaN      NaN"
      ]
     },
     "execution_count": 45,
     "metadata": {},
     "output_type": "execute_result"
    }
   ],
   "source": [
    "df = pd.read_excel('SA.xlsx', sheet_name='profit') #profit\n",
    "crops_data = pd.read_excel('inputs.xlsx', sheet_name='crops')\n",
    "biodiesel_data = pd.read_excel('inputs.xlsx', sheet_name='biodiesel')\n",
    "df.head()"
   ]
  },
  {
   "cell_type": "code",
   "execution_count": 53,
   "id": "7a4dfc2f",
   "metadata": {
    "ExecuteTime": {
     "end_time": "2023-04-26T14:58:24.227248Z",
     "start_time": "2023-04-26T14:58:20.408300Z"
    },
    "scrolled": true
   },
   "outputs": [
    {
     "data": {
      "text/html": [
       "<div>\n",
       "<style scoped>\n",
       "    .dataframe tbody tr th:only-of-type {\n",
       "        vertical-align: middle;\n",
       "    }\n",
       "\n",
       "    .dataframe tbody tr th {\n",
       "        vertical-align: top;\n",
       "    }\n",
       "\n",
       "    .dataframe thead th {\n",
       "        text-align: right;\n",
       "    }\n",
       "</style>\n",
       "<table border=\"1\" class=\"dataframe\">\n",
       "  <thead>\n",
       "    <tr style=\"text-align: right;\">\n",
       "      <th></th>\n",
       "      <th>% Variation</th>\n",
       "      <th>PetrolDiesel</th>\n",
       "      <th>Water</th>\n",
       "      <th>Land</th>\n",
       "      <th>pdVar</th>\n",
       "      <th>watVar</th>\n",
       "      <th>landVar</th>\n",
       "    </tr>\n",
       "  </thead>\n",
       "  <tbody>\n",
       "    <tr>\n",
       "      <th>0</th>\n",
       "      <td>-100</td>\n",
       "      <td>0.0</td>\n",
       "      <td>0.0</td>\n",
       "      <td>0.0</td>\n",
       "      <td>510127.320000</td>\n",
       "      <td>infeasible</td>\n",
       "      <td>infeasible</td>\n",
       "    </tr>\n",
       "    <tr>\n",
       "      <th>1</th>\n",
       "      <td>-95</td>\n",
       "      <td>7500.0</td>\n",
       "      <td>250.0</td>\n",
       "      <td>80.0</td>\n",
       "      <td>512029.105714</td>\n",
       "      <td>infeasible</td>\n",
       "      <td>infeasible</td>\n",
       "    </tr>\n",
       "    <tr>\n",
       "      <th>2</th>\n",
       "      <td>-90</td>\n",
       "      <td>15000.0</td>\n",
       "      <td>500.0</td>\n",
       "      <td>160.0</td>\n",
       "      <td>513930.891429</td>\n",
       "      <td>183004.114286</td>\n",
       "      <td>infeasible</td>\n",
       "    </tr>\n",
       "    <tr>\n",
       "      <th>3</th>\n",
       "      <td>-85</td>\n",
       "      <td>22500.0</td>\n",
       "      <td>750.0</td>\n",
       "      <td>240.0</td>\n",
       "      <td>515832.677143</td>\n",
       "      <td>255488.314286</td>\n",
       "      <td>infeasible</td>\n",
       "    </tr>\n",
       "    <tr>\n",
       "      <th>4</th>\n",
       "      <td>-80</td>\n",
       "      <td>30000.0</td>\n",
       "      <td>1000.0</td>\n",
       "      <td>320.0</td>\n",
       "      <td>517734.462857</td>\n",
       "      <td>327972.514286</td>\n",
       "      <td>148219.138286</td>\n",
       "    </tr>\n",
       "    <tr>\n",
       "      <th>5</th>\n",
       "      <td>-75</td>\n",
       "      <td>37500.0</td>\n",
       "      <td>1250.0</td>\n",
       "      <td>400.0</td>\n",
       "      <td>519636.248571</td>\n",
       "      <td>400456.714286</td>\n",
       "      <td>175764.994286</td>\n",
       "    </tr>\n",
       "    <tr>\n",
       "      <th>6</th>\n",
       "      <td>-70</td>\n",
       "      <td>45000.0</td>\n",
       "      <td>1500.0</td>\n",
       "      <td>480.0</td>\n",
       "      <td>521538.034286</td>\n",
       "      <td>472940.914286</td>\n",
       "      <td>203310.850286</td>\n",
       "    </tr>\n",
       "    <tr>\n",
       "      <th>7</th>\n",
       "      <td>-65</td>\n",
       "      <td>52500.0</td>\n",
       "      <td>1750.0</td>\n",
       "      <td>560.0</td>\n",
       "      <td>523439.820000</td>\n",
       "      <td>503974.084286</td>\n",
       "      <td>230856.706286</td>\n",
       "    </tr>\n",
       "    <tr>\n",
       "      <th>8</th>\n",
       "      <td>-60</td>\n",
       "      <td>60000.0</td>\n",
       "      <td>2000.0</td>\n",
       "      <td>640.0</td>\n",
       "      <td>525341.605714</td>\n",
       "      <td>507373.234286</td>\n",
       "      <td>258402.562286</td>\n",
       "    </tr>\n",
       "    <tr>\n",
       "      <th>9</th>\n",
       "      <td>-55</td>\n",
       "      <td>67500.0</td>\n",
       "      <td>2250.0</td>\n",
       "      <td>720.0</td>\n",
       "      <td>527243.391429</td>\n",
       "      <td>510772.384286</td>\n",
       "      <td>285948.418286</td>\n",
       "    </tr>\n",
       "    <tr>\n",
       "      <th>10</th>\n",
       "      <td>-50</td>\n",
       "      <td>75000.0</td>\n",
       "      <td>2500.0</td>\n",
       "      <td>800.0</td>\n",
       "      <td>529145.177143</td>\n",
       "      <td>514171.534286</td>\n",
       "      <td>313494.274286</td>\n",
       "    </tr>\n",
       "    <tr>\n",
       "      <th>11</th>\n",
       "      <td>-45</td>\n",
       "      <td>82500.0</td>\n",
       "      <td>2750.0</td>\n",
       "      <td>880.0</td>\n",
       "      <td>531046.962857</td>\n",
       "      <td>517570.684286</td>\n",
       "      <td>341040.130286</td>\n",
       "    </tr>\n",
       "    <tr>\n",
       "      <th>12</th>\n",
       "      <td>-40</td>\n",
       "      <td>90000.0</td>\n",
       "      <td>3000.0</td>\n",
       "      <td>960.0</td>\n",
       "      <td>532948.748571</td>\n",
       "      <td>520969.834286</td>\n",
       "      <td>368585.986286</td>\n",
       "    </tr>\n",
       "    <tr>\n",
       "      <th>13</th>\n",
       "      <td>-35</td>\n",
       "      <td>97500.0</td>\n",
       "      <td>3250.0</td>\n",
       "      <td>1040.0</td>\n",
       "      <td>534850.534286</td>\n",
       "      <td>524368.984286</td>\n",
       "      <td>393412.522286</td>\n",
       "    </tr>\n",
       "    <tr>\n",
       "      <th>14</th>\n",
       "      <td>-30</td>\n",
       "      <td>105000.0</td>\n",
       "      <td>3500.0</td>\n",
       "      <td>1120.0</td>\n",
       "      <td>536752.320000</td>\n",
       "      <td>527768.134286</td>\n",
       "      <td>415519.738286</td>\n",
       "    </tr>\n",
       "    <tr>\n",
       "      <th>15</th>\n",
       "      <td>-25</td>\n",
       "      <td>112500.0</td>\n",
       "      <td>3750.0</td>\n",
       "      <td>1200.0</td>\n",
       "      <td>538654.105714</td>\n",
       "      <td>531167.284286</td>\n",
       "      <td>437626.954286</td>\n",
       "    </tr>\n",
       "    <tr>\n",
       "      <th>16</th>\n",
       "      <td>-20</td>\n",
       "      <td>120000.0</td>\n",
       "      <td>4000.0</td>\n",
       "      <td>1280.0</td>\n",
       "      <td>540555.891429</td>\n",
       "      <td>534566.434286</td>\n",
       "      <td>459734.170286</td>\n",
       "    </tr>\n",
       "    <tr>\n",
       "      <th>17</th>\n",
       "      <td>-15</td>\n",
       "      <td>127500.0</td>\n",
       "      <td>4250.0</td>\n",
       "      <td>1360.0</td>\n",
       "      <td>542457.677143</td>\n",
       "      <td>537965.584286</td>\n",
       "      <td>481841.386286</td>\n",
       "    </tr>\n",
       "    <tr>\n",
       "      <th>18</th>\n",
       "      <td>-10</td>\n",
       "      <td>135000.0</td>\n",
       "      <td>4500.0</td>\n",
       "      <td>1440.0</td>\n",
       "      <td>544359.462857</td>\n",
       "      <td>541364.734286</td>\n",
       "      <td>503948.602286</td>\n",
       "    </tr>\n",
       "    <tr>\n",
       "      <th>19</th>\n",
       "      <td>-5</td>\n",
       "      <td>142500.0</td>\n",
       "      <td>4750.0</td>\n",
       "      <td>1520.0</td>\n",
       "      <td>546261.248571</td>\n",
       "      <td>544763.884286</td>\n",
       "      <td>526055.818286</td>\n",
       "    </tr>\n",
       "    <tr>\n",
       "      <th>20</th>\n",
       "      <td>0</td>\n",
       "      <td>150000.0</td>\n",
       "      <td>5000.0</td>\n",
       "      <td>1600.0</td>\n",
       "      <td>548163.034286</td>\n",
       "      <td>548163.034286</td>\n",
       "      <td>548163.034286</td>\n",
       "    </tr>\n",
       "    <tr>\n",
       "      <th>21</th>\n",
       "      <td>5</td>\n",
       "      <td>157500.0</td>\n",
       "      <td>5250.0</td>\n",
       "      <td>1680.0</td>\n",
       "      <td>550064.820000</td>\n",
       "      <td>551562.184286</td>\n",
       "      <td>570270.250286</td>\n",
       "    </tr>\n",
       "    <tr>\n",
       "      <th>22</th>\n",
       "      <td>10</td>\n",
       "      <td>165000.0</td>\n",
       "      <td>5500.0</td>\n",
       "      <td>1760.0</td>\n",
       "      <td>551966.605714</td>\n",
       "      <td>554961.334286</td>\n",
       "      <td>592377.466286</td>\n",
       "    </tr>\n",
       "    <tr>\n",
       "      <th>23</th>\n",
       "      <td>15</td>\n",
       "      <td>172500.0</td>\n",
       "      <td>5750.0</td>\n",
       "      <td>1840.0</td>\n",
       "      <td>553868.391429</td>\n",
       "      <td>558360.484286</td>\n",
       "      <td>614484.682286</td>\n",
       "    </tr>\n",
       "    <tr>\n",
       "      <th>24</th>\n",
       "      <td>20</td>\n",
       "      <td>180000.0</td>\n",
       "      <td>6000.0</td>\n",
       "      <td>1920.0</td>\n",
       "      <td>555770.177143</td>\n",
       "      <td>561759.634286</td>\n",
       "      <td>636591.898286</td>\n",
       "    </tr>\n",
       "    <tr>\n",
       "      <th>25</th>\n",
       "      <td>25</td>\n",
       "      <td>187500.0</td>\n",
       "      <td>6250.0</td>\n",
       "      <td>2000.0</td>\n",
       "      <td>557671.962857</td>\n",
       "      <td>565158.784286</td>\n",
       "      <td>658699.114286</td>\n",
       "    </tr>\n",
       "    <tr>\n",
       "      <th>26</th>\n",
       "      <td>30</td>\n",
       "      <td>195000.0</td>\n",
       "      <td>6500.0</td>\n",
       "      <td>2080.0</td>\n",
       "      <td>559573.748571</td>\n",
       "      <td>568557.934286</td>\n",
       "      <td>680806.330286</td>\n",
       "    </tr>\n",
       "    <tr>\n",
       "      <th>27</th>\n",
       "      <td>35</td>\n",
       "      <td>202500.0</td>\n",
       "      <td>6750.0</td>\n",
       "      <td>2160.0</td>\n",
       "      <td>561475.534286</td>\n",
       "      <td>571957.084286</td>\n",
       "      <td>702913.546286</td>\n",
       "    </tr>\n",
       "    <tr>\n",
       "      <th>28</th>\n",
       "      <td>40</td>\n",
       "      <td>210000.0</td>\n",
       "      <td>7000.0</td>\n",
       "      <td>2240.0</td>\n",
       "      <td>563377.320000</td>\n",
       "      <td>575356.234286</td>\n",
       "      <td>725020.762286</td>\n",
       "    </tr>\n",
       "    <tr>\n",
       "      <th>29</th>\n",
       "      <td>45</td>\n",
       "      <td>217500.0</td>\n",
       "      <td>7250.0</td>\n",
       "      <td>2320.0</td>\n",
       "      <td>565279.105714</td>\n",
       "      <td>578755.384286</td>\n",
       "      <td>747127.978286</td>\n",
       "    </tr>\n",
       "    <tr>\n",
       "      <th>30</th>\n",
       "      <td>50</td>\n",
       "      <td>225000.0</td>\n",
       "      <td>7500.0</td>\n",
       "      <td>2400.0</td>\n",
       "      <td>567180.891429</td>\n",
       "      <td>582154.534286</td>\n",
       "      <td>769235.194286</td>\n",
       "    </tr>\n",
       "    <tr>\n",
       "      <th>31</th>\n",
       "      <td>55</td>\n",
       "      <td>232500.0</td>\n",
       "      <td>7750.0</td>\n",
       "      <td>2480.0</td>\n",
       "      <td>569082.677143</td>\n",
       "      <td>585553.684286</td>\n",
       "      <td>791342.410286</td>\n",
       "    </tr>\n",
       "    <tr>\n",
       "      <th>32</th>\n",
       "      <td>60</td>\n",
       "      <td>240000.0</td>\n",
       "      <td>8000.0</td>\n",
       "      <td>2560.0</td>\n",
       "      <td>570984.462857</td>\n",
       "      <td>588952.834286</td>\n",
       "      <td>813449.626286</td>\n",
       "    </tr>\n",
       "    <tr>\n",
       "      <th>33</th>\n",
       "      <td>65</td>\n",
       "      <td>247500.0</td>\n",
       "      <td>8250.0</td>\n",
       "      <td>2640.0</td>\n",
       "      <td>572886.248571</td>\n",
       "      <td>588952.834286</td>\n",
       "      <td>835556.842286</td>\n",
       "    </tr>\n",
       "    <tr>\n",
       "      <th>34</th>\n",
       "      <td>70</td>\n",
       "      <td>255000.0</td>\n",
       "      <td>8500.0</td>\n",
       "      <td>2720.0</td>\n",
       "      <td>574788.034286</td>\n",
       "      <td>588952.834286</td>\n",
       "      <td>857664.058286</td>\n",
       "    </tr>\n",
       "    <tr>\n",
       "      <th>35</th>\n",
       "      <td>75</td>\n",
       "      <td>262500.0</td>\n",
       "      <td>8750.0</td>\n",
       "      <td>2800.0</td>\n",
       "      <td>576689.820000</td>\n",
       "      <td>588952.834286</td>\n",
       "      <td>879771.274286</td>\n",
       "    </tr>\n",
       "    <tr>\n",
       "      <th>36</th>\n",
       "      <td>80</td>\n",
       "      <td>270000.0</td>\n",
       "      <td>9000.0</td>\n",
       "      <td>2880.0</td>\n",
       "      <td>578591.605714</td>\n",
       "      <td>588952.834286</td>\n",
       "      <td>901878.490286</td>\n",
       "    </tr>\n",
       "    <tr>\n",
       "      <th>37</th>\n",
       "      <td>85</td>\n",
       "      <td>277500.0</td>\n",
       "      <td>9250.0</td>\n",
       "      <td>2960.0</td>\n",
       "      <td>580493.391429</td>\n",
       "      <td>588952.834286</td>\n",
       "      <td>923985.706286</td>\n",
       "    </tr>\n",
       "    <tr>\n",
       "      <th>38</th>\n",
       "      <td>90</td>\n",
       "      <td>285000.0</td>\n",
       "      <td>9500.0</td>\n",
       "      <td>3040.0</td>\n",
       "      <td>582395.177143</td>\n",
       "      <td>588952.834286</td>\n",
       "      <td>946092.922286</td>\n",
       "    </tr>\n",
       "    <tr>\n",
       "      <th>39</th>\n",
       "      <td>95</td>\n",
       "      <td>292500.0</td>\n",
       "      <td>9750.0</td>\n",
       "      <td>3120.0</td>\n",
       "      <td>584296.962857</td>\n",
       "      <td>588952.834286</td>\n",
       "      <td>968200.138286</td>\n",
       "    </tr>\n",
       "    <tr>\n",
       "      <th>40</th>\n",
       "      <td>100</td>\n",
       "      <td>300000.0</td>\n",
       "      <td>10000.0</td>\n",
       "      <td>3200.0</td>\n",
       "      <td>586198.748571</td>\n",
       "      <td>588952.834286</td>\n",
       "      <td>990307.354286</td>\n",
       "    </tr>\n",
       "  </tbody>\n",
       "</table>\n",
       "</div>"
      ],
      "text/plain": [
       "    % Variation  PetrolDiesel    Water    Land          pdVar         watVar   \n",
       "0          -100           0.0      0.0     0.0  510127.320000     infeasible  \\\n",
       "1           -95        7500.0    250.0    80.0  512029.105714     infeasible   \n",
       "2           -90       15000.0    500.0   160.0  513930.891429  183004.114286   \n",
       "3           -85       22500.0    750.0   240.0  515832.677143  255488.314286   \n",
       "4           -80       30000.0   1000.0   320.0  517734.462857  327972.514286   \n",
       "5           -75       37500.0   1250.0   400.0  519636.248571  400456.714286   \n",
       "6           -70       45000.0   1500.0   480.0  521538.034286  472940.914286   \n",
       "7           -65       52500.0   1750.0   560.0  523439.820000  503974.084286   \n",
       "8           -60       60000.0   2000.0   640.0  525341.605714  507373.234286   \n",
       "9           -55       67500.0   2250.0   720.0  527243.391429  510772.384286   \n",
       "10          -50       75000.0   2500.0   800.0  529145.177143  514171.534286   \n",
       "11          -45       82500.0   2750.0   880.0  531046.962857  517570.684286   \n",
       "12          -40       90000.0   3000.0   960.0  532948.748571  520969.834286   \n",
       "13          -35       97500.0   3250.0  1040.0  534850.534286  524368.984286   \n",
       "14          -30      105000.0   3500.0  1120.0  536752.320000  527768.134286   \n",
       "15          -25      112500.0   3750.0  1200.0  538654.105714  531167.284286   \n",
       "16          -20      120000.0   4000.0  1280.0  540555.891429  534566.434286   \n",
       "17          -15      127500.0   4250.0  1360.0  542457.677143  537965.584286   \n",
       "18          -10      135000.0   4500.0  1440.0  544359.462857  541364.734286   \n",
       "19           -5      142500.0   4750.0  1520.0  546261.248571  544763.884286   \n",
       "20            0      150000.0   5000.0  1600.0  548163.034286  548163.034286   \n",
       "21            5      157500.0   5250.0  1680.0  550064.820000  551562.184286   \n",
       "22           10      165000.0   5500.0  1760.0  551966.605714  554961.334286   \n",
       "23           15      172500.0   5750.0  1840.0  553868.391429  558360.484286   \n",
       "24           20      180000.0   6000.0  1920.0  555770.177143  561759.634286   \n",
       "25           25      187500.0   6250.0  2000.0  557671.962857  565158.784286   \n",
       "26           30      195000.0   6500.0  2080.0  559573.748571  568557.934286   \n",
       "27           35      202500.0   6750.0  2160.0  561475.534286  571957.084286   \n",
       "28           40      210000.0   7000.0  2240.0  563377.320000  575356.234286   \n",
       "29           45      217500.0   7250.0  2320.0  565279.105714  578755.384286   \n",
       "30           50      225000.0   7500.0  2400.0  567180.891429  582154.534286   \n",
       "31           55      232500.0   7750.0  2480.0  569082.677143  585553.684286   \n",
       "32           60      240000.0   8000.0  2560.0  570984.462857  588952.834286   \n",
       "33           65      247500.0   8250.0  2640.0  572886.248571  588952.834286   \n",
       "34           70      255000.0   8500.0  2720.0  574788.034286  588952.834286   \n",
       "35           75      262500.0   8750.0  2800.0  576689.820000  588952.834286   \n",
       "36           80      270000.0   9000.0  2880.0  578591.605714  588952.834286   \n",
       "37           85      277500.0   9250.0  2960.0  580493.391429  588952.834286   \n",
       "38           90      285000.0   9500.0  3040.0  582395.177143  588952.834286   \n",
       "39           95      292500.0   9750.0  3120.0  584296.962857  588952.834286   \n",
       "40          100      300000.0  10000.0  3200.0  586198.748571  588952.834286   \n",
       "\n",
       "          landVar  \n",
       "0      infeasible  \n",
       "1      infeasible  \n",
       "2      infeasible  \n",
       "3      infeasible  \n",
       "4   148219.138286  \n",
       "5   175764.994286  \n",
       "6   203310.850286  \n",
       "7   230856.706286  \n",
       "8   258402.562286  \n",
       "9   285948.418286  \n",
       "10  313494.274286  \n",
       "11  341040.130286  \n",
       "12  368585.986286  \n",
       "13  393412.522286  \n",
       "14  415519.738286  \n",
       "15  437626.954286  \n",
       "16  459734.170286  \n",
       "17  481841.386286  \n",
       "18  503948.602286  \n",
       "19  526055.818286  \n",
       "20  548163.034286  \n",
       "21  570270.250286  \n",
       "22  592377.466286  \n",
       "23  614484.682286  \n",
       "24  636591.898286  \n",
       "25  658699.114286  \n",
       "26  680806.330286  \n",
       "27  702913.546286  \n",
       "28  725020.762286  \n",
       "29  747127.978286  \n",
       "30  769235.194286  \n",
       "31  791342.410286  \n",
       "32  813449.626286  \n",
       "33  835556.842286  \n",
       "34  857664.058286  \n",
       "35  879771.274286  \n",
       "36  901878.490286  \n",
       "37  923985.706286  \n",
       "38  946092.922286  \n",
       "39  968200.138286  \n",
       "40  990307.354286  "
      ]
     },
     "execution_count": 53,
     "metadata": {},
     "output_type": "execute_result"
    }
   ],
   "source": [
    "petroldiesel = 150000\n",
    "water = 5000\n",
    "area = 1600\n",
    "for i in range(len(df)):\n",
    "    petroldiesel = df['PetrolDiesel'][i]\n",
    "#     print(water)\n",
    "    # pyomo: concrete model\n",
    "    model = pyo.ConcreteModel()\n",
    "\n",
    "    # Sets\n",
    "    model.Crops = Set(initialize=crops_data.set_index('Crop').index.tolist())\n",
    "    model.Products = Set(initialize=biodiesel_data.set_index('Product').index.tolist())\n",
    "\n",
    "    # Parameters\n",
    "    model.Yield_Crop = Param(model.Crops, initialize=crops_data.set_index('Crop')['amount'].to_dict())\n",
    "    model.WaterDemand_Crop = Param(model.Crops, initialize=crops_data.set_index('Crop')['water'].to_dict())\n",
    "    model.OilContent_Crop = Param(model.Crops, initialize=crops_data.set_index('Crop')['oil'].to_dict())\n",
    "\n",
    "    model.BiodieselBlend_Fuels = Param(model.Products, initialize=biodiesel_data.set_index('Product')['biodiesel'].to_dict())\n",
    "    model.FuelPrice_Fuels = Param(model.Products, initialize=biodiesel_data.set_index('Product')['price'].to_dict())\n",
    "    model.FuelTax_Fuels = Param(model.Products, initialize=biodiesel_data.set_index('Product')['tax'].to_dict())\n",
    "\n",
    "    # Other scalar parameters\n",
    "    model.MaxPetrolDieselBought = Param(initialize=petroldiesel)\n",
    "    model.MaxWater = Param(initialize=water)\n",
    "    model.MaxArea = Param(initialize=area)\n",
    "\n",
    "    model.BioDieselPerMethanol = pyo.Param(initialize=0.2/0.9, mutable=True)\n",
    "    model.BioDieselPerOil = pyo.Param(initialize=0.9, mutable=True)\n",
    "    model.MinFuelProd = Param(initialize=280000)\n",
    "    model.MethanolPrice = Param(initialize=1.5)\n",
    "    model.PetrolDieselCost = Param(initialize=1.0)\n",
    "\n",
    "    # Variables\n",
    "    model.CropProd = pyo.Var(model.Crops, bounds=(0, None))\n",
    "    model.VegOilProd = pyo.Var(model.Crops, bounds=(0, None))\n",
    "    model.FuelProd = pyo.Var(model.Products, bounds=(0, None))\n",
    "    model.DieselBought = pyo.Var(bounds=(0, None))\n",
    "    model.BioDieselProd = pyo.Var(within=pyo.NonNegativeReals)\n",
    "    model.Income = pyo.Var(within=pyo.NonNegativeReals)\n",
    "    model.Cost = pyo.Var(within=pyo.NonNegativeReals)\n",
    "\n",
    "    # add non-negativity constraints\n",
    "    model.CropProd.domain = pyo.NonNegativeReals\n",
    "    model.VegOilProd.domain = pyo.NonNegativeReals\n",
    "    model.FuelProd.domain = pyo.NonNegativeReals\n",
    "    model.DieselBought.domain = pyo.NonNegativeReals\n",
    "\n",
    "    #Constraints\n",
    "    model.land_area_constraint = pyo.Constraint(expr=sum(model.CropProd[crop] / model.Yield_Crop[crop] for crop in model.Crops) <= model.MaxArea)\n",
    "    model.water_constraint = pyo.Constraint(expr=sum(model.CropProd[crop] / crops_data.loc[crops_data['Crop'] == crop, 'amount'].values[0] * crops_data.loc[crops_data['Crop'] == crop, 'water'].values[0] for crop in model.Crops) <= model.MaxWater)\n",
    "    model.production_constraint = pyo.Constraint(expr=model.BioDieselProd == sum(1000* model.CropProd[crop] * crops_data.loc[crops_data['Crop'] == crop, 'oil'].values[0] * model.BioDieselPerOil for crop in model.Crops))\n",
    "    model.blending_constraint1 = pyo.Constraint(expr= model.MaxPetrolDieselBought >= sum(model.FuelProd[fuel] * (1- biodiesel_data.loc[biodiesel_data['Product'] == fuel, 'biodiesel'].values[0] / 100) for fuel in model.Products))\n",
    "    model.blending_constraint2 = pyo.Constraint(expr= model.BioDieselProd >= sum(model.FuelProd[fuel] * (biodiesel_data.loc[biodiesel_data['Product'] == fuel, 'biodiesel'].values[0] / 100) for fuel in model.Products))\n",
    "    model.fuel_production_constraint = pyo.Constraint(expr=sum(model.FuelProd[fuel] for fuel in model.Products) >= model.MinFuelProd)\n",
    "    model.diesel_constraint = pyo.Constraint(expr=model.DieselBought >= sum(model.FuelProd[fuel] * (1 - biodiesel_data.loc[biodiesel_data['Product'] == fuel, 'biodiesel'].values[0] / 100) for fuel in model.Products))\n",
    "    model.max_diesel_constraint = pyo.Constraint(expr=model.DieselBought <= model.MaxPetrolDieselBought)\n",
    "    model.income_constraint = pyo.Constraint(expr=model.Income == sum(model.FuelProd[fuel] * biodiesel_data.loc[biodiesel_data['Product'] == fuel, 'price'].values[0] * (1 - (biodiesel_data.loc[biodiesel_data['Product'] == fuel, 'tax'].values[0]/100)) for fuel in model.Products))\n",
    "    model.cost_constraint = pyo.Constraint(expr=model.Cost == (sum(model.MethanolPrice * 0.2*(model.CropProd[crop] * model.OilContent_Crop[crop] * 1000) for crop in model.Crops) + (model.DieselBought * model.PetrolDieselCost)))\n",
    "\n",
    "    # Objective Function\n",
    "    model.profit = pyo.Objective(expr = model.Income - model.Cost, sense=pyo.maximize)\n",
    "\n",
    "    # Solve the model\n",
    "    try:\n",
    "        solver = SolverFactory('gurobi')\n",
    "        results = solver.solve(model)\n",
    "        value = pyo.value(model.profit)\n",
    "    except ValueError:\n",
    "        value = 'infeasible'\n",
    "    df.at[i, 'pdVar'] = value\n",
    "df"
   ]
  },
  {
   "cell_type": "code",
   "execution_count": 54,
   "id": "9faeb763",
   "metadata": {
    "ExecuteTime": {
     "end_time": "2023-04-26T14:58:37.154990Z",
     "start_time": "2023-04-26T14:58:37.144617Z"
    }
   },
   "outputs": [
    {
     "data": {
      "text/html": [
       "<div>\n",
       "<style scoped>\n",
       "    .dataframe tbody tr th:only-of-type {\n",
       "        vertical-align: middle;\n",
       "    }\n",
       "\n",
       "    .dataframe tbody tr th {\n",
       "        vertical-align: top;\n",
       "    }\n",
       "\n",
       "    .dataframe thead th {\n",
       "        text-align: right;\n",
       "    }\n",
       "</style>\n",
       "<table border=\"1\" class=\"dataframe\">\n",
       "  <thead>\n",
       "    <tr style=\"text-align: right;\">\n",
       "      <th></th>\n",
       "      <th>% Variation</th>\n",
       "      <th>PetrolDiesel</th>\n",
       "      <th>Water</th>\n",
       "      <th>Land</th>\n",
       "      <th>pdVar</th>\n",
       "      <th>watVar</th>\n",
       "      <th>landVar</th>\n",
       "    </tr>\n",
       "  </thead>\n",
       "  <tbody>\n",
       "    <tr>\n",
       "      <th>0</th>\n",
       "      <td>-100</td>\n",
       "      <td>0.0</td>\n",
       "      <td>0.0</td>\n",
       "      <td>0.0</td>\n",
       "      <td>510127.320000</td>\n",
       "      <td>infeasible</td>\n",
       "      <td>infeasible</td>\n",
       "    </tr>\n",
       "    <tr>\n",
       "      <th>1</th>\n",
       "      <td>-95</td>\n",
       "      <td>7500.0</td>\n",
       "      <td>250.0</td>\n",
       "      <td>80.0</td>\n",
       "      <td>512029.105714</td>\n",
       "      <td>infeasible</td>\n",
       "      <td>infeasible</td>\n",
       "    </tr>\n",
       "    <tr>\n",
       "      <th>2</th>\n",
       "      <td>-90</td>\n",
       "      <td>15000.0</td>\n",
       "      <td>500.0</td>\n",
       "      <td>160.0</td>\n",
       "      <td>513930.891429</td>\n",
       "      <td>183004.114286</td>\n",
       "      <td>infeasible</td>\n",
       "    </tr>\n",
       "    <tr>\n",
       "      <th>3</th>\n",
       "      <td>-85</td>\n",
       "      <td>22500.0</td>\n",
       "      <td>750.0</td>\n",
       "      <td>240.0</td>\n",
       "      <td>515832.677143</td>\n",
       "      <td>255488.314286</td>\n",
       "      <td>infeasible</td>\n",
       "    </tr>\n",
       "    <tr>\n",
       "      <th>4</th>\n",
       "      <td>-80</td>\n",
       "      <td>30000.0</td>\n",
       "      <td>1000.0</td>\n",
       "      <td>320.0</td>\n",
       "      <td>517734.462857</td>\n",
       "      <td>327972.514286</td>\n",
       "      <td>148219.138286</td>\n",
       "    </tr>\n",
       "  </tbody>\n",
       "</table>\n",
       "</div>"
      ],
      "text/plain": [
       "   % Variation  PetrolDiesel   Water   Land          pdVar         watVar   \n",
       "0         -100           0.0     0.0    0.0  510127.320000     infeasible  \\\n",
       "1          -95        7500.0   250.0   80.0  512029.105714     infeasible   \n",
       "2          -90       15000.0   500.0  160.0  513930.891429  183004.114286   \n",
       "3          -85       22500.0   750.0  240.0  515832.677143  255488.314286   \n",
       "4          -80       30000.0  1000.0  320.0  517734.462857  327972.514286   \n",
       "\n",
       "         landVar  \n",
       "0     infeasible  \n",
       "1     infeasible  \n",
       "2     infeasible  \n",
       "3     infeasible  \n",
       "4  148219.138286  "
      ]
     },
     "execution_count": 54,
     "metadata": {},
     "output_type": "execute_result"
    }
   ],
   "source": [
    "df.head()"
   ]
  },
  {
   "cell_type": "markdown",
   "id": "9aa51e0e",
   "metadata": {},
   "source": [
    "## Infographics"
   ]
  },
  {
   "cell_type": "code",
   "execution_count": 51,
   "id": "409bf98b",
   "metadata": {
    "ExecuteTime": {
     "end_time": "2023-04-26T14:55:51.280189Z",
     "start_time": "2023-04-26T14:55:51.257877Z"
    }
   },
   "outputs": [
    {
     "data": {
      "image/png": "[encoded data removed]",
      "text/plain": [
       "<IPython.core.display.Image object>"
      ]
     },
     "execution_count": 51,
     "metadata": {},
     "output_type": "execute_result"
    }
   ],
   "source": [
    "from IPython import display\n",
    "display.Image(\"./Graph.png\")"
   ]
  }
 ],
 "metadata": {
  "kernelspec": {
   "display_name": "spyder",
   "language": "python",
   "name": "spyder"
  },
  "language_info": {
   "codemirror_mode": {
    "name": "ipython",
    "version": 3
   },
   "file_extension": ".py",
   "mimetype": "text/x-python",
   "name": "python",
   "nbconvert_exporter": "python",
   "pygments_lexer": "ipython3",
   "version": "3.11.3"
  },
  "toc": {
   "base_numbering": 1,
   "nav_menu": {},
   "number_sections": true,
   "sideBar": true,
   "skip_h1_title": false,
   "title_cell": "Table of Contents",
   "title_sidebar": "Contents",
   "toc_cell": false,
   "toc_position": {},
   "toc_section_display": true,
   "toc_window_display": false
  }
 },
 "nbformat": 4,
 "nbformat_minor": 5
}
