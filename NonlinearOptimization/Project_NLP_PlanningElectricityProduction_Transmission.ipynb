{
 "cells": [
  {
   "cell_type": "code",
   "execution_count": 1,
   "id": "f77926db",
   "metadata": {
    "ExecuteTime": {
     "end_time": "2023-10-14T12:20:05.456228Z",
     "start_time": "2023-10-14T12:20:03.552024Z"
    }
   },
   "outputs": [],
   "source": [
    "import pyomo.environ as pyo \n",
    "from pyomo.environ import *\n",
    "from pyomo.opt import SolverFactory\n",
    "import math \n",
    "import pandas as pd\n",
    "import os\n",
    "os.chdir('C:\\\\Users\\\\omkarp\\\\Downloads\\\\Optimize\\\\NonlinearOptimization\\\\')"
   ]
  },
  {
   "cell_type": "markdown",
   "id": "e141fc31",
   "metadata": {},
   "source": [
    "# Project: Planning of electricity production and transmission"
   ]
  },
  {
   "cell_type": "markdown",
   "id": "7784a110",
   "metadata": {},
   "source": [
    "1. Formulate a model minimizing the cost of production of active power\n",
    "\n",
    "**Parameters for the model:**\n",
    "\n",
    "- Nodes (k,l) -ranging from 1 to 11 over transmission grid network\n",
    "- Shunt admittance on edges:   $b_{kl}$ and $g_{kl}$ between nodes\n",
    "- Generator Max Capacity (pu):  $G_{ki}$ with i for Generator number ranging from 1 to 9, and k for node location\n",
    "- Generator Energy production cost (SEK/pu):  $GEcost_{ki}$ with i for Gen.no. ranging from 1 to 9, and k for node location\n",
    "- Consumer Demand for Active Power: $C_{li}$ with i for Consumer number ranging from 1 to 7, and l for node location\n"
   ]
  },
  {
   "cell_type": "markdown",
   "id": "cbcef171",
   "metadata": {},
   "source": [
    "## Get data"
   ]
  },
  {
   "cell_type": "code",
   "execution_count": 2,
   "id": "5439c37a",
   "metadata": {
    "ExecuteTime": {
     "end_time": "2023-10-14T12:20:06.046717Z",
     "start_time": "2023-10-14T12:20:05.457236Z"
    }
   },
   "outputs": [
    {
     "data": {
      "text/html": [
       "<div>\n",
       "<style scoped>\n",
       "    .dataframe tbody tr th:only-of-type {\n",
       "        vertical-align: middle;\n",
       "    }\n",
       "\n",
       "    .dataframe tbody tr th {\n",
       "        vertical-align: top;\n",
       "    }\n",
       "\n",
       "    .dataframe thead th {\n",
       "        text-align: right;\n",
       "    }\n",
       "</style>\n",
       "<table border=\"1\" class=\"dataframe\">\n",
       "  <thead>\n",
       "    <tr style=\"text-align: right;\">\n",
       "      <th></th>\n",
       "      <th>Edge(kl)</th>\n",
       "      <th>bkl</th>\n",
       "      <th>gkl</th>\n",
       "      <th>k</th>\n",
       "      <th>l</th>\n",
       "    </tr>\n",
       "  </thead>\n",
       "  <tbody>\n",
       "    <tr>\n",
       "      <th>0</th>\n",
       "      <td>1_2</td>\n",
       "      <td>-20.1</td>\n",
       "      <td>4.12</td>\n",
       "      <td>1</td>\n",
       "      <td>2</td>\n",
       "    </tr>\n",
       "    <tr>\n",
       "      <th>1</th>\n",
       "      <td>1_11</td>\n",
       "      <td>-22.3</td>\n",
       "      <td>5.67</td>\n",
       "      <td>1</td>\n",
       "      <td>11</td>\n",
       "    </tr>\n",
       "    <tr>\n",
       "      <th>2</th>\n",
       "      <td>2_3</td>\n",
       "      <td>-16.8</td>\n",
       "      <td>2.41</td>\n",
       "      <td>2</td>\n",
       "      <td>3</td>\n",
       "    </tr>\n",
       "    <tr>\n",
       "      <th>3</th>\n",
       "      <td>2_11</td>\n",
       "      <td>-17.2</td>\n",
       "      <td>2.78</td>\n",
       "      <td>2</td>\n",
       "      <td>11</td>\n",
       "    </tr>\n",
       "    <tr>\n",
       "      <th>4</th>\n",
       "      <td>3_4</td>\n",
       "      <td>-11.7</td>\n",
       "      <td>1.98</td>\n",
       "      <td>3</td>\n",
       "      <td>4</td>\n",
       "    </tr>\n",
       "  </tbody>\n",
       "</table>\n",
       "</div>"
      ],
      "text/plain": [
       "  Edge(kl)   bkl   gkl  k   l\n",
       "0      1_2 -20.1  4.12  1   2\n",
       "1     1_11 -22.3  5.67  1  11\n",
       "2      2_3 -16.8  2.41  2   3\n",
       "3     2_11 -17.2  2.78  2  11\n",
       "4      3_4 -11.7  1.98  3   4"
      ]
     },
     "execution_count": 2,
     "metadata": {},
     "output_type": "execute_result"
    }
   ],
   "source": [
    "shunt_data = pd.read_excel('Project.xlsx', sheet_name='shunt')\n",
    "shunt_data[['k', 'l']] = shunt_data['Edge(kl)'].str.split('_', expand=True)\n",
    "shunt_data['k'] = shunt_data['k'].astype(int)\n",
    "shunt_data['l'] = shunt_data['l'].astype(int)\n",
    "shunt_data.head()"
   ]
  },
  {
   "cell_type": "code",
   "execution_count": 3,
   "id": "edeee66a",
   "metadata": {
    "ExecuteTime": {
     "end_time": "2023-10-14T12:20:06.073600Z",
     "start_time": "2023-10-14T12:20:06.048725Z"
    }
   },
   "outputs": [
    {
     "data": {
      "text/html": [
       "<div>\n",
       "<style scoped>\n",
       "    .dataframe tbody tr th:only-of-type {\n",
       "        vertical-align: middle;\n",
       "    }\n",
       "\n",
       "    .dataframe tbody tr th {\n",
       "        vertical-align: top;\n",
       "    }\n",
       "\n",
       "    .dataframe thead th {\n",
       "        text-align: right;\n",
       "    }\n",
       "</style>\n",
       "<table border=\"1\" class=\"dataframe\">\n",
       "  <thead>\n",
       "    <tr style=\"text-align: right;\">\n",
       "      <th></th>\n",
       "      <th>Generator</th>\n",
       "      <th>node</th>\n",
       "      <th>MaxCapacity</th>\n",
       "      <th>Energy_prod_cost</th>\n",
       "    </tr>\n",
       "  </thead>\n",
       "  <tbody>\n",
       "    <tr>\n",
       "      <th>0</th>\n",
       "      <td>G1</td>\n",
       "      <td>2</td>\n",
       "      <td>0.02</td>\n",
       "      <td>175</td>\n",
       "    </tr>\n",
       "    <tr>\n",
       "      <th>1</th>\n",
       "      <td>G2</td>\n",
       "      <td>2</td>\n",
       "      <td>0.15</td>\n",
       "      <td>100</td>\n",
       "    </tr>\n",
       "    <tr>\n",
       "      <th>2</th>\n",
       "      <td>G3</td>\n",
       "      <td>2</td>\n",
       "      <td>0.08</td>\n",
       "      <td>150</td>\n",
       "    </tr>\n",
       "    <tr>\n",
       "      <th>3</th>\n",
       "      <td>G4</td>\n",
       "      <td>3</td>\n",
       "      <td>0.07</td>\n",
       "      <td>150</td>\n",
       "    </tr>\n",
       "    <tr>\n",
       "      <th>4</th>\n",
       "      <td>G5</td>\n",
       "      <td>4</td>\n",
       "      <td>0.04</td>\n",
       "      <td>300</td>\n",
       "    </tr>\n",
       "    <tr>\n",
       "      <th>5</th>\n",
       "      <td>G6</td>\n",
       "      <td>5</td>\n",
       "      <td>0.17</td>\n",
       "      <td>350</td>\n",
       "    </tr>\n",
       "    <tr>\n",
       "      <th>6</th>\n",
       "      <td>G7</td>\n",
       "      <td>7</td>\n",
       "      <td>0.17</td>\n",
       "      <td>400</td>\n",
       "    </tr>\n",
       "    <tr>\n",
       "      <th>7</th>\n",
       "      <td>G8</td>\n",
       "      <td>9</td>\n",
       "      <td>0.26</td>\n",
       "      <td>300</td>\n",
       "    </tr>\n",
       "    <tr>\n",
       "      <th>8</th>\n",
       "      <td>G9</td>\n",
       "      <td>9</td>\n",
       "      <td>0.05</td>\n",
       "      <td>200</td>\n",
       "    </tr>\n",
       "  </tbody>\n",
       "</table>\n",
       "</div>"
      ],
      "text/plain": [
       "  Generator  node  MaxCapacity  Energy_prod_cost\n",
       "0        G1     2         0.02               175\n",
       "1        G2     2         0.15               100\n",
       "2        G3     2         0.08               150\n",
       "3        G4     3         0.07               150\n",
       "4        G5     4         0.04               300\n",
       "5        G6     5         0.17               350\n",
       "6        G7     7         0.17               400\n",
       "7        G8     9         0.26               300\n",
       "8        G9     9         0.05               200"
      ]
     },
     "execution_count": 3,
     "metadata": {},
     "output_type": "execute_result"
    }
   ],
   "source": [
    "generator_data = pd.read_excel('Project.xlsx', sheet_name='generator')\n",
    "consumer_data = pd.read_excel('Project.xlsx', sheet_name='consumer')\n",
    "generator_data"
   ]
  },
  {
   "cell_type": "code",
   "execution_count": 4,
   "id": "d4d2abd2",
   "metadata": {
    "ExecuteTime": {
     "end_time": "2023-10-14T12:20:06.085439Z",
     "start_time": "2023-10-14T12:20:06.075143Z"
    }
   },
   "outputs": [
    {
     "name": "stdout",
     "output_type": "stream",
     "text": [
      "[0.02, 0.15, 0.08, 0.07, 0.04, 0.17, 0.17, 0.26, 0.05]\n",
      "<class 'pandas.core.frame.DataFrame'>\n",
      "RangeIndex: 9 entries, 0 to 8\n",
      "Data columns (total 4 columns):\n",
      " #   Column            Non-Null Count  Dtype  \n",
      "---  ------            --------------  -----  \n",
      " 0   Generator         9 non-null      object \n",
      " 1   node              9 non-null      int64  \n",
      " 2   MaxCapacity       9 non-null      float64\n",
      " 3   Energy_prod_cost  9 non-null      int64  \n",
      "dtypes: float64(1), int64(2), object(1)\n",
      "memory usage: 420.0+ bytes\n"
     ]
    }
   ],
   "source": [
    "print([generator_data.MaxCapacity[i] for i in generator_data.index])\n",
    "generator_data.info()"
   ]
  },
  {
   "cell_type": "code",
   "execution_count": 5,
   "id": "63ceb26a",
   "metadata": {
    "ExecuteTime": {
     "end_time": "2023-10-14T12:20:06.094230Z",
     "start_time": "2023-10-14T12:20:06.085439Z"
    }
   },
   "outputs": [
    {
     "data": {
      "text/html": [
       "<div>\n",
       "<style scoped>\n",
       "    .dataframe tbody tr th:only-of-type {\n",
       "        vertical-align: middle;\n",
       "    }\n",
       "\n",
       "    .dataframe tbody tr th {\n",
       "        vertical-align: top;\n",
       "    }\n",
       "\n",
       "    .dataframe thead th {\n",
       "        text-align: right;\n",
       "    }\n",
       "</style>\n",
       "<table border=\"1\" class=\"dataframe\">\n",
       "  <thead>\n",
       "    <tr style=\"text-align: right;\">\n",
       "      <th></th>\n",
       "      <th>Consumer</th>\n",
       "      <th>node</th>\n",
       "      <th>Demand_active_power</th>\n",
       "    </tr>\n",
       "  </thead>\n",
       "  <tbody>\n",
       "    <tr>\n",
       "      <th>0</th>\n",
       "      <td>C1</td>\n",
       "      <td>1</td>\n",
       "      <td>0.10</td>\n",
       "    </tr>\n",
       "    <tr>\n",
       "      <th>1</th>\n",
       "      <td>C2</td>\n",
       "      <td>4</td>\n",
       "      <td>0.19</td>\n",
       "    </tr>\n",
       "    <tr>\n",
       "      <th>2</th>\n",
       "      <td>C3</td>\n",
       "      <td>6</td>\n",
       "      <td>0.11</td>\n",
       "    </tr>\n",
       "    <tr>\n",
       "      <th>3</th>\n",
       "      <td>C4</td>\n",
       "      <td>8</td>\n",
       "      <td>0.09</td>\n",
       "    </tr>\n",
       "    <tr>\n",
       "      <th>4</th>\n",
       "      <td>C5</td>\n",
       "      <td>9</td>\n",
       "      <td>0.21</td>\n",
       "    </tr>\n",
       "    <tr>\n",
       "      <th>5</th>\n",
       "      <td>C6</td>\n",
       "      <td>10</td>\n",
       "      <td>0.05</td>\n",
       "    </tr>\n",
       "    <tr>\n",
       "      <th>6</th>\n",
       "      <td>C7</td>\n",
       "      <td>11</td>\n",
       "      <td>0.04</td>\n",
       "    </tr>\n",
       "  </tbody>\n",
       "</table>\n",
       "</div>"
      ],
      "text/plain": [
       "  Consumer  node  Demand_active_power\n",
       "0       C1     1                 0.10\n",
       "1       C2     4                 0.19\n",
       "2       C3     6                 0.11\n",
       "3       C4     8                 0.09\n",
       "4       C5     9                 0.21\n",
       "5       C6    10                 0.05\n",
       "6       C7    11                 0.04"
      ]
     },
     "execution_count": 5,
     "metadata": {},
     "output_type": "execute_result"
    }
   ],
   "source": [
    "# powerplant = pd.read_excel('Project.xlsx', sheet_name='PowerPlant') # not used\n",
    "consumer_data"
   ]
  },
  {
   "cell_type": "markdown",
   "id": "adba7951",
   "metadata": {},
   "source": [
    "## **MappIng nodes - edges to generators and consumers and power-plants for the model:**"
   ]
  },
  {
   "cell_type": "code",
   "execution_count": 6,
   "id": "93448d77",
   "metadata": {
    "ExecuteTime": {
     "end_time": "2023-10-14T12:20:06.101413Z",
     "start_time": "2023-10-14T12:20:06.095238Z"
    }
   },
   "outputs": [],
   "source": [
    "node_to_edges = {}\n",
    "node_to_generators = {}\n",
    "node_to_consumers = {}\n",
    "\n",
    "connections = {\n",
    "    1: [2, 11],\n",
    "    2: [1, 3, 11],\n",
    "    3: [2, 4, 9],\n",
    "    4: [3, 5],\n",
    "    5: [4, 6, 8],\n",
    "    6: [5, 7],\n",
    "    7: [6, 8, 9],\n",
    "    8: [5, 7, 9],\n",
    "    9: [10, 3, 8, 7],\n",
    "    10: [9, 11],\n",
    "    11: [1, 2, 10]\n",
    "}\n",
    "for node, connected_nodes in connections.items():\n",
    "    node_to_edges[node] = connected_nodes\n",
    "    \n",
    "node_to_consumers[1] = ['C1']                 # Node 1\n",
    "node_to_generators[2] = ['G1', 'G2', 'G3']    # Node 2\n",
    "node_to_generators[3] = ['G4']                # Node 3\n",
    "node_to_generators[4] = ['G5']                # Node 4\n",
    "node_to_consumers[4] = ['C2']                 # Node 4\n",
    "node_to_generators[5] = ['G6']                # Node 5\n",
    "node_to_consumers[6] = ['C3']                 # Node 6\n",
    "node_to_generators[7] = ['G7']                # Node 7\n",
    "node_to_consumers[8] = ['C4']                 # Node 8\n",
    "node_to_consumers[9] = ['C5']                 # Node 9\n",
    "node_to_generators[9] = ['G8', 'G9']          # Node 9\n",
    "node_to_consumers[10] = ['C6']                # Node 10\n",
    "node_to_consumers[11] = ['C7']                # Node 11"
   ]
  },
  {
   "cell_type": "code",
   "execution_count": 7,
   "id": "95538abc",
   "metadata": {
    "ExecuteTime": {
     "end_time": "2023-10-14T12:20:06.108247Z",
     "start_time": "2023-10-14T12:20:06.101413Z"
    }
   },
   "outputs": [
    {
     "name": "stdout",
     "output_type": "stream",
     "text": [
      "Edges for Node 9: [10, 3, 8, 7]\n",
      "Generators for Node 9: ['G8', 'G9']\n",
      "Consumers for Node 9: ['C5']\n"
     ]
    }
   ],
   "source": [
    "node = 9\n",
    "if node in node_to_edges:\n",
    "    edges = node_to_edges[node]\n",
    "    print(f\"Edges for Node {node}: {edges}\")\n",
    "if node in node_to_generators:\n",
    "    generators = node_to_generators[node]\n",
    "    print(f\"Generators for Node {node}: {generators}\")\n",
    "if node in node_to_consumers:\n",
    "    consumers = node_to_consumers[node]\n",
    "    print(f\"Consumers for Node {node}: {consumers}\")"
   ]
  },
  {
   "cell_type": "code",
   "execution_count": 8,
   "id": "589bd7e1",
   "metadata": {
    "ExecuteTime": {
     "end_time": "2023-10-14T12:20:06.113211Z",
     "start_time": "2023-10-14T12:20:06.110261Z"
    }
   },
   "outputs": [],
   "source": [
    "model = pyo.ConcreteModel()"
   ]
  },
  {
   "cell_type": "markdown",
   "id": "e1075e1e",
   "metadata": {},
   "source": [
    "### Setting model parameters"
   ]
  },
  {
   "cell_type": "code",
   "execution_count": 9,
   "id": "85925287",
   "metadata": {
    "ExecuteTime": {
     "end_time": "2023-10-14T12:20:06.120522Z",
     "start_time": "2023-10-14T12:20:06.115219Z"
    }
   },
   "outputs": [],
   "source": [
    "# Sets\n",
    "node_indices = [1, 2, 3, 4, 5, 6, 7, 8, 9, 10, 11]\n",
    "model.NODE = pyo.Set(initialize=node_indices)\n",
    "\n",
    "generator_indices = {name: idx for idx, name in enumerate(generator_data['Generator'])} # initialize as integer indices\n",
    "model.GENERATOR = pyo.Set(initialize=generator_indices.values())\n",
    "\n",
    "consumer_indices = {name: idx for idx, name in enumerate(['C1', 'C2', 'C3', 'C4', 'C5', 'C6', 'C7'])}\n",
    "model.CONSUMER = pyo.Set(initialize=consumer_indices.values())"
   ]
  },
  {
   "cell_type": "code",
   "execution_count": 10,
   "id": "4bc918a2",
   "metadata": {
    "ExecuteTime": {
     "end_time": "2023-10-14T12:20:06.131609Z",
     "start_time": "2023-10-14T12:20:06.124070Z"
    }
   },
   "outputs": [
    {
     "name": "stdout",
     "output_type": "stream",
     "text": [
      "Max Capacity for Generator 1 = 0.02 pu\n",
      "Max Capacity for Generator 2 = 0.15 pu\n",
      "Max Capacity for Generator 3 = 0.08 pu\n",
      "Max Capacity for Generator 4 = 0.07 pu\n",
      "Max Capacity for Generator 5 = 0.04 pu\n",
      "Max Capacity for Generator 6 = 0.17 pu\n",
      "Max Capacity for Generator 7 = 0.17 pu\n",
      "Max Capacity for Generator 8 = 0.26 pu\n",
      "Max Capacity for Generator 9 = 0.05 pu\n"
     ]
    }
   ],
   "source": [
    "# Parameters: Generator\n",
    "max_capacity_values = {}\n",
    "energy_cost_values = {}\n",
    "generator_location = {}\n",
    "\n",
    "for generator in generator_data.iterrows():\n",
    "    generator_name = generator[1]['Generator']\n",
    "    generator_idx = generator_indices[generator_name]  # integer index\n",
    "    node_location = generator[1]['node']\n",
    "    max_capacity = generator[1]['MaxCapacity']\n",
    "    max_capacity_values[generator_idx] = max_capacity\n",
    "    generator_location[generator_idx] = node_location\n",
    "    \n",
    "for generator in generator_data.iterrows():\n",
    "    generator_name = generator[1]['Generator']\n",
    "    generator_idx = generator_indices[generator_name] \n",
    "    energy_cost = generator[1]['Energy_prod_cost']\n",
    "    energy_cost_values[generator_idx] = energy_cost\n",
    "    \n",
    "model.max_capacity = pyo.Param(model.GENERATOR, initialize=max_capacity_values)\n",
    "model.cost = pyo.Param(model.GENERATOR, initialize=energy_cost_values)\n",
    "\n",
    "generator_location_values = {generator_idx: node_location for generator_idx, node_location in generator_location.items()}\n",
    "model.generator_location = pyo.Param(model.GENERATOR, initialize=generator_location_values)\n",
    "\n",
    "for generator in model.GENERATOR:\n",
    "    max_capacity_value = model.max_capacity[generator]\n",
    "    print(f'Max Capacity for Generator {generator+1} = {max_capacity_value} pu')"
   ]
  },
  {
   "cell_type": "code",
   "execution_count": 11,
   "id": "1fc92b00",
   "metadata": {
    "ExecuteTime": {
     "end_time": "2023-10-14T12:20:06.139958Z",
     "start_time": "2023-10-14T12:20:06.132606Z"
    }
   },
   "outputs": [
    {
     "name": "stdout",
     "output_type": "stream",
     "text": [
      "Demand active power for Consumer 1 = 0.1 pu\n",
      "Demand active power for Consumer 2 = 0.19 pu\n",
      "Demand active power for Consumer 3 = 0.11 pu\n",
      "Demand active power for Consumer 4 = 0.09 pu\n",
      "Demand active power for Consumer 5 = 0.21 pu\n",
      "Demand active power for Consumer 6 = 0.05 pu\n",
      "Demand active power for Consumer 7 = 0.04 pu\n"
     ]
    }
   ],
   "source": [
    "# Parameters: Consumers\n",
    "demand_values = {}\n",
    "consumer_location = {}\n",
    "\n",
    "for consumer in consumer_data.iterrows():\n",
    "    consumer_name = consumer[1]['Consumer']\n",
    "    node_location = consumer[1]['node']\n",
    "    demand = consumer[1]['Demand_active_power']\n",
    "    consumer_idx = consumer_indices[consumer_name]\n",
    "    demand_values[consumer_idx] = demand\n",
    "    consumer_location[consumer_idx] = node_location\n",
    "    \n",
    "model.demand = pyo.Param(model.CONSUMER, initialize=demand_values, default=0.0)\n",
    "model.consumer_location = pyo.Param(model.CONSUMER, initialize=consumer_location)\n",
    "\n",
    "for consumer in model.CONSUMER:\n",
    "    demand_value = model.demand[consumer]\n",
    "    print(f'Demand active power for Consumer {consumer+1} = {demand_value} pu')"
   ]
  },
  {
   "cell_type": "code",
   "execution_count": 12,
   "id": "3d918dfb",
   "metadata": {
    "ExecuteTime": {
     "end_time": "2023-10-14T12:20:06.157557Z",
     "start_time": "2023-10-14T12:20:06.141967Z"
    }
   },
   "outputs": [],
   "source": [
    "# Parameters for Shunt Admittance\n",
    "bkl_values = {}\n",
    "gkl_values = {}\n",
    "\n",
    "for k, connected_nodes in node_to_edges.items():\n",
    "    for l in connected_nodes:\n",
    "        if k != l:\n",
    "            matching_rows = shunt_data[(shunt_data['k'] == k) & (shunt_data['l'] == l)]\n",
    "            if not matching_rows.empty:\n",
    "                gkl = matching_rows['gkl'].values[0]\n",
    "                bkl = matching_rows['bkl'].values[0]\n",
    "                gkl_values[(k, l)] = gkl\n",
    "                gkl_values[(l, k)] = gkl\n",
    "                bkl_values[(k, l)] = bkl\n",
    "                bkl_values[(l, k)] = bkl\n",
    "\n",
    "model.bkl = Param(model.NODE, model.NODE, initialize=bkl_values)\n",
    "model.gkl = Param(model.NODE, model.NODE, initialize=gkl_values)"
   ]
  },
  {
   "cell_type": "code",
   "execution_count": 13,
   "id": "96023fd9",
   "metadata": {
    "ExecuteTime": {
     "end_time": "2023-10-14T12:20:06.162635Z",
     "start_time": "2023-10-14T12:20:06.158563Z"
    }
   },
   "outputs": [
    {
     "name": "stdout",
     "output_type": "stream",
     "text": [
      "gkl[1, 2] = 4.12\n",
      "gkl[2, 1] = 4.12\n",
      "gkl[3, 2] = 2.41\n",
      "gkl[4, 3] = 1.98\n",
      "gkl[5, 4] = 1.59\n",
      "gkl[6, 5] = 1.71\n",
      "gkl[7, 6] = 1.11\n",
      "gkl[8, 5] = 1.26\n",
      "gkl[9, 10] = 2.14\n",
      "gkl[10, 9] = 2.14\n",
      "gkl[11, 1] = 5.67\n"
     ]
    }
   ],
   "source": [
    "for k, connected_nodes in node_to_edges.items():\n",
    "    for l in connected_nodes:\n",
    "        if (k, l) in model.gkl:\n",
    "            gkl_value = model.gkl[k, l]\n",
    "            print(f'gkl[{k}, {l}] = {gkl_value}')\n",
    "            break"
   ]
  },
  {
   "cell_type": "markdown",
   "id": "465e6de1",
   "metadata": {},
   "source": [
    "## Set variables"
   ]
  },
  {
   "cell_type": "markdown",
   "id": "4508e403",
   "metadata": {
    "tags": []
   },
   "source": [
    "**Variables for the model:**\n",
    "\n",
    "- Voltage Amplitude ($v_{k}$ for each node k) between 0.98 and 1.00\n",
    "- Voltage angles ($\\theta_{k}$ for each node k) between pi and -pi (radians)\n",
    "- Power flows for active ($p.var_{k}$ for each node k) and for reactive ($q.var_{k}$ for each node k)\n",
    "- Generated active and reactive power by each generator"
   ]
  },
  {
   "cell_type": "code",
   "execution_count": 14,
   "id": "0f206927",
   "metadata": {
    "ExecuteTime": {
     "end_time": "2023-10-14T12:20:06.170987Z",
     "start_time": "2023-10-14T12:20:06.164646Z"
    }
   },
   "outputs": [],
   "source": [
    "# Variables\n",
    "model.v = pyo.Var(model.NODE, bounds=(0.98, 1.02))  # voltage amplitudes\n",
    "model.theta = pyo.Var(model.NODE, bounds=(-math.pi, math.pi))  # voltage angle (in radians - math.pi)\n",
    "\n",
    "# Active and Reactive Power Flow for each edge\n",
    "model.p_var = pyo.Var(model.NODE, model.NODE, within=pyo.Reals)  # active\n",
    "model.q_var = pyo.Var(model.NODE, model.NODE, within=pyo.Reals)  # reactive\n",
    "\n",
    "# Active and Reactive Power Generation by each generator\n",
    "model.active_power = pyo.Var(model.GENERATOR, within=pyo.NonNegativeReals)\n",
    "model.reactive_power = pyo.Var(model.GENERATOR, within=pyo.Reals)"
   ]
  },
  {
   "cell_type": "markdown",
   "id": "61072bd5",
   "metadata": {},
   "source": [
    "## Set Constraints"
   ]
  },
  {
   "cell_type": "code",
   "execution_count": 15,
   "id": "e30d1b09",
   "metadata": {
    "ExecuteTime": {
     "end_time": "2023-10-14T12:20:06.178979Z",
     "start_time": "2023-10-14T12:20:06.171993Z"
    }
   },
   "outputs": [],
   "source": [
    "# Notify constraints for active power generation\n",
    "def active_power_notify_rule(model, generator):\n",
    "    if generator in [1, 6, 8, 10, 11]:\n",
    "        return model.active_power[generator] == 0.0\n",
    "    elif generator in [2, 3, 4, 5, 7, 9]:\n",
    "        return model.active_power[generator] == sum(model.active_power[g] for g in model.GENERATOR if model.generator_location[g] == generator)\n",
    "    else:\n",
    "        return pyo.Constraint.Skip  # Handle other cases if needed\n",
    "\n",
    "model.active_power_notify_constraints = pyo.Constraint(model.GENERATOR, rule=active_power_notify_rule)\n",
    "\n",
    "# Notify constraints for reactive power generation\n",
    "def reactive_power_notify_rule(model, generator):\n",
    "    if generator in [1, 6, 8, 10, 11]:\n",
    "        return model.reactive_power[generator] == 0.0\n",
    "    elif generator in [2, 3, 4, 5, 7, 9]:\n",
    "        return model.reactive_power[generator] == sum(model.reactive_power[g] for g in model.GENERATOR if model.generator_location[g] == generator)\n",
    "    else:\n",
    "        return pyo.Constraint.Skip  # Handle other cases if needed\n",
    "\n",
    "model.reactive_power_notify_constraints = pyo.Constraint(model.GENERATOR, rule=reactive_power_notify_rule)"
   ]
  },
  {
   "cell_type": "code",
   "execution_count": 16,
   "id": "9b0f1b7a",
   "metadata": {
    "ExecuteTime": {
     "end_time": "2023-10-14T12:20:06.186544Z",
     "start_time": "2023-10-14T12:20:06.180988Z"
    }
   },
   "outputs": [],
   "source": [
    "# Bounds for active and reactive power generation by each generator\n",
    "def active_power_bounds_rule(model, generator):\n",
    "    max_capacity = model.max_capacity[generator]\n",
    "    return (0, max_capacity)\n",
    "\n",
    "model.active_power_bounds = pyo.Constraint(model.GENERATOR, rule=active_power_bounds_rule)\n",
    "\n",
    "def reactive_power_bounds_rule(model, generator):\n",
    "    max_capacity = model.max_capacity[generator]\n",
    "    return (-0.003 * max_capacity, 0.003 * max_capacity)\n",
    "\n",
    "model.reactive_power_bounds = pyo.Constraint(model.GENERATOR, rule=reactive_power_bounds_rule)"
   ]
  },
  {
   "cell_type": "markdown",
   "id": "f2e71869",
   "metadata": {},
   "source": [
    "### **Amount of active power flow (p_var) between nodes**"
   ]
  },
  {
   "cell_type": "markdown",
   "id": "0f3da1bf-2008-425c-a74c-535462e4dd80",
   "metadata": {},
   "source": [
    "$$\\begin{aligned}\n",
    "p_{kℓ} = (v_k)^2 * g_{kℓ} − v_k * v_ℓ * g_{kℓ} * cos(θ_k − θ_ℓ) − v_k * v_ℓ * b_{kℓ} * sin(θ_k − θ_ℓ)\n",
    "\\end{aligned}$$"
   ]
  },
  {
   "cell_type": "code",
   "execution_count": 17,
   "id": "0c244353-14f4-4407-8fdb-eb655a3bc1b0",
   "metadata": {
    "ExecuteTime": {
     "end_time": "2023-10-14T12:20:06.196437Z",
     "start_time": "2023-10-14T12:20:06.187552Z"
    }
   },
   "outputs": [
    {
     "name": "stdout",
     "output_type": "stream",
     "text": [
      "Edge (1, 2) - Active Power Flow: v[1]**2*4.12 - v[1]*v[2]*4.12*cos(theta[1] - theta[2]) - v[1]*v[2]*-20.1*sin(theta[1] - theta[2])\n",
      "Edge (1, 11) - Active Power Flow: v[1]**2*5.67 - v[1]*v[11]*5.67*cos(theta[1] - theta[11]) - v[1]*v[11]*-22.3*sin(theta[1] - theta[11])\n",
      "Edge (2, 1) - Active Power Flow: v[2]**2*4.12 - v[2]*v[1]*4.12*cos(theta[2] - theta[1]) - v[2]*v[1]*-20.1*sin(theta[2] - theta[1])\n",
      "Edge (2, 3) - Active Power Flow: v[2]**2*2.41 - v[2]*v[3]*2.41*cos(theta[2] - theta[3]) - v[2]*v[3]*-16.8*sin(theta[2] - theta[3])\n",
      "Edge (2, 11) - Active Power Flow: v[2]**2*2.78 - v[2]*v[11]*2.78*cos(theta[2] - theta[11]) - v[2]*v[11]*-17.2*sin(theta[2] - theta[11])\n",
      "Edge (3, 2) - Active Power Flow: v[3]**2*2.41 - v[3]*v[2]*2.41*cos(theta[3] - theta[2]) - v[3]*v[2]*-16.8*sin(theta[3] - theta[2])\n",
      "Edge (3, 4) - Active Power Flow: v[3]**2*1.98 - v[3]*v[4]*1.98*cos(theta[3] - theta[4]) - v[3]*v[4]*-11.7*sin(theta[3] - theta[4])\n",
      "Edge (3, 9) - Active Power Flow: v[3]**2*3.23 - v[3]*v[9]*3.23*cos(theta[3] - theta[9]) - v[3]*v[9]*-19.4*sin(theta[3] - theta[9])\n",
      "Edge (4, 3) - Active Power Flow: v[4]**2*1.98 - v[4]*v[3]*1.98*cos(theta[4] - theta[3]) - v[4]*v[3]*-11.7*sin(theta[4] - theta[3])\n",
      "Edge (4, 5) - Active Power Flow: v[4]**2*1.59 - v[4]*v[5]*1.59*cos(theta[4] - theta[5]) - v[4]*v[5]*-10.8*sin(theta[4] - theta[5])\n",
      "Edge (5, 4) - Active Power Flow: v[5]**2*1.59 - v[5]*v[4]*1.59*cos(theta[5] - theta[4]) - v[5]*v[4]*-10.8*sin(theta[5] - theta[4])\n",
      "Edge (5, 6) - Active Power Flow: v[5]**2*1.71 - v[5]*v[6]*1.71*cos(theta[5] - theta[6]) - v[5]*v[6]*-12.3*sin(theta[5] - theta[6])\n",
      "Edge (5, 8) - Active Power Flow: v[5]**2*1.26 - v[5]*v[8]*1.26*cos(theta[5] - theta[8]) - v[5]*v[8]*-9.2*sin(theta[5] - theta[8])\n",
      "Edge (6, 5) - Active Power Flow: v[6]**2*1.71 - v[6]*v[5]*1.71*cos(theta[6] - theta[5]) - v[6]*v[5]*-12.3*sin(theta[6] - theta[5])\n",
      "Edge (6, 7) - Active Power Flow: v[6]**2*1.11 - v[6]*v[7]*1.11*cos(theta[6] - theta[7]) - v[6]*v[7]*-13.9*sin(theta[6] - theta[7])\n",
      "Edge (7, 6) - Active Power Flow: v[7]**2*1.11 - v[7]*v[6]*1.11*cos(theta[7] - theta[6]) - v[7]*v[6]*-13.9*sin(theta[7] - theta[6])\n",
      "Edge (7, 8) - Active Power Flow: v[7]**2*1.32 - v[7]*v[8]*1.32*cos(theta[7] - theta[8]) - v[7]*v[8]*-8.7*sin(theta[7] - theta[8])\n",
      "Edge (7, 9) - Active Power Flow: v[7]**2*2.01 - v[7]*v[9]*2.01*cos(theta[7] - theta[9]) - v[7]*v[9]*-11.3*sin(theta[7] - theta[9])\n",
      "Edge (8, 5) - Active Power Flow: v[8]**2*1.26 - v[8]*v[5]*1.26*cos(theta[8] - theta[5]) - v[8]*v[5]*-9.2*sin(theta[8] - theta[5])\n",
      "Edge (8, 7) - Active Power Flow: v[8]**2*1.32 - v[8]*v[7]*1.32*cos(theta[8] - theta[7]) - v[8]*v[7]*-8.7*sin(theta[8] - theta[7])\n",
      "Edge (8, 9) - Active Power Flow: v[8]**2*2.41 - v[8]*v[9]*2.41*cos(theta[8] - theta[9]) - v[8]*v[9]*-14.7*sin(theta[8] - theta[9])\n",
      "Edge (9, 3) - Active Power Flow: v[9]**2*3.23 - v[9]*v[3]*3.23*cos(theta[9] - theta[3]) - v[9]*v[3]*-19.4*sin(theta[9] - theta[3])\n",
      "Edge (9, 7) - Active Power Flow: v[9]**2*2.01 - v[9]*v[7]*2.01*cos(theta[9] - theta[7]) - v[9]*v[7]*-11.3*sin(theta[9] - theta[7])\n",
      "Edge (9, 8) - Active Power Flow: v[9]**2*2.41 - v[9]*v[8]*2.41*cos(theta[9] - theta[8]) - v[9]*v[8]*-14.7*sin(theta[9] - theta[8])\n",
      "Edge (9, 10) - Active Power Flow: v[9]**2*2.14 - v[9]*v[10]*2.14*cos(theta[9] - theta[10]) - v[9]*v[10]*-13.5*sin(theta[9] - theta[10])\n",
      "Edge (10, 9) - Active Power Flow: v[10]**2*2.14 - v[10]*v[9]*2.14*cos(theta[10] - theta[9]) - v[10]*v[9]*-13.5*sin(theta[10] - theta[9])\n",
      "Edge (10, 11) - Active Power Flow: v[10]**2*5.06 - v[10]*v[11]*5.06*cos(theta[10] - theta[11]) - v[10]*v[11]*-26.7*sin(theta[10] - theta[11])\n",
      "Edge (11, 1) - Active Power Flow: v[11]**2*5.67 - v[11]*v[1]*5.67*cos(theta[11] - theta[1]) - v[11]*v[1]*-22.3*sin(theta[11] - theta[1])\n",
      "Edge (11, 2) - Active Power Flow: v[11]**2*2.78 - v[11]*v[2]*2.78*cos(theta[11] - theta[2]) - v[11]*v[2]*-17.2*sin(theta[11] - theta[2])\n",
      "Edge (11, 10) - Active Power Flow: v[11]**2*5.06 - v[11]*v[10]*5.06*cos(theta[11] - theta[10]) - v[11]*v[10]*-26.7*sin(theta[11] - theta[10])\n"
     ]
    }
   ],
   "source": [
    "def active_power_flow_rule(model, k, l):\n",
    "    if (k, l) in model.gkl:\n",
    "        p_flow = (model.v[k] ** 2) * model.gkl[k, l] - model.v[k] * model.v[l] * model.gkl[k, l] * pyo.cos(model.theta[k] - model.theta[l]) - model.v[k] * model.v[l] * model.bkl[k, l] * pyo.sin(model.theta[k] - model.theta[l])\n",
    "        print(f\"Edge ({k}, {l}) - Active Power Flow: {p_flow}\")\n",
    "        return model.p_var[k, l] == p_flow\n",
    "    else:\n",
    "        return pyo.Constraint.Skip\n",
    "\n",
    "model.active_power_flow_constraint = pyo.Constraint(model.NODE, model.NODE, rule=active_power_flow_rule)"
   ]
  },
  {
   "cell_type": "markdown",
   "id": "c7fa7760-7145-4080-b560-145a548b951e",
   "metadata": {},
   "source": [
    "### **Amount of reactive power flow (q_var) between nodes**"
   ]
  },
  {
   "cell_type": "markdown",
   "id": "ef99b10c-8f31-4c89-a21e-eca0fda7d2ed",
   "metadata": {},
   "source": [
    "$$\\begin{aligned}\n",
    "q_{kℓ} = -(v_k)^2 * b_{kℓ} + v_k * v_ℓ * b_{kℓ} * cos(θ_k − θ_ℓ) − v_k * v_ℓ * g_{kℓ} * sin(θ_k − θ_ℓ)\n",
    "\\end{aligned}$$"
   ]
  },
  {
   "cell_type": "code",
   "execution_count": 18,
   "id": "60f1a453-bb73-445c-9d50-59baf958904e",
   "metadata": {
    "ExecuteTime": {
     "end_time": "2023-10-14T12:20:06.206541Z",
     "start_time": "2023-10-14T12:20:06.196437Z"
    }
   },
   "outputs": [
    {
     "name": "stdout",
     "output_type": "stream",
     "text": [
      "Edge (1, 2) - Reactive Power Flow: - v[1]**2*-20.1 + v[1]*v[2]*-20.1*cos(theta[1] - theta[2]) - v[1]*v[2]*4.12*sin(theta[1] - theta[2])\n",
      "Edge (1, 11) - Reactive Power Flow: - v[1]**2*-22.3 + v[1]*v[11]*-22.3*cos(theta[1] - theta[11]) - v[1]*v[11]*5.67*sin(theta[1] - theta[11])\n",
      "Edge (2, 1) - Reactive Power Flow: - v[2]**2*-20.1 + v[2]*v[1]*-20.1*cos(theta[2] - theta[1]) - v[2]*v[1]*4.12*sin(theta[2] - theta[1])\n",
      "Edge (2, 3) - Reactive Power Flow: - v[2]**2*-16.8 + v[2]*v[3]*-16.8*cos(theta[2] - theta[3]) - v[2]*v[3]*2.41*sin(theta[2] - theta[3])\n",
      "Edge (2, 11) - Reactive Power Flow: - v[2]**2*-17.2 + v[2]*v[11]*-17.2*cos(theta[2] - theta[11]) - v[2]*v[11]*2.78*sin(theta[2] - theta[11])\n",
      "Edge (3, 2) - Reactive Power Flow: - v[3]**2*-16.8 + v[3]*v[2]*-16.8*cos(theta[3] - theta[2]) - v[3]*v[2]*2.41*sin(theta[3] - theta[2])\n",
      "Edge (3, 4) - Reactive Power Flow: - v[3]**2*-11.7 + v[3]*v[4]*-11.7*cos(theta[3] - theta[4]) - v[3]*v[4]*1.98*sin(theta[3] - theta[4])\n",
      "Edge (3, 9) - Reactive Power Flow: - v[3]**2*-19.4 + v[3]*v[9]*-19.4*cos(theta[3] - theta[9]) - v[3]*v[9]*3.23*sin(theta[3] - theta[9])\n",
      "Edge (4, 3) - Reactive Power Flow: - v[4]**2*-11.7 + v[4]*v[3]*-11.7*cos(theta[4] - theta[3]) - v[4]*v[3]*1.98*sin(theta[4] - theta[3])\n",
      "Edge (4, 5) - Reactive Power Flow: - v[4]**2*-10.8 + v[4]*v[5]*-10.8*cos(theta[4] - theta[5]) - v[4]*v[5]*1.59*sin(theta[4] - theta[5])\n",
      "Edge (5, 4) - Reactive Power Flow: - v[5]**2*-10.8 + v[5]*v[4]*-10.8*cos(theta[5] - theta[4]) - v[5]*v[4]*1.59*sin(theta[5] - theta[4])\n",
      "Edge (5, 6) - Reactive Power Flow: - v[5]**2*-12.3 + v[5]*v[6]*-12.3*cos(theta[5] - theta[6]) - v[5]*v[6]*1.71*sin(theta[5] - theta[6])\n",
      "Edge (5, 8) - Reactive Power Flow: - v[5]**2*-9.2 + v[5]*v[8]*-9.2*cos(theta[5] - theta[8]) - v[5]*v[8]*1.26*sin(theta[5] - theta[8])\n",
      "Edge (6, 5) - Reactive Power Flow: - v[6]**2*-12.3 + v[6]*v[5]*-12.3*cos(theta[6] - theta[5]) - v[6]*v[5]*1.71*sin(theta[6] - theta[5])\n",
      "Edge (6, 7) - Reactive Power Flow: - v[6]**2*-13.9 + v[6]*v[7]*-13.9*cos(theta[6] - theta[7]) - v[6]*v[7]*1.11*sin(theta[6] - theta[7])\n",
      "Edge (7, 6) - Reactive Power Flow: - v[7]**2*-13.9 + v[7]*v[6]*-13.9*cos(theta[7] - theta[6]) - v[7]*v[6]*1.11*sin(theta[7] - theta[6])\n",
      "Edge (7, 8) - Reactive Power Flow: - v[7]**2*-8.7 + v[7]*v[8]*-8.7*cos(theta[7] - theta[8]) - v[7]*v[8]*1.32*sin(theta[7] - theta[8])\n",
      "Edge (7, 9) - Reactive Power Flow: - v[7]**2*-11.3 + v[7]*v[9]*-11.3*cos(theta[7] - theta[9]) - v[7]*v[9]*2.01*sin(theta[7] - theta[9])\n",
      "Edge (8, 5) - Reactive Power Flow: - v[8]**2*-9.2 + v[8]*v[5]*-9.2*cos(theta[8] - theta[5]) - v[8]*v[5]*1.26*sin(theta[8] - theta[5])\n",
      "Edge (8, 7) - Reactive Power Flow: - v[8]**2*-8.7 + v[8]*v[7]*-8.7*cos(theta[8] - theta[7]) - v[8]*v[7]*1.32*sin(theta[8] - theta[7])\n",
      "Edge (8, 9) - Reactive Power Flow: - v[8]**2*-14.7 + v[8]*v[9]*-14.7*cos(theta[8] - theta[9]) - v[8]*v[9]*2.41*sin(theta[8] - theta[9])\n",
      "Edge (9, 3) - Reactive Power Flow: - v[9]**2*-19.4 + v[9]*v[3]*-19.4*cos(theta[9] - theta[3]) - v[9]*v[3]*3.23*sin(theta[9] - theta[3])\n",
      "Edge (9, 7) - Reactive Power Flow: - v[9]**2*-11.3 + v[9]*v[7]*-11.3*cos(theta[9] - theta[7]) - v[9]*v[7]*2.01*sin(theta[9] - theta[7])\n",
      "Edge (9, 8) - Reactive Power Flow: - v[9]**2*-14.7 + v[9]*v[8]*-14.7*cos(theta[9] - theta[8]) - v[9]*v[8]*2.41*sin(theta[9] - theta[8])\n",
      "Edge (9, 10) - Reactive Power Flow: - v[9]**2*-13.5 + v[9]*v[10]*-13.5*cos(theta[9] - theta[10]) - v[9]*v[10]*2.14*sin(theta[9] - theta[10])\n",
      "Edge (10, 9) - Reactive Power Flow: - v[10]**2*-13.5 + v[10]*v[9]*-13.5*cos(theta[10] - theta[9]) - v[10]*v[9]*2.14*sin(theta[10] - theta[9])\n",
      "Edge (10, 11) - Reactive Power Flow: - v[10]**2*-26.7 + v[10]*v[11]*-26.7*cos(theta[10] - theta[11]) - v[10]*v[11]*5.06*sin(theta[10] - theta[11])\n",
      "Edge (11, 1) - Reactive Power Flow: - v[11]**2*-22.3 + v[11]*v[1]*-22.3*cos(theta[11] - theta[1]) - v[11]*v[1]*5.67*sin(theta[11] - theta[1])\n",
      "Edge (11, 2) - Reactive Power Flow: - v[11]**2*-17.2 + v[11]*v[2]*-17.2*cos(theta[11] - theta[2]) - v[11]*v[2]*2.78*sin(theta[11] - theta[2])\n",
      "Edge (11, 10) - Reactive Power Flow: - v[11]**2*-26.7 + v[11]*v[10]*-26.7*cos(theta[11] - theta[10]) - v[11]*v[10]*5.06*sin(theta[11] - theta[10])\n"
     ]
    }
   ],
   "source": [
    "def reactive_power_flow_rule(model, k, l):\n",
    "    if (k, l) in model.bkl:\n",
    "        q_flow = - (model.v[k] ** 2) * model.bkl[k, l] + model.v[k] * model.v[l] * model.bkl[k, l] * pyo.cos(model.theta[k] - model.theta[l]) - model.v[k] * model.v[l] * model.gkl[k, l] * pyo.sin(model.theta[k] - model.theta[l])\n",
    "        print(f\"Edge ({k}, {l}) - Reactive Power Flow: {q_flow}\")\n",
    "        return model.q_var[k, l] == q_flow\n",
    "    else:\n",
    "        return pyo.Constraint.Skip\n",
    "\n",
    "model.reactive_power_flow_constraint = pyo.Constraint(model.NODE, model.NODE, rule=reactive_power_flow_rule)"
   ]
  },
  {
   "cell_type": "markdown",
   "id": "03c711a2-9e4f-4f1b-b436-15c1d22cad2f",
   "metadata": {},
   "source": [
    "### **Power Balance: generation and consumption (at each node)**"
   ]
  },
  {
   "cell_type": "markdown",
   "id": "95dd767a-f9b6-4569-80de-316704a3915a",
   "metadata": {},
   "source": [
    "$$\\begin{aligned}\n",
    "\\text{PowerGeneration}=\\text{PowerConsumption....(at each node)}  \n",
    "\\end{aligned}$$"
   ]
  },
  {
   "cell_type": "code",
   "execution_count": 19,
   "id": "ba0f8ee0",
   "metadata": {
    "ExecuteTime": {
     "end_time": "2023-10-14T12:20:06.211657Z",
     "start_time": "2023-10-14T12:20:06.208549Z"
    }
   },
   "outputs": [
    {
     "name": "stdout",
     "output_type": "stream",
     "text": [
      "0.02\n",
      "0\n",
      "1\n",
      "2\n",
      "3\n",
      "4\n",
      "5\n",
      "6\n",
      "7\n",
      "8\n"
     ]
    }
   ],
   "source": [
    "generator= 0\n",
    "print(model.max_capacity[generator])\n",
    "for generator in model.max_capacity: print(generator)"
   ]
  },
  {
   "cell_type": "code",
   "execution_count": 20,
   "id": "326fb55a",
   "metadata": {
    "ExecuteTime": {
     "end_time": "2023-10-14T12:20:06.220383Z",
     "start_time": "2023-10-14T12:20:06.212750Z"
    }
   },
   "outputs": [
    {
     "name": "stdout",
     "output_type": "stream",
     "text": [
      "Node 1: Active Power Injection: p_var[1,2] + p_var[1,11] - (p_var[2,1] + p_var[11,1]), Active Power Demand: 0.1\n",
      "Node 2: Active Power Injection: p_var[2,1] + p_var[2,3] + p_var[2,11] - (p_var[1,2] + p_var[3,2] + p_var[11,2]) + 0.02*active_power[0] + 0.15*active_power[1] + 0.08*active_power[2], Active Power Demand: 0\n",
      "Node 3: Active Power Injection: p_var[3,2] + p_var[3,4] + p_var[3,9] - (p_var[2,3] + p_var[4,3] + p_var[9,3]) + 0.07*active_power[3], Active Power Demand: 0\n",
      "Node 4: Active Power Injection: p_var[4,3] + p_var[4,5] - (p_var[3,4] + p_var[5,4]) + 0.04*active_power[4], Active Power Demand: 0.19\n",
      "Node 5: Active Power Injection: p_var[5,4] + p_var[5,6] + p_var[5,8] - (p_var[4,5] + p_var[6,5] + p_var[8,5]) + 0.17*active_power[5], Active Power Demand: 0\n",
      "Node 6: Active Power Injection: p_var[6,5] + p_var[6,7] - (p_var[5,6] + p_var[7,6]), Active Power Demand: 0.11\n",
      "Node 7: Active Power Injection: p_var[7,6] + p_var[7,8] + p_var[7,9] - (p_var[6,7] + p_var[8,7] + p_var[9,7]) + 0.17*active_power[6], Active Power Demand: 0\n",
      "Node 8: Active Power Injection: p_var[8,5] + p_var[8,7] + p_var[8,9] - (p_var[5,8] + p_var[7,8] + p_var[9,8]), Active Power Demand: 0.09\n",
      "Node 9: Active Power Injection: p_var[9,10] + p_var[9,3] + p_var[9,8] + p_var[9,7] - (p_var[10,9] + p_var[3,9] + p_var[8,9] + p_var[7,9]) + 0.26*active_power[7] + 0.05*active_power[8], Active Power Demand: 0.21\n",
      "Node 10: Active Power Injection: p_var[10,9] + p_var[10,11] - (p_var[9,10] + p_var[11,10]), Active Power Demand: 0.05\n",
      "Node 11: Active Power Injection: p_var[11,1] + p_var[11,2] + p_var[11,10] - (p_var[1,11] + p_var[2,11] + p_var[10,11]), Active Power Demand: 0.04\n"
     ]
    }
   ],
   "source": [
    "def active_power_balance_rule(model, k):\n",
    "    # total active power injection at node k\n",
    "    total_active_power_injection = (\n",
    "        sum(model.p_var[k, l] for l in node_to_edges[k]) \n",
    "        - sum(model.p_var[l, k] for l in node_to_edges[k]) \n",
    "        + sum(model.max_capacity[g] * model.active_power[g] for g in model.GENERATOR if model.generator_location[g] == k)\n",
    "    )\n",
    "\n",
    "    total_active_power_demand = sum(model.demand[c] for c in model.CONSUMER if model.consumer_location[c] == k)\n",
    "    print(f\"Node {k}: Active Power Injection: {total_active_power_injection}, Active Power Demand: {total_active_power_demand}\")\n",
    "    return total_active_power_injection == total_active_power_demand\n",
    "\n",
    "model.active_power_balance_constraint = pyo.Constraint([k for k in model.NODE], rule=active_power_balance_rule)"
   ]
  },
  {
   "cell_type": "code",
   "execution_count": 21,
   "id": "ab79da17",
   "metadata": {
    "ExecuteTime": {
     "end_time": "2023-10-14T12:20:06.236417Z",
     "start_time": "2023-10-14T12:20:06.220383Z"
    }
   },
   "outputs": [
    {
     "name": "stdout",
     "output_type": "stream",
     "text": [
      "Node 1 - Reactive Power Injection: q_var[1,2] + q_var[1,11] - (q_var[2,1] + q_var[11,1]) + v[1]**2*(-20.1 - 4.12*cos(theta[1] - theta[2])) + v[1]**2*(-22.3 - 5.67*cos(theta[1] - theta[11]))\n",
      "Node 2 - Reactive Power Injection: q_var[2,1] + q_var[2,3] + q_var[2,11] - (q_var[1,2] + q_var[3,2] + q_var[11,2]) + v[2]**2*(-20.1 - 4.12*cos(theta[2] - theta[1])) + v[2]**2*(-16.8 - 2.41*cos(theta[2] - theta[3])) + v[2]**2*(-17.2 - 2.78*cos(theta[2] - theta[11]))\n",
      "Node 3 - Reactive Power Injection: q_var[3,2] + q_var[3,4] + q_var[3,9] - (q_var[2,3] + q_var[4,3] + q_var[9,3]) + v[3]**2*(-16.8 - 2.41*cos(theta[3] - theta[2])) + v[3]**2*(-11.7 - 1.98*cos(theta[3] - theta[4])) + v[3]**2*(-19.4 - 3.23*cos(theta[3] - theta[9]))\n",
      "Node 4 - Reactive Power Injection: q_var[4,3] + q_var[4,5] - (q_var[3,4] + q_var[5,4]) + v[4]**2*(-11.7 - 1.98*cos(theta[4] - theta[3])) + v[4]**2*(-10.8 - 1.59*cos(theta[4] - theta[5]))\n",
      "Node 5 - Reactive Power Injection: q_var[5,4] + q_var[5,6] + q_var[5,8] - (q_var[4,5] + q_var[6,5] + q_var[8,5]) + v[5]**2*(-10.8 - 1.59*cos(theta[5] - theta[4])) + v[5]**2*(-12.3 - 1.71*cos(theta[5] - theta[6])) + v[5]**2*(-9.2 - 1.26*cos(theta[5] - theta[8]))\n",
      "Node 6 - Reactive Power Injection: q_var[6,5] + q_var[6,7] - (q_var[5,6] + q_var[7,6]) + v[6]**2*(-12.3 - 1.71*cos(theta[6] - theta[5])) + v[6]**2*(-13.9 - 1.11*cos(theta[6] - theta[7]))\n",
      "Node 7 - Reactive Power Injection: q_var[7,6] + q_var[7,8] + q_var[7,9] - (q_var[6,7] + q_var[8,7] + q_var[9,7]) + v[7]**2*(-13.9 - 1.11*cos(theta[7] - theta[6])) + v[7]**2*(-8.7 - 1.32*cos(theta[7] - theta[8])) + v[7]**2*(-11.3 - 2.01*cos(theta[7] - theta[9]))\n",
      "Node 8 - Reactive Power Injection: q_var[8,5] + q_var[8,7] + q_var[8,9] - (q_var[5,8] + q_var[7,8] + q_var[9,8]) + v[8]**2*(-9.2 - 1.26*cos(theta[8] - theta[5])) + v[8]**2*(-8.7 - 1.32*cos(theta[8] - theta[7])) + v[8]**2*(-14.7 - 2.41*cos(theta[8] - theta[9]))\n",
      "Node 9 - Reactive Power Injection: q_var[9,10] + q_var[9,3] + q_var[9,8] + q_var[9,7] - (q_var[10,9] + q_var[3,9] + q_var[8,9] + q_var[7,9]) + v[9]**2*(-13.5 - 2.14*cos(theta[9] - theta[10])) + v[9]**2*(-19.4 - 3.23*cos(theta[9] - theta[3])) + v[9]**2*(-14.7 - 2.41*cos(theta[9] - theta[8])) + v[9]**2*(-11.3 - 2.01*cos(theta[9] - theta[7]))\n",
      "Node 10 - Reactive Power Injection: q_var[10,9] + q_var[10,11] - (q_var[9,10] + q_var[11,10]) + v[10]**2*(-13.5 - 2.14*cos(theta[10] - theta[9])) + v[10]**2*(-26.7 - 5.06*cos(theta[10] - theta[11]))\n",
      "Node 11 - Reactive Power Injection: q_var[11,1] + q_var[11,2] + q_var[11,10] - (q_var[1,11] + q_var[2,11] + q_var[10,11]) + v[11]**2*(-22.3 - 5.67*cos(theta[11] - theta[1])) + v[11]**2*(-17.2 - 2.78*cos(theta[11] - theta[2])) + v[11]**2*(-26.7 - 5.06*cos(theta[11] - theta[10]))\n"
     ]
    }
   ],
   "source": [
    "def reactive_power_balance_rule(model, k):\n",
    "    # total reactive power injection at node k\n",
    "    total_reactive_power_injection = (\n",
    "        sum(model.q_var[k, l] for l in node_to_edges[k])\n",
    "        - sum(model.q_var[l, k] for l in node_to_edges[k])\n",
    "        + sum((model.v[k] ** 2) * (model.bkl[k, l] - model.gkl[k, l] * pyo.cos(model.theta[k] - model.theta[l]))\n",
    "            for l in node_to_edges[k])\n",
    "    )\n",
    "    print(f\"Node {k} - Reactive Power Injection: {total_reactive_power_injection}\")\n",
    "    return total_reactive_power_injection == 0.0\n",
    "\n",
    "model.reactive_power_balance_constraint = pyo.Constraint([k for k in model.NODE], rule=reactive_power_balance_rule)"
   ]
  },
  {
   "cell_type": "markdown",
   "id": "6571095c",
   "metadata": {},
   "source": [
    "## Set Objective Function"
   ]
  },
  {
   "cell_type": "markdown",
   "id": "6b1a5605",
   "metadata": {},
   "source": [
    "**To minimize the cost of total active power generated for consumption:**\n",
    "\n",
    "$$\\begin{aligned}\n",
    "Minimize\\ (Cost_{activePower})\n",
    "\\end{aligned}$$\n"
   ]
  },
  {
   "cell_type": "code",
   "execution_count": 22,
   "id": "e7e28ed3",
   "metadata": {
    "ExecuteTime": {
     "end_time": "2023-10-14T12:20:06.241881Z",
     "start_time": "2023-10-14T12:20:06.236417Z"
    }
   },
   "outputs": [],
   "source": [
    "def objective_rule(model):\n",
    "    objective_value = sum(\n",
    "        model.cost[g] * model.active_power[g]\n",
    "        for g in model.GENERATOR\n",
    "    )\n",
    "    return objective_value\n",
    "\n",
    "model.objective = pyo.Objective(rule=objective_rule, sense=pyo.minimize)"
   ]
  },
  {
   "cell_type": "code",
   "execution_count": 23,
   "id": "4952129e",
   "metadata": {
    "ExecuteTime": {
     "end_time": "2023-10-14T12:20:06.371429Z",
     "start_time": "2023-10-14T12:20:06.243892Z"
    }
   },
   "outputs": [
    {
     "name": "stdout",
     "output_type": "stream",
     "text": [
      "Ipopt 3.11.1: \n",
      "\n",
      "******************************************************************************\n",
      "This program contains Ipopt, a library for large-scale nonlinear optimization.\n",
      " Ipopt is released as open source code under the Eclipse Public License (EPL).\n",
      "         For more information visit http://projects.coin-or.org/Ipopt\n",
      "******************************************************************************\n",
      "\n",
      "NOTE: You are using Ipopt by default with the MUMPS linear solver.\n",
      "      Other linear solvers might be more efficient (see Ipopt documentation).\n",
      "\n",
      "\n",
      "This is Ipopt version 3.11.1, running with linear solver mumps.\n",
      "\n",
      "Number of nonzeros in equality constraint Jacobian...:      503\n",
      "Number of nonzeros in inequality constraint Jacobian.:        0\n",
      "Number of nonzeros in Lagrangian Hessian.............:       93\n",
      "\n",
      "Exception of type: TOO_FEW_DOF in file \"../../../../Ipopt/src/Interfaces/IpIpoptApplication.cpp\" at line 860:\n",
      " Exception message: status != TOO_FEW_DEGREES_OF_FREEDOM evaluated false: Too few degrees of freedom (rethrown)!\n",
      "\n",
      "EXIT: Problem has too few degrees of freedom.\n",
      "WARNING: Loading a SolverResults object with a warning status into\n",
      "    model.name=\"unknown\";\n",
      "      - termination condition: other\n",
      "      - message from solver: Too few degrees of freedom (rethrown)!\n"
     ]
    },
    {
     "data": {
      "text/plain": [
       "{'Solver': [{'Status': 'warning', 'Message': 'Too few degrees of freedom (rethrown)!', 'Termination condition': 'other'}]}"
      ]
     },
     "execution_count": 23,
     "metadata": {},
     "output_type": "execute_result"
    }
   ],
   "source": [
    "solver = SolverFactory('ipopt', executable='C:\\\\ipopt\\\\bin\\\\ipopt.exe')\n",
    "solver.solve(model, tee='solver_output.txt')"
   ]
  },
  {
   "cell_type": "markdown",
   "id": "e29d00fe",
   "metadata": {},
   "source": [
    "## Results"
   ]
  },
  {
   "cell_type": "code",
   "execution_count": null,
   "id": "69727949",
   "metadata": {
    "ExecuteTime": {
     "end_time": "2023-10-14T12:20:06.378905Z",
     "start_time": "2023-10-14T12:20:06.378905Z"
    }
   },
   "outputs": [],
   "source": [
    "active_power = {k: pyo.value(model.active_power[k]) for i in model.GENERATOR}\n",
    "reactive_power = {k: pyo.value(model.reactive_power[k]) for i in model.GENERATOR}\n",
    "voltage_amplitudes = {k: pyo.value(model.v[k]) for i in model.NODE}\n",
    "voltage_angles = {k: pyo.value(model.theta[k]) for i in model.NODE}\n",
    "total_cost = pyo.value(model.objective)"
   ]
  },
  {
   "cell_type": "code",
   "execution_count": null,
   "id": "f9add7dd",
   "metadata": {
    "ExecuteTime": {
     "end_time": "2023-10-14T12:20:06.378905Z",
     "start_time": "2023-10-14T12:20:06.378905Z"
    }
   },
   "outputs": [],
   "source": [
    "print(\"Active Power Production:\", active_power)\n",
    "print(\"Reactive Power Production:\", reactive_power)\n",
    "print(\"Voltage Amplitudes:\", voltage_amplitudes)\n",
    "print(\"Voltage Angles:\", voltage_angles)\n",
    "print(\"Total Cost of Production:\", total_cost)"
   ]
  },
  {
   "cell_type": "code",
   "execution_count": null,
   "id": "8b3e0004",
   "metadata": {
    "ExecuteTime": {
     "end_time": "2023-10-14T12:20:06.378905Z",
     "start_time": "2023-10-14T12:20:06.378905Z"
    }
   },
   "outputs": [],
   "source": [
    "model.pprint()"
   ]
  }
 ],
 "metadata": {
  "kernelspec": {
   "display_name": "spyder",
   "language": "python",
   "name": "spyder"
  },
  "language_info": {
   "codemirror_mode": {
    "name": "ipython",
    "version": 3
   },
   "file_extension": ".py",
   "mimetype": "text/x-python",
   "name": "python",
   "nbconvert_exporter": "python",
   "pygments_lexer": "ipython3",
   "version": "3.11.3"
  },
  "toc": {
   "base_numbering": 1,
   "nav_menu": {},
   "number_sections": true,
   "sideBar": true,
   "skip_h1_title": false,
   "title_cell": "Table of Contents",
   "title_sidebar": "Contents",
   "toc_cell": false,
   "toc_position": {},
   "toc_section_display": true,
   "toc_window_display": false
  }
 },
 "nbformat": 4,
 "nbformat_minor": 5
}
