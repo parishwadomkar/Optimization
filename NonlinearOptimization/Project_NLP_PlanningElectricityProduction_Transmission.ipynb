{
 "cells": [
  {
   "cell_type": "code",
   "execution_count": 1,
   "id": "f77926db",
   "metadata": {
    "ExecuteTime": {
     "end_time": "2023-10-01T18:00:34.838679Z",
     "start_time": "2023-10-01T18:00:33.995050Z"
    }
   },
   "outputs": [],
   "source": [
    "import pyomo.environ as pyo \n",
    "from pyomo.environ import *\n",
    "from pyomo.opt import SolverFactory\n",
    "import math \n",
    "import pandas as pd\n",
    "import os\n",
    "os.chdir('C:\\\\Users\\\\omkarp\\\\Downloads\\\\Optimize\\\\')"
   ]
  },
  {
   "cell_type": "markdown",
   "id": "e141fc31",
   "metadata": {},
   "source": [
    "# Project: Planning of electricity production and transmission"
   ]
  },
  {
   "cell_type": "markdown",
   "id": "7784a110",
   "metadata": {},
   "source": [
    "1. Formulate a model minimizing the cost of production of active power\n",
    "\n",
    "**Parameters for the model:**\n",
    "\n",
    "- Nodes (k,l) -ranging from 1 to 11 over transmission grid network\n",
    "- Shunt admittance on edges:   $b_{kl}$ and $g_{kl}$ between nodes\n",
    "- Generator Max Capacity (pu):  $G_{ki}$ with i for Generator number ranging from 1 to 9, and k for node location\n",
    "- Generator Energy production cost (SEK/pu):  $GEcost_{ki}$ with i for Gen.no. ranging from 1 to 9, and k for node location\n",
    "- Consumer Demand for Active Power: $C_{li}$ with i for Consumer number ranging from 1 to 7, and l for node location\n"
   ]
  },
  {
   "cell_type": "markdown",
   "id": "cbcef171",
   "metadata": {},
   "source": [
    "## Get data"
   ]
  },
  {
   "cell_type": "code",
   "execution_count": 2,
   "id": "5439c37a",
   "metadata": {
    "ExecuteTime": {
     "end_time": "2023-10-01T18:00:35.200743Z",
     "start_time": "2023-10-01T18:00:34.839684Z"
    }
   },
   "outputs": [
    {
     "data": {
      "text/html": [
       "<div>\n",
       "<style scoped>\n",
       "    .dataframe tbody tr th:only-of-type {\n",
       "        vertical-align: middle;\n",
       "    }\n",
       "\n",
       "    .dataframe tbody tr th {\n",
       "        vertical-align: top;\n",
       "    }\n",
       "\n",
       "    .dataframe thead th {\n",
       "        text-align: right;\n",
       "    }\n",
       "</style>\n",
       "<table border=\"1\" class=\"dataframe\">\n",
       "  <thead>\n",
       "    <tr style=\"text-align: right;\">\n",
       "      <th></th>\n",
       "      <th>Edge(kl)</th>\n",
       "      <th>bkl</th>\n",
       "      <th>gkl</th>\n",
       "      <th>k</th>\n",
       "      <th>l</th>\n",
       "    </tr>\n",
       "  </thead>\n",
       "  <tbody>\n",
       "    <tr>\n",
       "      <th>0</th>\n",
       "      <td>1_2</td>\n",
       "      <td>-20.1</td>\n",
       "      <td>4.12</td>\n",
       "      <td>1</td>\n",
       "      <td>2</td>\n",
       "    </tr>\n",
       "    <tr>\n",
       "      <th>1</th>\n",
       "      <td>1_11</td>\n",
       "      <td>-22.3</td>\n",
       "      <td>5.67</td>\n",
       "      <td>1</td>\n",
       "      <td>11</td>\n",
       "    </tr>\n",
       "    <tr>\n",
       "      <th>2</th>\n",
       "      <td>2_3</td>\n",
       "      <td>-16.8</td>\n",
       "      <td>2.41</td>\n",
       "      <td>2</td>\n",
       "      <td>3</td>\n",
       "    </tr>\n",
       "    <tr>\n",
       "      <th>3</th>\n",
       "      <td>2_11</td>\n",
       "      <td>-17.2</td>\n",
       "      <td>2.78</td>\n",
       "      <td>2</td>\n",
       "      <td>11</td>\n",
       "    </tr>\n",
       "    <tr>\n",
       "      <th>4</th>\n",
       "      <td>3_4</td>\n",
       "      <td>-11.7</td>\n",
       "      <td>1.98</td>\n",
       "      <td>3</td>\n",
       "      <td>4</td>\n",
       "    </tr>\n",
       "  </tbody>\n",
       "</table>\n",
       "</div>"
      ],
      "text/plain": [
       "  Edge(kl)   bkl   gkl  k   l\n",
       "0      1_2 -20.1  4.12  1   2\n",
       "1     1_11 -22.3  5.67  1  11\n",
       "2      2_3 -16.8  2.41  2   3\n",
       "3     2_11 -17.2  2.78  2  11\n",
       "4      3_4 -11.7  1.98  3   4"
      ]
     },
     "execution_count": 2,
     "metadata": {},
     "output_type": "execute_result"
    }
   ],
   "source": [
    "shunt_data = pd.read_excel('Project.xlsx', sheet_name='shunt')\n",
    "shunt_data[['k', 'l']] = shunt_data['Edge(kl)'].str.split('_', expand=True)\n",
    "shunt_data['k'] = shunt_data['k'].astype(int)\n",
    "shunt_data['l'] = shunt_data['l'].astype(int)\n",
    "shunt_data.head()"
   ]
  },
  {
   "cell_type": "code",
   "execution_count": 3,
   "id": "edeee66a",
   "metadata": {
    "ExecuteTime": {
     "end_time": "2023-10-01T18:00:35.226130Z",
     "start_time": "2023-10-01T18:00:35.201765Z"
    }
   },
   "outputs": [
    {
     "name": "stdout",
     "output_type": "stream",
     "text": [
      "[0.1, 0.19, 0.11, 0.09, 0.21, 0.05, 0.04]\n"
     ]
    },
    {
     "data": {
      "text/html": [
       "<div>\n",
       "<style scoped>\n",
       "    .dataframe tbody tr th:only-of-type {\n",
       "        vertical-align: middle;\n",
       "    }\n",
       "\n",
       "    .dataframe tbody tr th {\n",
       "        vertical-align: top;\n",
       "    }\n",
       "\n",
       "    .dataframe thead th {\n",
       "        text-align: right;\n",
       "    }\n",
       "</style>\n",
       "<table border=\"1\" class=\"dataframe\">\n",
       "  <thead>\n",
       "    <tr style=\"text-align: right;\">\n",
       "      <th></th>\n",
       "      <th>Generator</th>\n",
       "      <th>node</th>\n",
       "      <th>MaxCapacity</th>\n",
       "      <th>Energy_prod_cost</th>\n",
       "    </tr>\n",
       "  </thead>\n",
       "  <tbody>\n",
       "    <tr>\n",
       "      <th>0</th>\n",
       "      <td>G1</td>\n",
       "      <td>2</td>\n",
       "      <td>0.02</td>\n",
       "      <td>175</td>\n",
       "    </tr>\n",
       "    <tr>\n",
       "      <th>1</th>\n",
       "      <td>G2</td>\n",
       "      <td>2</td>\n",
       "      <td>0.15</td>\n",
       "      <td>100</td>\n",
       "    </tr>\n",
       "    <tr>\n",
       "      <th>2</th>\n",
       "      <td>G3</td>\n",
       "      <td>2</td>\n",
       "      <td>0.08</td>\n",
       "      <td>150</td>\n",
       "    </tr>\n",
       "    <tr>\n",
       "      <th>3</th>\n",
       "      <td>G4</td>\n",
       "      <td>3</td>\n",
       "      <td>0.07</td>\n",
       "      <td>150</td>\n",
       "    </tr>\n",
       "    <tr>\n",
       "      <th>4</th>\n",
       "      <td>G5</td>\n",
       "      <td>4</td>\n",
       "      <td>0.04</td>\n",
       "      <td>300</td>\n",
       "    </tr>\n",
       "  </tbody>\n",
       "</table>\n",
       "</div>"
      ],
      "text/plain": [
       "  Generator  node  MaxCapacity  Energy_prod_cost\n",
       "0        G1     2         0.02               175\n",
       "1        G2     2         0.15               100\n",
       "2        G3     2         0.08               150\n",
       "3        G4     3         0.07               150\n",
       "4        G5     4         0.04               300"
      ]
     },
     "execution_count": 3,
     "metadata": {},
     "output_type": "execute_result"
    }
   ],
   "source": [
    "generator_data = pd.read_excel('Project.xlsx', sheet_name='generator')\n",
    "consumer_data = pd.read_excel('Project.xlsx', sheet_name='consumer')\n",
    "print([consumer_data.Demand_active_power[i] for i in consumer_data.index])\n",
    "generator_data.head()"
   ]
  },
  {
   "cell_type": "code",
   "execution_count": 4,
   "id": "63ceb26a",
   "metadata": {
    "ExecuteTime": {
     "end_time": "2023-10-01T18:00:35.240642Z",
     "start_time": "2023-10-01T18:00:35.227137Z"
    }
   },
   "outputs": [
    {
     "data": {
      "text/html": [
       "<div>\n",
       "<style scoped>\n",
       "    .dataframe tbody tr th:only-of-type {\n",
       "        vertical-align: middle;\n",
       "    }\n",
       "\n",
       "    .dataframe tbody tr th {\n",
       "        vertical-align: top;\n",
       "    }\n",
       "\n",
       "    .dataframe thead th {\n",
       "        text-align: right;\n",
       "    }\n",
       "</style>\n",
       "<table border=\"1\" class=\"dataframe\">\n",
       "  <thead>\n",
       "    <tr style=\"text-align: right;\">\n",
       "      <th></th>\n",
       "      <th>Consumer</th>\n",
       "      <th>node</th>\n",
       "      <th>Demand_active_power</th>\n",
       "    </tr>\n",
       "  </thead>\n",
       "  <tbody>\n",
       "    <tr>\n",
       "      <th>0</th>\n",
       "      <td>C1</td>\n",
       "      <td>1</td>\n",
       "      <td>0.10</td>\n",
       "    </tr>\n",
       "    <tr>\n",
       "      <th>1</th>\n",
       "      <td>C2</td>\n",
       "      <td>4</td>\n",
       "      <td>0.19</td>\n",
       "    </tr>\n",
       "    <tr>\n",
       "      <th>2</th>\n",
       "      <td>C3</td>\n",
       "      <td>6</td>\n",
       "      <td>0.11</td>\n",
       "    </tr>\n",
       "    <tr>\n",
       "      <th>3</th>\n",
       "      <td>C4</td>\n",
       "      <td>8</td>\n",
       "      <td>0.09</td>\n",
       "    </tr>\n",
       "    <tr>\n",
       "      <th>4</th>\n",
       "      <td>C5</td>\n",
       "      <td>9</td>\n",
       "      <td>0.21</td>\n",
       "    </tr>\n",
       "  </tbody>\n",
       "</table>\n",
       "</div>"
      ],
      "text/plain": [
       "  Consumer  node  Demand_active_power\n",
       "0       C1     1                 0.10\n",
       "1       C2     4                 0.19\n",
       "2       C3     6                 0.11\n",
       "3       C4     8                 0.09\n",
       "4       C5     9                 0.21"
      ]
     },
     "execution_count": 4,
     "metadata": {},
     "output_type": "execute_result"
    }
   ],
   "source": [
    "powerplant = pd.read_excel('Project.xlsx', sheet_name='PowerPlant') # not used\n",
    "consumer_data.head()"
   ]
  },
  {
   "cell_type": "markdown",
   "id": "adba7951",
   "metadata": {},
   "source": [
    "## **MappIng nodes - edges to generators and consumers and power-plants for the model:**"
   ]
  },
  {
   "cell_type": "code",
   "execution_count": 5,
   "id": "93448d77",
   "metadata": {
    "ExecuteTime": {
     "end_time": "2023-10-01T18:00:35.246291Z",
     "start_time": "2023-10-01T18:00:35.240642Z"
    }
   },
   "outputs": [],
   "source": [
    "node_to_edges = {}\n",
    "node_to_generators = {}\n",
    "node_to_consumers = {}\n",
    "\n",
    "connections = {\n",
    "    1: [2, 11],\n",
    "    2: [1, 3, 11],\n",
    "    3: [2, 4, 9],\n",
    "    4: [3, 5],\n",
    "    5: [4, 6, 8],\n",
    "    6: [5, 7],\n",
    "    7: [6, 8, 9],\n",
    "    8: [5, 7, 9],\n",
    "    9: [10, 3, 8, 7],\n",
    "    10: [9, 11],\n",
    "    11: [1, 2, 10]\n",
    "}\n",
    "for node, connected_nodes in connections.items():\n",
    "    node_to_edges[node] = connected_nodes\n",
    "    \n",
    "node_to_consumers[1] = ['C1']                 # Node 1\n",
    "node_to_generators[2] = ['G1', 'G2', 'G3']    # Node 2\n",
    "node_to_generators[3] = ['G4']                # Node 3\n",
    "node_to_generators[4] = ['G5', 'C2']          # Node 4\n",
    "node_to_consumers[5] = ['G6']\n",
    "node_to_generators[6] = ['C3']                # Node 6\n",
    "node_to_consumers[7] = ['G7']                 # Node 7\n",
    "node_to_generators[8] = ['C4']                # Node 8\n",
    "node_to_consumers[9] = ['C5','G8', 'G9']      # Node 9\n",
    "node_to_generators[10] = ['C6']                # Node 10\n",
    "node_to_consumers[11] = ['C7']                # Node 11"
   ]
  },
  {
   "cell_type": "code",
   "execution_count": 6,
   "id": "95538abc",
   "metadata": {
    "ExecuteTime": {
     "end_time": "2023-10-01T18:00:35.251401Z",
     "start_time": "2023-10-01T18:00:35.247288Z"
    }
   },
   "outputs": [
    {
     "name": "stdout",
     "output_type": "stream",
     "text": [
      "Edges for Node 9: [10, 3, 8, 7]\n",
      "Consumers for Node 9: ['C5', 'G8', 'G9']\n"
     ]
    }
   ],
   "source": [
    "node = 9\n",
    "if node in node_to_edges:\n",
    "    edges = node_to_edges[node]\n",
    "    print(f\"Edges for Node {node}: {edges}\")\n",
    "\n",
    "if node in node_to_generators:\n",
    "    generators = node_to_generators[node]\n",
    "    print(f\"Generators for Node {node}: {generators}\")\n",
    "\n",
    "if node in node_to_consumers:\n",
    "    consumers = node_to_consumers[node]\n",
    "    print(f\"Consumers for Node {node}: {consumers}\")"
   ]
  },
  {
   "cell_type": "code",
   "execution_count": 7,
   "id": "589bd7e1",
   "metadata": {
    "ExecuteTime": {
     "end_time": "2023-10-01T18:00:35.256403Z",
     "start_time": "2023-10-01T18:00:35.253404Z"
    }
   },
   "outputs": [],
   "source": [
    "model = pyo.ConcreteModel()"
   ]
  },
  {
   "cell_type": "markdown",
   "id": "e1075e1e",
   "metadata": {},
   "source": [
    "### Setting model parameters"
   ]
  },
  {
   "cell_type": "code",
   "execution_count": 8,
   "id": "85925287",
   "metadata": {
    "ExecuteTime": {
     "end_time": "2023-10-01T18:00:35.263208Z",
     "start_time": "2023-10-01T18:00:35.258403Z"
    }
   },
   "outputs": [],
   "source": [
    "# Sets\n",
    "node_indices = [1, 2, 3, 4, 5, 6, 7, 8, 9, 10, 11]\n",
    "model.NODE = pyo.Set(initialize=node_indices)\n",
    "\n",
    "generator_indices = {name: idx for idx, name in enumerate(generator_data['Generator'])} # initialize as integer indices\n",
    "model.GENERATOR = pyo.Set(initialize=generator_indices.values())\n",
    "\n",
    "consumer_indices = {name: idx for idx, name in enumerate(['C1', 'C2', 'C3', 'C4', 'C5', 'C6', 'C7'])}\n",
    "model.CONSUMERINDEX = pyo.Set(initialize=consumer_indices.values())"
   ]
  },
  {
   "cell_type": "code",
   "execution_count": 9,
   "id": "4bc918a2",
   "metadata": {
    "ExecuteTime": {
     "end_time": "2023-10-01T18:00:35.271657Z",
     "start_time": "2023-10-01T18:00:35.265216Z"
    }
   },
   "outputs": [
    {
     "name": "stdout",
     "output_type": "stream",
     "text": [
      "Max Capacity for Generator 1 = 0.02 pu\n",
      "Max Capacity for Generator 2 = 0.15 pu\n",
      "Max Capacity for Generator 3 = 0.08 pu\n",
      "Max Capacity for Generator 4 = 0.07 pu\n",
      "Max Capacity for Generator 5 = 0.04 pu\n",
      "Max Capacity for Generator 6 = 0.17 pu\n",
      "Max Capacity for Generator 7 = 0.17 pu\n",
      "Max Capacity for Generator 8 = 0.26 pu\n",
      "Max Capacity for Generator 9 = 0.05 pu\n"
     ]
    }
   ],
   "source": [
    "# Parameters: Generator\n",
    "max_capacity_values = {}\n",
    "energy_cost_values = {}\n",
    "generator_location = {}\n",
    "\n",
    "for generator in generator_data.iterrows():\n",
    "    generator_name = generator[1]['Generator']\n",
    "    generator_idx = generator_indices[generator_name]  # integer index\n",
    "    node_location = generator[1]['node']\n",
    "    max_capacity = generator[1]['MaxCapacity']\n",
    "    max_capacity_values[generator_idx] = max_capacity\n",
    "    generator_location[generator_idx] = node_location\n",
    "    \n",
    "for generator in generator_data.iterrows():\n",
    "    generator_name = generator[1]['Generator']\n",
    "    generator_idx = generator_indices[generator_name] \n",
    "    energy_cost = generator[1]['Energy_prod_cost']\n",
    "    energy_cost_values[generator_idx] = energy_cost\n",
    "    \n",
    "model.max_capacity = pyo.Param(model.GENERATOR, initialize=max_capacity_values)\n",
    "model.cost = pyo.Param(model.GENERATOR, initialize=energy_cost_values)\n",
    "\n",
    "generator_location_values = {generator_idx: node_location for generator_idx, node_location in generator_location.items()}\n",
    "model.generator_location = pyo.Param(model.GENERATOR, initialize=generator_location_values)\n",
    "\n",
    "for generator in model.GENERATOR:\n",
    "    max_capacity_value = model.max_capacity[generator]\n",
    "    print(f'Max Capacity for Generator {generator+1} = {max_capacity_value} pu')"
   ]
  },
  {
   "cell_type": "code",
   "execution_count": 10,
   "id": "1fc92b00",
   "metadata": {
    "ExecuteTime": {
     "end_time": "2023-10-01T18:00:35.279569Z",
     "start_time": "2023-10-01T18:00:35.274672Z"
    }
   },
   "outputs": [
    {
     "name": "stdout",
     "output_type": "stream",
     "text": [
      "Demand active power for Consumer 1 = 0.1 pu\n",
      "Demand active power for Consumer 2 = 0.19 pu\n",
      "Demand active power for Consumer 3 = 0.11 pu\n",
      "Demand active power for Consumer 4 = 0.09 pu\n",
      "Demand active power for Consumer 5 = 0.21 pu\n",
      "Demand active power for Consumer 6 = 0.05 pu\n",
      "Demand active power for Consumer 7 = 0.04 pu\n"
     ]
    }
   ],
   "source": [
    "# Parameters: Consumers\n",
    "demand_values = {}\n",
    "consumer_location = {}\n",
    "\n",
    "for consumer in consumer_data.iterrows():\n",
    "    consumer_name = consumer[1]['Consumer']\n",
    "    node_location = consumer[1]['node']\n",
    "    demand = consumer[1]['Demand_active_power']\n",
    "    consumer_idx = consumer_indices[consumer_name]\n",
    "    demand_values[consumer_idx] = demand\n",
    "    consumer_location[consumer_idx] = node_location\n",
    "    \n",
    "model.demand = pyo.Param(model.CONSUMERINDEX, initialize=demand_values)\n",
    "model.consumer_location = pyo.Param(model.CONSUMERINDEX, initialize=consumer_location)\n",
    "\n",
    "for consumer in model.CONSUMERINDEX:\n",
    "    demand_value = model.demand[consumer]\n",
    "    print(f'Demand active power for Consumer {consumer+1} = {demand_value} pu')"
   ]
  },
  {
   "cell_type": "code",
   "execution_count": 11,
   "id": "3d918dfb",
   "metadata": {
    "ExecuteTime": {
     "end_time": "2023-10-01T18:00:35.295351Z",
     "start_time": "2023-10-01T18:00:35.280582Z"
    }
   },
   "outputs": [],
   "source": [
    "# Parameters for Shunt Admittance\n",
    "bkl_values = {}\n",
    "gkl_values = {}\n",
    "\n",
    "for k, connected_nodes in node_to_edges.items():\n",
    "    for l in connected_nodes:\n",
    "        if k != l:\n",
    "            matching_rows = shunt_data[(shunt_data['k'] == k) & (shunt_data['l'] == l)]\n",
    "            if not matching_rows.empty:\n",
    "                gkl = matching_rows['gkl'].values[0]\n",
    "                bkl = matching_rows['bkl'].values[0]\n",
    "                gkl_values[(k, l)] = gkl\n",
    "                gkl_values[(l, k)] = gkl\n",
    "                bkl_values[(k, l)] = bkl\n",
    "                bkl_values[(l, k)] = bkl\n",
    "\n",
    "model.bkl = Param(model.NODE, model.NODE, initialize=bkl_values)\n",
    "model.gkl = Param(model.NODE, model.NODE, initialize=gkl_values)"
   ]
  },
  {
   "cell_type": "code",
   "execution_count": 12,
   "id": "96023fd9",
   "metadata": {
    "ExecuteTime": {
     "end_time": "2023-10-01T18:00:35.299883Z",
     "start_time": "2023-10-01T18:00:35.296362Z"
    }
   },
   "outputs": [
    {
     "name": "stdout",
     "output_type": "stream",
     "text": [
      "gkl[1, 2] = 4.12\n",
      "gkl[2, 1] = 4.12\n",
      "gkl[3, 2] = 2.41\n",
      "gkl[4, 3] = 1.98\n",
      "gkl[5, 4] = 1.59\n",
      "gkl[6, 5] = 1.71\n",
      "gkl[7, 6] = 1.11\n",
      "gkl[8, 5] = 1.26\n",
      "gkl[9, 10] = 2.14\n",
      "gkl[10, 9] = 2.14\n",
      "gkl[11, 1] = 5.67\n"
     ]
    }
   ],
   "source": [
    "for k, connected_nodes in node_to_edges.items():\n",
    "    for l in connected_nodes:\n",
    "        if (k, l) in model.gkl:\n",
    "            gkl_value = model.gkl[k, l]\n",
    "            print(f'gkl[{k}, {l}] = {gkl_value}')\n",
    "            break"
   ]
  },
  {
   "cell_type": "markdown",
   "id": "465e6de1",
   "metadata": {},
   "source": [
    "## Set variables"
   ]
  },
  {
   "cell_type": "markdown",
   "id": "4508e403",
   "metadata": {
    "tags": []
   },
   "source": [
    "**Variables for the model:**\n",
    "\n",
    "- Voltage Amplitude ($v_{k}$ for each node k) between 0.98 and 1.00\n",
    "- Voltage angles ($\\theta_{k}$ for each node k) between pi and -pi (radians)\n",
    "- Power flows for active ($p.var_{k}$ for each node k) and for reactive ($q.var_{k}$ for each node k)\n",
    "- Generated active and reactive power by each generator"
   ]
  },
  {
   "cell_type": "code",
   "execution_count": 13,
   "id": "0f206927",
   "metadata": {
    "ExecuteTime": {
     "end_time": "2023-10-01T18:00:35.308463Z",
     "start_time": "2023-10-01T18:00:35.301894Z"
    }
   },
   "outputs": [],
   "source": [
    "model.v = pyo.Var(model.NODE, within=NonNegativeReals, bounds=(0.98, 1.02))  # voltage amplitudes\n",
    "model.theta = pyo.Var(model.NODE, bounds=(-math.pi, math.pi))  # voltage angle (in radians)\n",
    "\n",
    "#active and reactive power flow for each edge (between nodes k and l)\n",
    "model.p_var = pyo.Var(model.NODE, model.NODE, within=pyo.Reals)  # active\n",
    "model.q_var = pyo.Var(model.NODE, model.NODE, within=pyo.Reals)\n",
    "\n",
    "# bounds for active and reactive power\n",
    "for k in model.NODE:\n",
    "    for l in model.NODE:\n",
    "        if k != l:\n",
    "            model.p_var[k, l].setlb(0.0)\n",
    "            model.q_var[k, l].setlb(-0.003 * max_capacity_value)\n",
    "            model.q_var[k, l].setub(0.003 * max_capacity_value)"
   ]
  },
  {
   "cell_type": "code",
   "execution_count": 14,
   "id": "8e6b299b",
   "metadata": {
    "ExecuteTime": {
     "end_time": "2023-10-01T18:00:35.313993Z",
     "start_time": "2023-10-01T18:00:35.309468Z"
    }
   },
   "outputs": [],
   "source": [
    "# For each generator\n",
    "model.active_power = pyo.Var(model.GENERATOR, within=pyo.NonNegativeReals, bounds=(0, model.max_capacity))\n",
    "\n",
    "def reactive_power_bounds(model, generator):\n",
    "    max_capacity = model.max_capacity[generator]\n",
    "    return (-0.003 * max_capacity, 0.003 * max_capacity)\n",
    "model.reactive_power = pyo.Var(model.GENERATOR, bounds=reactive_power_bounds)"
   ]
  },
  {
   "cell_type": "markdown",
   "id": "61072bd5",
   "metadata": {},
   "source": [
    "## Set Constraints"
   ]
  },
  {
   "cell_type": "markdown",
   "id": "f2e71869",
   "metadata": {},
   "source": [
    "### **Amount of active power flow (p_var) between nodes**"
   ]
  },
  {
   "cell_type": "markdown",
   "id": "0f3da1bf-2008-425c-a74c-535462e4dd80",
   "metadata": {},
   "source": [
    "$$\\begin{aligned}\n",
    "p_{kℓ} = (v_k)^2 * g_{kℓ} − v_k * v_ℓ * g_{kℓ} * cos(θ_k − θ_ℓ) − v_k * v_ℓ * b_{kℓ} * sin(θ_k − θ_ℓ)\n",
    "\\end{aligned}$$"
   ]
  },
  {
   "cell_type": "code",
   "execution_count": 15,
   "id": "0c244353-14f4-4407-8fdb-eb655a3bc1b0",
   "metadata": {
    "ExecuteTime": {
     "end_time": "2023-10-01T18:00:35.320466Z",
     "start_time": "2023-10-01T18:00:35.314999Z"
    }
   },
   "outputs": [],
   "source": [
    "def active_power_flow_rule(model, k, l):\n",
    "    if (k, l) in model.gkl:\n",
    "        return model.p_var[k, l] == (model.v[k] ** 2) * model.gkl[k, l] - model.v[k] * model.v[l] * model.gkl[k, l] * pyo.cos(model.theta[k] - model.theta[l]) - model.v[k] * model.v[l] * model.bkl[k, l] * pyo.sin(model.theta[k] - model.theta[l])\n",
    "    else:\n",
    "        return pyo.Constraint.Skip # ifedge (k, l) does not exist\n",
    "\n",
    "model.active_power_flow_constraint = pyo.Constraint(model.NODE, model.NODE, rule=active_power_flow_rule)"
   ]
  },
  {
   "cell_type": "markdown",
   "id": "c7fa7760-7145-4080-b560-145a548b951e",
   "metadata": {},
   "source": [
    "### **Amount of reactive power flow (q_var) between nodes**"
   ]
  },
  {
   "cell_type": "markdown",
   "id": "ef99b10c-8f31-4c89-a21e-eca0fda7d2ed",
   "metadata": {},
   "source": [
    "$$\\begin{aligned}\n",
    "q_{kℓ} = -(v_k)^2 * b_{kℓ} + v_k * v_ℓ * b_{kℓ} * cos(θ_k − θ_ℓ) − v_k * v_ℓ * g_{kℓ} * sin(θ_k − θ_ℓ)\n",
    "\\end{aligned}$$"
   ]
  },
  {
   "cell_type": "code",
   "execution_count": 16,
   "id": "60f1a453-bb73-445c-9d50-59baf958904e",
   "metadata": {
    "ExecuteTime": {
     "end_time": "2023-10-01T18:00:35.328216Z",
     "start_time": "2023-10-01T18:00:35.321474Z"
    }
   },
   "outputs": [],
   "source": [
    "def reactive_power_flow_rule(model, k, l):\n",
    "    if (k, l) in model.bkl:\n",
    "        return model.q_var[k, l] == - (model.v[k] ** 2) * model.bkl[k, l] + model.v[k] * model.v[l] * model.bkl[k, l] * pyo.cos(model.theta[k] - model.theta[l]) - model.v[k] * model.v[l] * model.gkl[k, l] * pyo.sin(model.theta[k] - model.theta[l])\n",
    "    else:\n",
    "        return pyo.Constraint.Skip\n",
    "\n",
    "model.reactive_power_flow_constraint = pyo.Constraint(model.NODE, model.NODE, rule=reactive_power_flow_rule)"
   ]
  },
  {
   "cell_type": "markdown",
   "id": "03c711a2-9e4f-4f1b-b436-15c1d22cad2f",
   "metadata": {},
   "source": [
    "### **Power Balance: generation and consumption (at each node)**"
   ]
  },
  {
   "cell_type": "markdown",
   "id": "95dd767a-f9b6-4569-80de-316704a3915a",
   "metadata": {},
   "source": [
    "$$\\begin{aligned}\n",
    "\\text{PowerGeneration}=\\text{PowerConsumption....(at each node)}  \n",
    "\\end{aligned}$$"
   ]
  },
  {
   "cell_type": "code",
   "execution_count": 17,
   "id": "90abfcb8-e08a-455a-879a-be8306ab8246",
   "metadata": {
    "ExecuteTime": {
     "end_time": "2023-10-01T18:00:35.334936Z",
     "start_time": "2023-10-01T18:00:35.330226Z"
    }
   },
   "outputs": [],
   "source": [
    "def active_power_balance_rule(model, k):    #  total active power injection at node k\n",
    "    total_active_power_injection = (\n",
    "        sum(model.p_var[k, l] for l in node_to_edges[k]) - \n",
    "        sum(model.p_var[l, k] for l in node_to_edges[k]) +\n",
    "        sum(model.max_capacity[g] * model.active_power[g]\n",
    "            for g in model.GENERATOR if model.generator_location[g] == k)\n",
    "    )\n",
    "    if k in model.consumer_location.values(): # total active power demand at node k\n",
    "        total_active_power_demand = sum(model.demand[c] for c in model.CONSUMERINDEX if model.consumer_location[c] == k)\n",
    "    else:\n",
    "        total_active_power_demand = 0.0\n",
    "    return total_active_power_injection == total_active_power_demand     # active power balance at node k\n",
    "\n",
    "model.active_power_balance_constraint = pyo.Constraint([k for k in model.NODE], rule=active_power_balance_rule)"
   ]
  },
  {
   "cell_type": "code",
   "execution_count": 18,
   "id": "ba0f8ee0",
   "metadata": {
    "ExecuteTime": {
     "end_time": "2023-10-01T18:00:35.339134Z",
     "start_time": "2023-10-01T18:00:35.335947Z"
    }
   },
   "outputs": [
    {
     "name": "stdout",
     "output_type": "stream",
     "text": [
      "0.02\n",
      "0\n",
      "1\n",
      "2\n",
      "3\n",
      "4\n",
      "5\n",
      "6\n",
      "7\n",
      "8\n"
     ]
    }
   ],
   "source": [
    "generator= 0\n",
    "print(model.max_capacity[generator])\n",
    "for generator in model.max_capacity: print(generator)"
   ]
  },
  {
   "cell_type": "code",
   "execution_count": 19,
   "id": "ab79da17",
   "metadata": {
    "ExecuteTime": {
     "end_time": "2023-10-01T18:00:35.349768Z",
     "start_time": "2023-10-01T18:00:35.340143Z"
    }
   },
   "outputs": [],
   "source": [
    "# total reactive power injection at node k\n",
    "def reactive_power_balance_rule(model, k):\n",
    "    total_reactive_power_injection = (\n",
    "        sum(model.q_var[k, l] for l in node_to_edges[k]) - \n",
    "        sum(model.q_var[l, k] for l in node_to_edges[k]) +\n",
    "        sum((model.v[k]**2) * (model.bkl[k, l] - model.gkl[k, l] * pyo.cos(model.theta[k] - model.theta[l]))\n",
    "            for l in node_to_edges[k])\n",
    "    )\n",
    "    return total_reactive_power_injection == 0.0  #  reactive power balance at node k\n",
    "\n",
    "model.reactive_power_balance_constraint = pyo.Constraint([k for k in model.NODE], rule=reactive_power_balance_rule)"
   ]
  },
  {
   "cell_type": "markdown",
   "id": "6571095c",
   "metadata": {},
   "source": [
    "## Set Objective Function"
   ]
  },
  {
   "cell_type": "markdown",
   "id": "6b1a5605",
   "metadata": {},
   "source": [
    "**To minimize the cost of total active power generated for consumption:**\n",
    "\n",
    "$$\\begin{aligned}\n",
    "Minimize\\ (Cost_{activePower})\n",
    "\\end{aligned}$$\n"
   ]
  },
  {
   "cell_type": "code",
   "execution_count": 20,
   "id": "e7e28ed3",
   "metadata": {
    "ExecuteTime": {
     "end_time": "2023-10-01T18:00:35.354586Z",
     "start_time": "2023-10-01T18:00:35.350764Z"
    }
   },
   "outputs": [],
   "source": [
    "def objective_rule(model):\n",
    "    objective_value = sum(\n",
    "        model.cost[g] * model.active_power[g]\n",
    "        for g in model.GENERATOR\n",
    "    )\n",
    "    return objective_value\n",
    "\n",
    "model.objective = pyo.Objective(rule=objective_rule, sense=pyo.minimize)"
   ]
  },
  {
   "cell_type": "code",
   "execution_count": 21,
   "id": "4952129e",
   "metadata": {
    "ExecuteTime": {
     "end_time": "2023-10-01T18:00:36.183625Z",
     "start_time": "2023-10-01T18:00:35.355584Z"
    }
   },
   "outputs": [
    {
     "ename": "TypeError",
     "evalue": "Cannot compute the value of an indexed Param (max_capacity)",
     "output_type": "error",
     "traceback": [
      "\u001b[1;31m---------------------------------------------------------------------------\u001b[0m",
      "\u001b[1;31mTypeError\u001b[0m                                 Traceback (most recent call last)",
      "Cell \u001b[1;32mIn[21], line 2\u001b[0m\n\u001b[0;32m      1\u001b[0m solver \u001b[38;5;241m=\u001b[39m SolverFactory(\u001b[38;5;124m'\u001b[39m\u001b[38;5;124mipopt\u001b[39m\u001b[38;5;124m'\u001b[39m, executable\u001b[38;5;241m=\u001b[39m\u001b[38;5;124m'\u001b[39m\u001b[38;5;124mC:\u001b[39m\u001b[38;5;130;01m\\\\\u001b[39;00m\u001b[38;5;124mipopt\u001b[39m\u001b[38;5;130;01m\\\\\u001b[39;00m\u001b[38;5;124mbin\u001b[39m\u001b[38;5;130;01m\\\\\u001b[39;00m\u001b[38;5;124mipopt.exe\u001b[39m\u001b[38;5;124m'\u001b[39m)\n\u001b[1;32m----> 2\u001b[0m \u001b[43msolver\u001b[49m\u001b[38;5;241;43m.\u001b[39;49m\u001b[43msolve\u001b[49m\u001b[43m(\u001b[49m\u001b[43mmodel\u001b[49m\u001b[43m)\u001b[49m\n",
      "File \u001b[1;32m~\\AppData\\Local\\anaconda3\\envs\\spyder\\Lib\\site-packages\\pyomo\\opt\\base\\solvers.py:570\u001b[0m, in \u001b[0;36mOptSolver.solve\u001b[1;34m(self, *args, **kwds)\u001b[0m\n\u001b[0;32m    565\u001b[0m \u001b[38;5;28;01mtry\u001b[39;00m:\n\u001b[0;32m    566\u001b[0m \n\u001b[0;32m    567\u001b[0m     \u001b[38;5;66;03m# we're good to go.\u001b[39;00m\n\u001b[0;32m    568\u001b[0m     initial_time \u001b[38;5;241m=\u001b[39m time\u001b[38;5;241m.\u001b[39mtime()\n\u001b[1;32m--> 570\u001b[0m     \u001b[38;5;28;43mself\u001b[39;49m\u001b[38;5;241;43m.\u001b[39;49m\u001b[43m_presolve\u001b[49m\u001b[43m(\u001b[49m\u001b[38;5;241;43m*\u001b[39;49m\u001b[43margs\u001b[49m\u001b[43m,\u001b[49m\u001b[43m \u001b[49m\u001b[38;5;241;43m*\u001b[39;49m\u001b[38;5;241;43m*\u001b[39;49m\u001b[43mkwds\u001b[49m\u001b[43m)\u001b[49m\n\u001b[0;32m    572\u001b[0m     presolve_completion_time \u001b[38;5;241m=\u001b[39m time\u001b[38;5;241m.\u001b[39mtime()\n\u001b[0;32m    573\u001b[0m     \u001b[38;5;28;01mif\u001b[39;00m \u001b[38;5;28mself\u001b[39m\u001b[38;5;241m.\u001b[39m_report_timing:\n",
      "File \u001b[1;32m~\\AppData\\Local\\anaconda3\\envs\\spyder\\Lib\\site-packages\\pyomo\\opt\\solver\\shellcmd.py:219\u001b[0m, in \u001b[0;36mSystemCallSolver._presolve\u001b[1;34m(self, *args, **kwds)\u001b[0m\n\u001b[0;32m    216\u001b[0m \u001b[38;5;28mself\u001b[39m\u001b[38;5;241m.\u001b[39m_keepfiles \u001b[38;5;241m=\u001b[39m kwds\u001b[38;5;241m.\u001b[39mpop(\u001b[38;5;124m\"\u001b[39m\u001b[38;5;124mkeepfiles\u001b[39m\u001b[38;5;124m\"\u001b[39m, \u001b[38;5;28;01mFalse\u001b[39;00m)\n\u001b[0;32m    217\u001b[0m \u001b[38;5;28mself\u001b[39m\u001b[38;5;241m.\u001b[39m_define_signal_handlers \u001b[38;5;241m=\u001b[39m kwds\u001b[38;5;241m.\u001b[39mpop(\u001b[38;5;124m'\u001b[39m\u001b[38;5;124muse_signal_handling\u001b[39m\u001b[38;5;124m'\u001b[39m,\u001b[38;5;28;01mNone\u001b[39;00m)\n\u001b[1;32m--> 219\u001b[0m \u001b[43mOptSolver\u001b[49m\u001b[38;5;241;43m.\u001b[39;49m\u001b[43m_presolve\u001b[49m\u001b[43m(\u001b[49m\u001b[38;5;28;43mself\u001b[39;49m\u001b[43m,\u001b[49m\u001b[43m \u001b[49m\u001b[38;5;241;43m*\u001b[39;49m\u001b[43margs\u001b[49m\u001b[43m,\u001b[49m\u001b[43m \u001b[49m\u001b[38;5;241;43m*\u001b[39;49m\u001b[38;5;241;43m*\u001b[39;49m\u001b[43mkwds\u001b[49m\u001b[43m)\u001b[49m\n\u001b[0;32m    221\u001b[0m \u001b[38;5;66;03m#\u001b[39;00m\n\u001b[0;32m    222\u001b[0m \u001b[38;5;66;03m# Verify that the input problems exists\u001b[39;00m\n\u001b[0;32m    223\u001b[0m \u001b[38;5;66;03m#\u001b[39;00m\n\u001b[0;32m    224\u001b[0m \u001b[38;5;28;01mfor\u001b[39;00m filename \u001b[38;5;129;01min\u001b[39;00m \u001b[38;5;28mself\u001b[39m\u001b[38;5;241m.\u001b[39m_problem_files:\n",
      "File \u001b[1;32m~\\AppData\\Local\\anaconda3\\envs\\spyder\\Lib\\site-packages\\pyomo\\opt\\base\\solvers.py:667\u001b[0m, in \u001b[0;36mOptSolver._presolve\u001b[1;34m(self, *args, **kwds)\u001b[0m\n\u001b[0;32m    664\u001b[0m \u001b[38;5;28;01mif\u001b[39;00m \u001b[38;5;28mself\u001b[39m\u001b[38;5;241m.\u001b[39m_problem_format:\n\u001b[0;32m    665\u001b[0m     write_start_time \u001b[38;5;241m=\u001b[39m time\u001b[38;5;241m.\u001b[39mtime()\n\u001b[0;32m    666\u001b[0m     (\u001b[38;5;28mself\u001b[39m\u001b[38;5;241m.\u001b[39m_problem_files, \u001b[38;5;28mself\u001b[39m\u001b[38;5;241m.\u001b[39m_problem_format, \u001b[38;5;28mself\u001b[39m\u001b[38;5;241m.\u001b[39m_smap_id) \u001b[38;5;241m=\u001b[39m \\\n\u001b[1;32m--> 667\u001b[0m         \u001b[38;5;28;43mself\u001b[39;49m\u001b[38;5;241;43m.\u001b[39;49m\u001b[43m_convert_problem\u001b[49m\u001b[43m(\u001b[49m\u001b[43margs\u001b[49m\u001b[43m,\u001b[49m\n\u001b[0;32m    668\u001b[0m \u001b[43m                              \u001b[49m\u001b[38;5;28;43mself\u001b[39;49m\u001b[38;5;241;43m.\u001b[39;49m\u001b[43m_problem_format\u001b[49m\u001b[43m,\u001b[49m\n\u001b[0;32m    669\u001b[0m \u001b[43m                              \u001b[49m\u001b[38;5;28;43mself\u001b[39;49m\u001b[38;5;241;43m.\u001b[39;49m\u001b[43m_valid_problem_formats\u001b[49m\u001b[43m,\u001b[49m\n\u001b[0;32m    670\u001b[0m \u001b[43m                              \u001b[49m\u001b[38;5;241;43m*\u001b[39;49m\u001b[38;5;241;43m*\u001b[39;49m\u001b[43mkwds\u001b[49m\u001b[43m)\u001b[49m\n\u001b[0;32m    671\u001b[0m     total_time \u001b[38;5;241m=\u001b[39m time\u001b[38;5;241m.\u001b[39mtime() \u001b[38;5;241m-\u001b[39m write_start_time\n\u001b[0;32m    672\u001b[0m     \u001b[38;5;28;01mif\u001b[39;00m \u001b[38;5;28mself\u001b[39m\u001b[38;5;241m.\u001b[39m_report_timing:\n",
      "File \u001b[1;32m~\\AppData\\Local\\anaconda3\\envs\\spyder\\Lib\\site-packages\\pyomo\\opt\\base\\solvers.py:718\u001b[0m, in \u001b[0;36mOptSolver._convert_problem\u001b[1;34m(self, args, problem_format, valid_problem_formats, **kwds)\u001b[0m\n\u001b[0;32m    713\u001b[0m \u001b[38;5;28;01mdef\u001b[39;00m \u001b[38;5;21m_convert_problem\u001b[39m(\u001b[38;5;28mself\u001b[39m,\n\u001b[0;32m    714\u001b[0m                      args,\n\u001b[0;32m    715\u001b[0m                      problem_format,\n\u001b[0;32m    716\u001b[0m                      valid_problem_formats,\n\u001b[0;32m    717\u001b[0m                      \u001b[38;5;241m*\u001b[39m\u001b[38;5;241m*\u001b[39mkwds):\n\u001b[1;32m--> 718\u001b[0m     \u001b[38;5;28;01mreturn\u001b[39;00m \u001b[43mconvert_problem\u001b[49m\u001b[43m(\u001b[49m\u001b[43margs\u001b[49m\u001b[43m,\u001b[49m\n\u001b[0;32m    719\u001b[0m \u001b[43m                           \u001b[49m\u001b[43mproblem_format\u001b[49m\u001b[43m,\u001b[49m\n\u001b[0;32m    720\u001b[0m \u001b[43m                           \u001b[49m\u001b[43mvalid_problem_formats\u001b[49m\u001b[43m,\u001b[49m\n\u001b[0;32m    721\u001b[0m \u001b[43m                           \u001b[49m\u001b[38;5;28;43mself\u001b[39;49m\u001b[38;5;241;43m.\u001b[39;49m\u001b[43mhas_capability\u001b[49m\u001b[43m,\u001b[49m\n\u001b[0;32m    722\u001b[0m \u001b[43m                           \u001b[49m\u001b[38;5;241;43m*\u001b[39;49m\u001b[38;5;241;43m*\u001b[39;49m\u001b[43mkwds\u001b[49m\u001b[43m)\u001b[49m\n",
      "File \u001b[1;32m~\\AppData\\Local\\anaconda3\\envs\\spyder\\Lib\\site-packages\\pyomo\\opt\\base\\convert.py:101\u001b[0m, in \u001b[0;36mconvert_problem\u001b[1;34m(args, target_problem_type, valid_problem_types, has_capability, **kwds)\u001b[0m\n\u001b[0;32m     99\u001b[0m                 tmpkw \u001b[38;5;241m=\u001b[39m kwds\n\u001b[0;32m    100\u001b[0m                 tmpkw[\u001b[38;5;124m'\u001b[39m\u001b[38;5;124mcapabilities\u001b[39m\u001b[38;5;124m'\u001b[39m] \u001b[38;5;241m=\u001b[39m has_capability\n\u001b[1;32m--> 101\u001b[0m                 problem_files, symbol_map \u001b[38;5;241m=\u001b[39m \u001b[43mconverter\u001b[49m\u001b[38;5;241;43m.\u001b[39;49m\u001b[43mapply\u001b[49m\u001b[43m(\u001b[49m\u001b[38;5;241;43m*\u001b[39;49m\u001b[43mtmp\u001b[49m\u001b[43m,\u001b[49m\u001b[43m \u001b[49m\u001b[38;5;241;43m*\u001b[39;49m\u001b[38;5;241;43m*\u001b[39;49m\u001b[43mtmpkw\u001b[49m\u001b[43m)\u001b[49m\n\u001b[0;32m    102\u001b[0m                 \u001b[38;5;28;01mreturn\u001b[39;00m problem_files, ptype, symbol_map\n\u001b[0;32m    104\u001b[0m msg \u001b[38;5;241m=\u001b[39m \u001b[38;5;124m'\u001b[39m\u001b[38;5;124mNo conversion possible.  Source problem type: \u001b[39m\u001b[38;5;132;01m%s\u001b[39;00m\u001b[38;5;124m.  Valid target \u001b[39m\u001b[38;5;124m'\u001b[39m  \\\n\u001b[0;32m    105\u001b[0m       \u001b[38;5;124m'\u001b[39m\u001b[38;5;124mtypes: \u001b[39m\u001b[38;5;132;01m%s\u001b[39;00m\u001b[38;5;124m'\u001b[39m\n",
      "File \u001b[1;32m~\\AppData\\Local\\anaconda3\\envs\\spyder\\Lib\\site-packages\\pyomo\\solvers\\plugins\\converter\\model.py:187\u001b[0m, in \u001b[0;36mPyomoMIPConverter.apply\u001b[1;34m(self, *args, **kwds)\u001b[0m\n\u001b[0;32m    179\u001b[0m         symbol_map_id \u001b[38;5;241m=\u001b[39m instance\u001b[38;5;241m.\u001b[39mwrite(\n\u001b[0;32m    180\u001b[0m             problem_filename,\n\u001b[0;32m    181\u001b[0m             \u001b[38;5;28mformat\u001b[39m\u001b[38;5;241m=\u001b[39margs[\u001b[38;5;241m1\u001b[39m],\n\u001b[1;32m   (...)\u001b[0m\n\u001b[0;32m    184\u001b[0m             \u001b[38;5;241m*\u001b[39m\u001b[38;5;241m*\u001b[39mio_options\n\u001b[0;32m    185\u001b[0m         )\n\u001b[0;32m    186\u001b[0m     \u001b[38;5;28;01melse\u001b[39;00m:\n\u001b[1;32m--> 187\u001b[0m         (problem_filename, symbol_map_id) \u001b[38;5;241m=\u001b[39m \u001b[43minstance\u001b[49m\u001b[38;5;241;43m.\u001b[39;49m\u001b[43mwrite\u001b[49m\u001b[43m(\u001b[49m\n\u001b[0;32m    188\u001b[0m \u001b[43m            \u001b[49m\u001b[43mfilename\u001b[49m\u001b[38;5;241;43m=\u001b[39;49m\u001b[43mproblem_filename\u001b[49m\u001b[43m,\u001b[49m\n\u001b[0;32m    189\u001b[0m \u001b[43m            \u001b[49m\u001b[38;5;28;43mformat\u001b[39;49m\u001b[38;5;241;43m=\u001b[39;49m\u001b[43margs\u001b[49m\u001b[43m[\u001b[49m\u001b[38;5;241;43m1\u001b[39;49m\u001b[43m]\u001b[49m\u001b[43m,\u001b[49m\n\u001b[0;32m    190\u001b[0m \u001b[43m            \u001b[49m\u001b[43msolver_capability\u001b[49m\u001b[38;5;241;43m=\u001b[39;49m\u001b[43mcapabilities\u001b[49m\u001b[43m,\u001b[49m\n\u001b[0;32m    191\u001b[0m \u001b[43m            \u001b[49m\u001b[43mio_options\u001b[49m\u001b[38;5;241;43m=\u001b[39;49m\u001b[43mio_options\u001b[49m\u001b[43m,\u001b[49m\n\u001b[0;32m    192\u001b[0m \u001b[43m        \u001b[49m\u001b[43m)\u001b[49m\n\u001b[0;32m    193\u001b[0m     \u001b[38;5;28;01mreturn\u001b[39;00m (problem_filename,), symbol_map_id\n\u001b[0;32m    194\u001b[0m \u001b[38;5;28;01melse\u001b[39;00m:\n\u001b[0;32m    195\u001b[0m \n\u001b[0;32m    196\u001b[0m     \u001b[38;5;66;03m#\u001b[39;00m\n\u001b[1;32m   (...)\u001b[0m\n\u001b[0;32m    200\u001b[0m     \u001b[38;5;66;03m# arguments that can be sent to the writer?\u001b[39;00m\n\u001b[0;32m    201\u001b[0m     \u001b[38;5;66;03m#\u001b[39;00m\n",
      "File \u001b[1;32m~\\AppData\\Local\\anaconda3\\envs\\spyder\\Lib\\site-packages\\pyomo\\core\\base\\block.py:2016\u001b[0m, in \u001b[0;36m_BlockData.write\u001b[1;34m(self, filename, format, solver_capability, io_options)\u001b[0m\n\u001b[0;32m   2014\u001b[0m \u001b[38;5;28;01mif\u001b[39;00m solver_capability \u001b[38;5;129;01mis\u001b[39;00m \u001b[38;5;28;01mNone\u001b[39;00m:\n\u001b[0;32m   2015\u001b[0m     \u001b[38;5;28;01mdef\u001b[39;00m \u001b[38;5;21msolver_capability\u001b[39m(x): \u001b[38;5;28;01mreturn\u001b[39;00m \u001b[38;5;28;01mTrue\u001b[39;00m\n\u001b[1;32m-> 2016\u001b[0m (filename, smap) \u001b[38;5;241m=\u001b[39m \u001b[43mproblem_writer\u001b[49m\u001b[43m(\u001b[49m\u001b[38;5;28;43mself\u001b[39;49m\u001b[43m,\u001b[49m\n\u001b[0;32m   2017\u001b[0m \u001b[43m                                  \u001b[49m\u001b[43mfilename\u001b[49m\u001b[43m,\u001b[49m\n\u001b[0;32m   2018\u001b[0m \u001b[43m                                  \u001b[49m\u001b[43msolver_capability\u001b[49m\u001b[43m,\u001b[49m\n\u001b[0;32m   2019\u001b[0m \u001b[43m                                  \u001b[49m\u001b[43mio_options\u001b[49m\u001b[43m)\u001b[49m\n\u001b[0;32m   2020\u001b[0m smap_id \u001b[38;5;241m=\u001b[39m \u001b[38;5;28mid\u001b[39m(smap)\n\u001b[0;32m   2021\u001b[0m \u001b[38;5;28;01mif\u001b[39;00m \u001b[38;5;129;01mnot\u001b[39;00m \u001b[38;5;28mhasattr\u001b[39m(\u001b[38;5;28mself\u001b[39m, \u001b[38;5;124m'\u001b[39m\u001b[38;5;124msolutions\u001b[39m\u001b[38;5;124m'\u001b[39m):\n\u001b[0;32m   2022\u001b[0m     \u001b[38;5;66;03m# This is a bit of a hack.  The write() method was moved\u001b[39;00m\n\u001b[0;32m   2023\u001b[0m     \u001b[38;5;66;03m# here from PyomoModel to support the solution of arbitrary\u001b[39;00m\n\u001b[1;32m   (...)\u001b[0m\n\u001b[0;32m   2028\u001b[0m     \u001b[38;5;66;03m# dependency (we only need it here because we store the\u001b[39;00m\n\u001b[0;32m   2029\u001b[0m     \u001b[38;5;66;03m# SymbolMap returned by the writer in the solutions).\u001b[39;00m\n",
      "File \u001b[1;32m~\\AppData\\Local\\anaconda3\\envs\\spyder\\Lib\\site-packages\\pyomo\\repn\\plugins\\nl_writer.py:339\u001b[0m, in \u001b[0;36mNLWriter.__call__\u001b[1;34m(self, model, filename, solver_capability, io_options)\u001b[0m\n\u001b[0;32m    335\u001b[0m     _open \u001b[38;5;241m=\u001b[39m nullcontext\n\u001b[0;32m    336\u001b[0m \u001b[38;5;28;01mwith\u001b[39;00m \u001b[38;5;28mopen\u001b[39m(filename, \u001b[38;5;124m'\u001b[39m\u001b[38;5;124mw\u001b[39m\u001b[38;5;124m'\u001b[39m, newline\u001b[38;5;241m=\u001b[39m\u001b[38;5;124m'\u001b[39m\u001b[38;5;124m'\u001b[39m) \u001b[38;5;28;01mas\u001b[39;00m FILE, _open(\n\u001b[0;32m    337\u001b[0m     row_fname\n\u001b[0;32m    338\u001b[0m ) \u001b[38;5;28;01mas\u001b[39;00m ROWFILE, _open(col_fname) \u001b[38;5;28;01mas\u001b[39;00m COLFILE:\n\u001b[1;32m--> 339\u001b[0m     info \u001b[38;5;241m=\u001b[39m \u001b[38;5;28;43mself\u001b[39;49m\u001b[38;5;241;43m.\u001b[39;49m\u001b[43mwrite\u001b[49m\u001b[43m(\u001b[49m\u001b[43mmodel\u001b[49m\u001b[43m,\u001b[49m\u001b[43m \u001b[49m\u001b[43mFILE\u001b[49m\u001b[43m,\u001b[49m\u001b[43m \u001b[49m\u001b[43mROWFILE\u001b[49m\u001b[43m,\u001b[49m\u001b[43m \u001b[49m\u001b[43mCOLFILE\u001b[49m\u001b[43m,\u001b[49m\u001b[43m \u001b[49m\u001b[43mconfig\u001b[49m\u001b[38;5;241;43m=\u001b[39;49m\u001b[43mconfig\u001b[49m\u001b[43m)\u001b[49m\n\u001b[0;32m    340\u001b[0m \u001b[38;5;66;03m# Historically, the NL writer communicated the external function\u001b[39;00m\n\u001b[0;32m    341\u001b[0m \u001b[38;5;66;03m# libraries back to the ASL interface through the PYOMO_AMPLFUNC\u001b[39;00m\n\u001b[0;32m    342\u001b[0m \u001b[38;5;66;03m# environment variable.\u001b[39;00m\n\u001b[0;32m    343\u001b[0m set_pyomo_amplfunc_env(info\u001b[38;5;241m.\u001b[39mexternal_function_libraries)\n",
      "File \u001b[1;32m~\\AppData\\Local\\anaconda3\\envs\\spyder\\Lib\\site-packages\\pyomo\\repn\\plugins\\nl_writer.py:382\u001b[0m, in \u001b[0;36mNLWriter.write\u001b[1;34m(self, model, ostream, rowstream, colstream, **options)\u001b[0m\n\u001b[0;32m    378\u001b[0m \u001b[38;5;66;03m# Pause the GC, as the walker that generates the compiled NL\u001b[39;00m\n\u001b[0;32m    379\u001b[0m \u001b[38;5;66;03m# representation generates (and disposes of) a large number of\u001b[39;00m\n\u001b[0;32m    380\u001b[0m \u001b[38;5;66;03m# small objects.\u001b[39;00m\n\u001b[0;32m    381\u001b[0m \u001b[38;5;28;01mwith\u001b[39;00m _NLWriter_impl(ostream, rowstream, colstream, config) \u001b[38;5;28;01mas\u001b[39;00m impl:\n\u001b[1;32m--> 382\u001b[0m     \u001b[38;5;28;01mreturn\u001b[39;00m \u001b[43mimpl\u001b[49m\u001b[38;5;241;43m.\u001b[39;49m\u001b[43mwrite\u001b[49m\u001b[43m(\u001b[49m\u001b[43mmodel\u001b[49m\u001b[43m)\u001b[49m\n",
      "File \u001b[1;32m~\\AppData\\Local\\anaconda3\\envs\\spyder\\Lib\\site-packages\\pyomo\\repn\\plugins\\nl_writer.py:944\u001b[0m, in \u001b[0;36m_NLWriter_impl.write\u001b[1;34m(self, model)\u001b[0m\n\u001b[0;32m    942\u001b[0m \u001b[38;5;28;01mfor\u001b[39;00m idx, _id \u001b[38;5;129;01min\u001b[39;00m \u001b[38;5;28menumerate\u001b[39m(variables):\n\u001b[0;32m    943\u001b[0m     v \u001b[38;5;241m=\u001b[39m var_map[_id]\n\u001b[1;32m--> 944\u001b[0m     lb, ub \u001b[38;5;241m=\u001b[39m \u001b[43mv\u001b[49m\u001b[38;5;241;43m.\u001b[39;49m\u001b[43mbounds\u001b[49m\n\u001b[0;32m    945\u001b[0m     \u001b[38;5;28;01mif\u001b[39;00m lb \u001b[38;5;241m==\u001b[39m minus_inf:\n\u001b[0;32m    946\u001b[0m         lb \u001b[38;5;241m=\u001b[39m \u001b[38;5;28;01mNone\u001b[39;00m\n",
      "File \u001b[1;32m~\\AppData\\Local\\anaconda3\\envs\\spyder\\Lib\\site-packages\\pyomo\\core\\base\\var.py:425\u001b[0m, in \u001b[0;36m_GeneralVarData.bounds\u001b[1;34m(self)\u001b[0m\n\u001b[0;32m    423\u001b[0m ub \u001b[38;5;241m=\u001b[39m \u001b[38;5;28mself\u001b[39m\u001b[38;5;241m.\u001b[39m_ub\n\u001b[0;32m    424\u001b[0m \u001b[38;5;28;01mif\u001b[39;00m ub\u001b[38;5;241m.\u001b[39m\u001b[38;5;18m__class__\u001b[39m \u001b[38;5;129;01mnot\u001b[39;00m \u001b[38;5;129;01min\u001b[39;00m native_types:\n\u001b[1;32m--> 425\u001b[0m     ub \u001b[38;5;241m=\u001b[39m \u001b[43mub\u001b[49m\u001b[43m(\u001b[49m\u001b[43m)\u001b[49m\n\u001b[0;32m    426\u001b[0m \u001b[38;5;28;01mif\u001b[39;00m domain_bounds[\u001b[38;5;241m1\u001b[39m] \u001b[38;5;129;01mis\u001b[39;00m \u001b[38;5;129;01mnot\u001b[39;00m \u001b[38;5;28;01mNone\u001b[39;00m:\n\u001b[0;32m    427\u001b[0m     ub \u001b[38;5;241m=\u001b[39m \u001b[38;5;28mmin\u001b[39m(ub, domain_bounds[\u001b[38;5;241m1\u001b[39m])\n",
      "File \u001b[1;32m~\\AppData\\Local\\anaconda3\\envs\\spyder\\Lib\\site-packages\\pyomo\\core\\base\\param.py:890\u001b[0m, in \u001b[0;36mIndexedParam.__call__\u001b[1;34m(self, exception)\u001b[0m\n\u001b[0;32m    888\u001b[0m \u001b[38;5;250m\u001b[39m\u001b[38;5;124;03m\"\"\"Compute the value of the parameter\"\"\"\u001b[39;00m\n\u001b[0;32m    889\u001b[0m \u001b[38;5;28;01mif\u001b[39;00m exception:\n\u001b[1;32m--> 890\u001b[0m     \u001b[38;5;28;01mraise\u001b[39;00m \u001b[38;5;167;01mTypeError\u001b[39;00m(\u001b[38;5;124m'\u001b[39m\u001b[38;5;124mCannot compute the value of an indexed Param (\u001b[39m\u001b[38;5;132;01m%s\u001b[39;00m\u001b[38;5;124m)\u001b[39m\u001b[38;5;124m'\u001b[39m\n\u001b[0;32m    891\u001b[0m                     \u001b[38;5;241m%\u001b[39m (\u001b[38;5;28mself\u001b[39m\u001b[38;5;241m.\u001b[39mname,) )\n",
      "\u001b[1;31mTypeError\u001b[0m: Cannot compute the value of an indexed Param (max_capacity)"
     ]
    }
   ],
   "source": [
    "solver = SolverFactory('ipopt', executable='C:\\\\ipopt\\\\bin\\\\ipopt.exe')\n",
    "solver.solve(model)"
   ]
  },
  {
   "cell_type": "markdown",
   "id": "e29d00fe",
   "metadata": {},
   "source": [
    "## Results"
   ]
  },
  {
   "cell_type": "code",
   "execution_count": null,
   "id": "69727949",
   "metadata": {
    "ExecuteTime": {
     "end_time": "2023-10-01T18:00:36.184632Z",
     "start_time": "2023-10-01T18:00:36.184632Z"
    }
   },
   "outputs": [],
   "source": [
    "active_power = {k: pyo.value(model.active_power[k]) for i in model.GENERATOR}\n",
    "reactive_power = {k: pyo.value(model.reactive_power[k]) for i in model.GENERATOR}\n",
    "voltage_amplitudes = {k: pyo.value(model.v[k]) for i in model.NODE}\n",
    "voltage_angles = {k: pyo.value(model.theta[k]) for i in model.NODE}\n",
    "total_cost = pyo.value(model.objective)"
   ]
  },
  {
   "cell_type": "code",
   "execution_count": null,
   "id": "f9add7dd",
   "metadata": {
    "ExecuteTime": {
     "end_time": "2023-10-01T18:00:36.185632Z",
     "start_time": "2023-10-01T18:00:36.185632Z"
    }
   },
   "outputs": [],
   "source": [
    "print(\"Active Power Production:\", active_power)\n",
    "print(\"Reactive Power Production:\", reactive_power)\n",
    "print(\"Voltage Amplitudes:\", voltage_amplitudes)\n",
    "print(\"Voltage Angles:\", voltage_angles)\n",
    "print(\"Total Cost of Production:\", total_cost)"
   ]
  },
  {
   "cell_type": "code",
   "execution_count": null,
   "id": "8b3e0004",
   "metadata": {
    "ExecuteTime": {
     "end_time": "2023-10-01T18:00:36.185632Z",
     "start_time": "2023-10-01T18:00:36.185632Z"
    }
   },
   "outputs": [],
   "source": [
    "model.pprint()"
   ]
  }
 ],
 "metadata": {
  "kernelspec": {
   "display_name": "spyder",
   "language": "python",
   "name": "spyder"
  },
  "language_info": {
   "codemirror_mode": {
    "name": "ipython",
    "version": 3
   },
   "file_extension": ".py",
   "mimetype": "text/x-python",
   "name": "python",
   "nbconvert_exporter": "python",
   "pygments_lexer": "ipython3",
   "version": "3.11.3"
  },
  "toc": {
   "base_numbering": 1,
   "nav_menu": {},
   "number_sections": true,
   "sideBar": true,
   "skip_h1_title": false,
   "title_cell": "Table of Contents",
   "title_sidebar": "Contents",
   "toc_cell": false,
   "toc_position": {},
   "toc_section_display": true,
   "toc_window_display": false
  }
 },
 "nbformat": 4,
 "nbformat_minor": 5
}
